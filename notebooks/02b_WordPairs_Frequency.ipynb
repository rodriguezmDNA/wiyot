{
 "cells": [
  {
   "cell_type": "code",
   "execution_count": 2,
   "id": "516237b1",
   "metadata": {
    "ExecuteTime": {
     "end_time": "2021-09-10T03:15:32.851681Z",
     "start_time": "2021-09-10T03:15:30.287000Z"
    }
   },
   "outputs": [],
   "source": [
    "import pandas as pd\n",
    "import matplotlib.pyplot as plt\n",
    "import seaborn as sns\n",
    "import collections"
   ]
  },
  {
   "cell_type": "code",
   "execution_count": 3,
   "id": "d93726bf",
   "metadata": {
    "ExecuteTime": {
     "end_time": "2021-09-10T03:15:38.318411Z",
     "start_time": "2021-09-10T03:15:33.004071Z"
    }
   },
   "outputs": [
    {
     "name": "stderr",
     "output_type": "stream",
     "text": [
      "/Users/leonjdaeim/opt/miniconda3/envs/EDA/lib/python3.9/site-packages/openpyxl/worksheet/_reader.py:312: UserWarning: Unknown extension is not supported and will be removed\n",
      "  warn(msg)\n"
     ]
    }
   ],
   "source": [
    "kroeber = pd.read_excel(f'../data/Kroeber texts.xlsx',None)\n",
    "reichard = pd.read_excel(f'../data/Reichard texts.xlsx',None)\n",
    "teeter = pd.read_excel(f'../data/Teeter texts.xlsx',None)"
   ]
  },
  {
   "cell_type": "code",
   "execution_count": null,
   "id": "bdaef990",
   "metadata": {
    "ExecuteTime": {
     "end_time": "2021-09-09T23:55:25.066398Z",
     "start_time": "2021-09-09T23:55:25.062254Z"
    }
   },
   "outputs": [],
   "source": [
    "# crow = wiyotData['Crow']\n",
    "# skunk = wiyotData['Crow']\n",
    "# pelican = wiyotData['Pelican']"
   ]
  },
  {
   "cell_type": "code",
   "execution_count": 4,
   "id": "c4eddbc6",
   "metadata": {
    "ExecuteTime": {
     "end_time": "2021-09-10T03:15:46.614755Z",
     "start_time": "2021-09-10T03:15:46.595546Z"
    }
   },
   "outputs": [],
   "source": [
    "def processLine(x):\n",
    "    try:\n",
    "        x = '\\t'.join(x.dropna()).split('\\t')\n",
    "        return x\n",
    "    except:\n",
    "        return None\n",
    "    \n",
    "getlowercase = lambda x: x if x.isupper() else x.lower()    \n",
    "\n",
    "def getWordPairs(phrase):\n",
    "    wordpairlist = []\n",
    "    for i in range(0,len(phrase)-1):\n",
    "        wordpairlist.append('|'.join([phrase[i],phrase[i+1]]))\n",
    "    return wordpairlist\n",
    "\n",
    "def countFrequencyWordPairs(listofwordpairs):\n",
    "    try:\n",
    "        return collections.Counter(listofwordpairs[:])\n",
    "    except:\n",
    "        return None"
   ]
  },
  {
   "cell_type": "code",
   "execution_count": 5,
   "id": "ee6a9781",
   "metadata": {
    "ExecuteTime": {
     "end_time": "2021-09-10T03:20:23.784368Z",
     "start_time": "2021-09-10T03:20:23.776557Z"
    }
   },
   "outputs": [],
   "source": [
    "_isna = lambda x: x.isna()\n",
    "\n",
    "## Remove empty lines\n",
    "import re\n",
    "matchEndPeriod = re.compile(r'\\.$')\n",
    "\n",
    "def getWordPairsFromText(data):\n",
    "    try:\n",
    "        ### Remove empty lines\n",
    "        data = data[~data.apply(_isna,0).all(1)]\n",
    "        storyWordPairs = []\n",
    "        for i in range(0,len(data),2):\n",
    "            wiyotPhrase = data.iloc[i]\n",
    "            englishPhrase = data.iloc[i+1]\n",
    "            ####\n",
    "            wiyotPhrase = processLine(wiyotPhrase)\n",
    "            ### Do some extra processing to the english phrase\n",
    "            englishPhrase = processLine(englishPhrase)\n",
    "            #englishPhrase = [getlowercase(x) for x in englishPhrase]\n",
    "            ### Remove EMP = empty, remove periods at the end of gloss\n",
    "            englishPhrase = [getlowercase(matchEndPeriod.sub('',x)) for x in englishPhrase if x !='EMP'] #Remove EMP for empty \n",
    "            ###\n",
    "            wps = getWordPairs(englishPhrase)\n",
    "            storyWordPairs.append(wps)    \n",
    "        storyWordPairs = sum(storyWordPairs,[])    \n",
    "        return storyWordPairs\n",
    "    except:\n",
    "        return []"
   ]
  },
  {
   "cell_type": "code",
   "execution_count": 17,
   "id": "97567ee0",
   "metadata": {},
   "outputs": [
    {
     "data": {
      "text/plain": [
       "['mes', 'ákwi.', 'Hi', 'khá', 'thawól', 'ił.']"
      ]
     },
     "execution_count": 17,
     "metadata": {},
     "output_type": "execute_result"
    }
   ],
   "source": [
    "processLine(wiyotPhrase)"
   ]
  },
  {
   "cell_type": "code",
   "execution_count": null,
   "id": "f8ede1d5",
   "metadata": {},
   "outputs": [],
   "source": []
  },
  {
   "cell_type": "code",
   "execution_count": null,
   "id": "3ab2623e",
   "metadata": {},
   "outputs": [],
   "source": []
  },
  {
   "cell_type": "code",
   "execution_count": null,
   "id": "4d2cb643",
   "metadata": {},
   "outputs": [],
   "source": []
  },
  {
   "cell_type": "code",
   "execution_count": 50,
   "id": "e8a01b2a",
   "metadata": {
    "ExecuteTime": {
     "end_time": "2021-09-10T03:21:03.839853Z",
     "start_time": "2021-09-10T03:21:03.831142Z"
    }
   },
   "outputs": [],
   "source": [
    "def getAllWordPairsFromAuthor(author):\n",
    "    stories_dictionary = dict()\n",
    "    for story, text in author.items():\n",
    "        stories_dictionary[story] = getWordPairsFromText(text)\n",
    "    return sum(stories_dictionary.values(),[])"
   ]
  },
  {
   "cell_type": "code",
   "execution_count": 63,
   "id": "7d3b1657",
   "metadata": {
    "ExecuteTime": {
     "end_time": "2021-09-10T03:21:20.309275Z",
     "start_time": "2021-09-10T03:21:10.964534Z"
    }
   },
   "outputs": [],
   "source": [
    "kroeber_wordpairs = getAllWordPairsFromAuthor(kroeber)\n",
    "reichard_wordpairs = getAllWordPairsFromAuthor(reichard)\n",
    "teeter_wordpairs = getAllWordPairsFromAuthor(teeter)"
   ]
  },
  {
   "cell_type": "markdown",
   "id": "fa51f362",
   "metadata": {},
   "source": [
    "---"
   ]
  },
  {
   "cell_type": "code",
   "execution_count": 64,
   "id": "de37ba58",
   "metadata": {
    "ExecuteTime": {
     "end_time": "2021-09-10T03:29:02.141515Z",
     "start_time": "2021-09-10T03:29:02.137259Z"
    }
   },
   "outputs": [],
   "source": [
    "all_authors_wordpairs = kroeber_wordpairs + reichard_wordpairs + teeter_wordpairs"
   ]
  },
  {
   "cell_type": "code",
   "execution_count": 65,
   "id": "3766e252",
   "metadata": {
    "ExecuteTime": {
     "end_time": "2021-09-10T03:44:40.574437Z",
     "start_time": "2021-09-10T03:44:40.563112Z"
    }
   },
   "outputs": [],
   "source": [
    "all_biword_frequency = countFrequencyWordPairs(all_authors_wordpairs)"
   ]
  },
  {
   "cell_type": "code",
   "execution_count": 66,
   "id": "a21e492b",
   "metadata": {
    "ExecuteTime": {
     "end_time": "2021-09-10T03:58:42.069772Z",
     "start_time": "2021-09-10T03:58:42.056030Z"
    }
   },
   "outputs": [],
   "source": [
    "word_pair_frequency = pd.DataFrame.from_dict(all_biword_frequency,orient='index',columns=['frequency'])"
   ]
  },
  {
   "cell_type": "code",
   "execution_count": 67,
   "id": "e6827df7",
   "metadata": {
    "ExecuteTime": {
     "end_time": "2021-09-10T03:58:47.632636Z",
     "start_time": "2021-09-10T03:58:47.620588Z"
    }
   },
   "outputs": [],
   "source": [
    "word_pair_frequency = word_pair_frequency.reset_index()"
   ]
  },
  {
   "cell_type": "code",
   "execution_count": 68,
   "id": "e08bac0f",
   "metadata": {
    "ExecuteTime": {
     "end_time": "2021-09-10T03:58:52.483990Z",
     "start_time": "2021-09-10T03:58:52.450492Z"
    }
   },
   "outputs": [],
   "source": [
    "word_pair_frequency.insert(0,'word_1',word_pair_frequency['index'].map(lambda x: x.split('|')[0]))\n",
    "word_pair_frequency.insert(1,'word_2',word_pair_frequency['index'].map(lambda x: x.split('|')[1]))"
   ]
  },
  {
   "cell_type": "code",
   "execution_count": 69,
   "id": "a1859545",
   "metadata": {
    "ExecuteTime": {
     "end_time": "2021-09-10T04:00:10.935196Z",
     "start_time": "2021-09-10T04:00:10.857488Z"
    }
   },
   "outputs": [],
   "source": [
    "word_pair_frequency = word_pair_frequency.rename(columns={\"index\":'biword'})\n",
    "word_pair_frequency.to_csv('../results/word_pair_frequency.tsv',sep='\\t',index=None)"
   ]
  },
  {
   "cell_type": "code",
   "execution_count": 70,
   "id": "f69c5ab3",
   "metadata": {
    "ExecuteTime": {
     "end_time": "2021-09-10T05:18:03.929537Z",
     "start_time": "2021-09-10T05:18:03.916088Z"
    }
   },
   "outputs": [],
   "source": [
    "word_pair_frequency.to_clipboard()"
   ]
  },
  {
   "cell_type": "code",
   "execution_count": null,
   "id": "2e22f73f",
   "metadata": {},
   "outputs": [],
   "source": []
  },
  {
   "cell_type": "code",
   "execution_count": null,
   "id": "47b37065",
   "metadata": {},
   "outputs": [],
   "source": []
  },
  {
   "cell_type": "code",
   "execution_count": null,
   "id": "6011a7ba",
   "metadata": {},
   "outputs": [],
   "source": []
  },
  {
   "cell_type": "code",
   "execution_count": null,
   "id": "3b029587",
   "metadata": {},
   "outputs": [],
   "source": []
  },
  {
   "cell_type": "code",
   "execution_count": null,
   "id": "406a703e",
   "metadata": {},
   "outputs": [],
   "source": []
  },
  {
   "cell_type": "code",
   "execution_count": null,
   "id": "1d645fe3",
   "metadata": {},
   "outputs": [],
   "source": []
  },
  {
   "cell_type": "code",
   "execution_count": null,
   "id": "90eaa48b",
   "metadata": {},
   "outputs": [],
   "source": []
  },
  {
   "cell_type": "code",
   "execution_count": null,
   "id": "ed533792",
   "metadata": {},
   "outputs": [],
   "source": []
  },
  {
   "cell_type": "code",
   "execution_count": null,
   "id": "f72fbd68",
   "metadata": {},
   "outputs": [],
   "source": []
  },
  {
   "cell_type": "code",
   "execution_count": null,
   "id": "e51f0911",
   "metadata": {},
   "outputs": [],
   "source": []
  }
 ],
 "metadata": {
  "kernelspec": {
   "display_name": "Python 3 (ipykernel)",
   "language": "python",
   "name": "python3"
  },
  "language_info": {
   "codemirror_mode": {
    "name": "ipython",
    "version": 3
   },
   "file_extension": ".py",
   "mimetype": "text/x-python",
   "name": "python",
   "nbconvert_exporter": "python",
   "pygments_lexer": "ipython3",
   "version": "3.9.6"
  },
  "varInspector": {
   "cols": {
    "lenName": 16,
    "lenType": 16,
    "lenVar": 40
   },
   "kernels_config": {
    "python": {
     "delete_cmd_postfix": "",
     "delete_cmd_prefix": "del ",
     "library": "var_list.py",
     "varRefreshCmd": "print(var_dic_list())"
    },
    "r": {
     "delete_cmd_postfix": ") ",
     "delete_cmd_prefix": "rm(",
     "library": "var_list.r",
     "varRefreshCmd": "cat(var_dic_list()) "
    }
   },
   "types_to_exclude": [
    "module",
    "function",
    "builtin_function_or_method",
    "instance",
    "_Feature"
   ],
   "window_display": false
  }
 },
 "nbformat": 4,
 "nbformat_minor": 5
}
