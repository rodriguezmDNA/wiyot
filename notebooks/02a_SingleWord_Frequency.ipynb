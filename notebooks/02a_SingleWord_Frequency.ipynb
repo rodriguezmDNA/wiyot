{
 "cells": [
  {
   "cell_type": "code",
   "execution_count": 37,
   "id": "49b5933d",
   "metadata": {},
   "outputs": [],
   "source": [
    "import pandas as pd\n",
    "import matplotlib.pyplot as plt\n",
    "import seaborn as sns\n",
    "import collections\n",
    "import pickle as pkl"
   ]
  },
  {
   "cell_type": "code",
   "execution_count": 2,
   "id": "15bf63eb",
   "metadata": {},
   "outputs": [
    {
     "name": "stderr",
     "output_type": "stream",
     "text": [
      "/Users/leonjdaeim/opt/miniconda3/envs/EDA/lib/python3.9/site-packages/openpyxl/worksheet/_reader.py:312: UserWarning: Unknown extension is not supported and will be removed\n",
      "  warn(msg)\n"
     ]
    }
   ],
   "source": [
    "kroeber = pd.read_excel(f'../data/Kroeber texts.xlsx',None)\n",
    "reichard = pd.read_excel(f'../data/Reichard texts.xlsx',None)\n",
    "teeter = pd.read_excel(f'../data/Teeter texts.xlsx',None)"
   ]
  },
  {
   "cell_type": "code",
   "execution_count": 8,
   "id": "e66b312e",
   "metadata": {},
   "outputs": [],
   "source": []
  },
  {
   "cell_type": "code",
   "execution_count": null,
   "id": "064cba42",
   "metadata": {},
   "outputs": [],
   "source": []
  },
  {
   "cell_type": "code",
   "execution_count": 29,
   "id": "3e2fa18b",
   "metadata": {},
   "outputs": [],
   "source": [
    "def processWiyotFormat(data,author,source):\n",
    "    data = data[source]\n",
    "    data = data[~data.apply(_isna,0).all(1)]\n",
    "    alldictionaries = list()\n",
    "    for i in range(0,len(data),2):\n",
    "        wiyotPhrase = data.iloc[i]\n",
    "        englishPhrase = data.iloc[i+1]   \n",
    "        ####\n",
    "        wiyotPhrase = processLine(wiyotPhrase)\n",
    "        ### Do some extra processing to the english phrase\n",
    "        englishPhrase = processLine(englishPhrase)\n",
    "        englishPhrase = [getlowercase(x) for x in englishPhrase]\n",
    "        eng2wiyotDF = pd.DataFrame([englishPhrase,wiyotPhrase]).T    \n",
    "        eng2wiyotDF.columns = ['english','wiyot']\n",
    "        eng2wiyotDF['author'] = author\n",
    "        eng2wiyotDF['source'] = source\n",
    "        alldictionaries.append(eng2wiyotDF)\n",
    "    return alldictionaries\n",
    "\n",
    "def processAuthor(data,author):\n",
    "    dat_englis2wiyot = []\n",
    "    for story in list(data.keys()):\n",
    "        dat_englis2wiyot.append(processWiyotFormat(data,author,story))\n",
    "    dat_english2wiyotDF = pd.concat(sum(dat_englis2wiyot,[]))    \n",
    "    return dat_english2wiyotDF"
   ]
  },
  {
   "cell_type": "code",
   "execution_count": 33,
   "id": "feb8ebbe",
   "metadata": {},
   "outputs": [],
   "source": [
    "kroeber_englis2wiyot = processAuthor(kroeber,'Kroeber')\n",
    "reichard_englis2wiyot = processAuthor(reichard,'Reichard')\n",
    "teeter_englis2wiyot = processAuthor(teeter,'Teeter')"
   ]
  },
  {
   "cell_type": "code",
   "execution_count": 35,
   "id": "951dac32",
   "metadata": {},
   "outputs": [],
   "source": [
    "allDF = pd.concat([kroeber_englis2wiyot,reichard_englis2wiyot,teeter_englis2wiyot])"
   ]
  },
  {
   "cell_type": "code",
   "execution_count": 65,
   "id": "8d471ffe",
   "metadata": {},
   "outputs": [],
   "source": []
  },
  {
   "cell_type": "code",
   "execution_count": 38,
   "id": "e16775ac",
   "metadata": {},
   "outputs": [],
   "source": [
    "pkl.dump(allDF,open('../results/individual_english2wiyottables.pkl','wb'))"
   ]
  },
  {
   "cell_type": "code",
   "execution_count": null,
   "id": "c03f68e2",
   "metadata": {},
   "outputs": [],
   "source": [
    "## Soft remove some sources\n",
    "allDF = allDF[allDF.source!=\"2. Wolf's Home\"] "
   ]
  },
  {
   "cell_type": "code",
   "execution_count": 66,
   "id": "36c4b60d",
   "metadata": {},
   "outputs": [],
   "source": [
    "pkl.dump(allDF,open('../results/individual_english2wiyottables_clean.pkl','wb'))"
   ]
  },
  {
   "cell_type": "code",
   "execution_count": 67,
   "id": "a1e33512",
   "metadata": {},
   "outputs": [],
   "source": [
    "uniqueEnglishWords = list(set(allDF.english))"
   ]
  },
  {
   "cell_type": "code",
   "execution_count": 68,
   "id": "45e48953",
   "metadata": {},
   "outputs": [],
   "source": [
    "eng2wiyot = dict()\n",
    "for engWord in uniqueEnglishWords:\n",
    "    try:\n",
    "        \"\"\"\n",
    "        For each english word, get all the corresponding wiyot words and create a dictionary.\n",
    "        This takes care of differences in spelling\n",
    "        \"\"\"\n",
    "        wiyotMatch = allDF[allDF.english==engWord]['wiyot']\n",
    "        wiyotMatch = list(wiyotMatch)\n",
    "        wiyotMatch = list(set([_.lower() for _ in wiyotMatch]))\n",
    "        eng2wiyot[engWord] = wiyotMatch\n",
    "    except:\n",
    "        print(engWord)"
   ]
  },
  {
   "cell_type": "code",
   "execution_count": 70,
   "id": "46d1dec2",
   "metadata": {},
   "outputs": [],
   "source": [
    "englishWordFreq = allDF['english'].value_counts().reset_index()\n",
    "englishWordFreq.columns = ['word','frequency']"
   ]
  },
  {
   "cell_type": "code",
   "execution_count": 73,
   "id": "2c8d35d7",
   "metadata": {},
   "outputs": [
    {
     "data": {
      "text/html": [
       "<div>\n",
       "<style scoped>\n",
       "    .dataframe tbody tr th:only-of-type {\n",
       "        vertical-align: middle;\n",
       "    }\n",
       "\n",
       "    .dataframe tbody tr th {\n",
       "        vertical-align: top;\n",
       "    }\n",
       "\n",
       "    .dataframe thead th {\n",
       "        text-align: right;\n",
       "    }\n",
       "</style>\n",
       "<table border=\"1\" class=\"dataframe\">\n",
       "  <thead>\n",
       "    <tr style=\"text-align: right;\">\n",
       "      <th></th>\n",
       "      <th>word</th>\n",
       "      <th>frequency</th>\n",
       "    </tr>\n",
       "  </thead>\n",
       "  <tbody>\n",
       "    <tr>\n",
       "      <th>0</th>\n",
       "      <td>PST</td>\n",
       "      <td>1310</td>\n",
       "    </tr>\n",
       "    <tr>\n",
       "      <th>1</th>\n",
       "      <td>PROG</td>\n",
       "      <td>1299</td>\n",
       "    </tr>\n",
       "    <tr>\n",
       "      <th>2</th>\n",
       "      <td>3SBJ.DEF</td>\n",
       "      <td>1286</td>\n",
       "    </tr>\n",
       "    <tr>\n",
       "      <th>3</th>\n",
       "      <td>3SBJ.DEF.</td>\n",
       "      <td>1274</td>\n",
       "    </tr>\n",
       "    <tr>\n",
       "      <th>4</th>\n",
       "      <td>DEM</td>\n",
       "      <td>839</td>\n",
       "    </tr>\n",
       "  </tbody>\n",
       "</table>\n",
       "</div>"
      ],
      "text/plain": [
       "        word  frequency\n",
       "0        PST       1310\n",
       "1       PROG       1299\n",
       "2   3SBJ.DEF       1286\n",
       "3  3SBJ.DEF.       1274\n",
       "4        DEM        839"
      ]
     },
     "execution_count": 73,
     "metadata": {},
     "output_type": "execute_result"
    }
   ],
   "source": [
    "englishWordFreq.head()"
   ]
  },
  {
   "cell_type": "code",
   "execution_count": 75,
   "id": "5f2a9afe",
   "metadata": {},
   "outputs": [],
   "source": [
    "englishWordFreq['WiyotEquivalents'] = englishWordFreq.word.map(eng2wiyot)"
   ]
  },
  {
   "cell_type": "code",
   "execution_count": 77,
   "id": "de367e9e",
   "metadata": {},
   "outputs": [],
   "source": [
    "englishWordFreq.to_csv('../results/word_single_frequency.tsv',sep='\\t',index=None)"
   ]
  },
  {
   "cell_type": "code",
   "execution_count": 78,
   "id": "729cc697",
   "metadata": {},
   "outputs": [],
   "source": [
    "englishWordFreq.to_clipboard()"
   ]
  },
  {
   "cell_type": "code",
   "execution_count": null,
   "id": "5e86fa25",
   "metadata": {},
   "outputs": [],
   "source": []
  }
 ],
 "metadata": {
  "kernelspec": {
   "display_name": "Python 3 (ipykernel)",
   "language": "python",
   "name": "python3"
  },
  "language_info": {
   "codemirror_mode": {
    "name": "ipython",
    "version": 3
   },
   "file_extension": ".py",
   "mimetype": "text/x-python",
   "name": "python",
   "nbconvert_exporter": "python",
   "pygments_lexer": "ipython3",
   "version": "3.7.12"
  },
  "varInspector": {
   "cols": {
    "lenName": 16,
    "lenType": 16,
    "lenVar": 40
   },
   "kernels_config": {
    "python": {
     "delete_cmd_postfix": "",
     "delete_cmd_prefix": "del ",
     "library": "var_list.py",
     "varRefreshCmd": "print(var_dic_list())"
    },
    "r": {
     "delete_cmd_postfix": ") ",
     "delete_cmd_prefix": "rm(",
     "library": "var_list.r",
     "varRefreshCmd": "cat(var_dic_list()) "
    }
   },
   "types_to_exclude": [
    "module",
    "function",
    "builtin_function_or_method",
    "instance",
    "_Feature"
   ],
   "window_display": false
  }
 },
 "nbformat": 4,
 "nbformat_minor": 5
}
