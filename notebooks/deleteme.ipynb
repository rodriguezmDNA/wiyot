{
 "cells": [
  {
   "cell_type": "code",
   "execution_count": 27,
   "id": "e5c82975",
   "metadata": {
    "ExecuteTime": {
     "end_time": "2021-09-08T00:46:55.373426Z",
     "start_time": "2021-09-08T00:46:54.105178Z"
    }
   },
   "outputs": [],
   "source": [
    "import pickle as pkl\n",
    "import pandas as pd\n",
    "import matplotlib.pyplot as plt\n",
    "import seaborn as sns"
   ]
  },
  {
   "cell_type": "code",
   "execution_count": 15,
   "id": "9602c9d2",
   "metadata": {
    "ExecuteTime": {
     "end_time": "2021-09-08T00:40:19.646568Z",
     "start_time": "2021-09-08T00:40:19.583656Z"
    }
   },
   "outputs": [],
   "source": [
    "processedtext = pkl.load(open('../results/individual_english2wiyottables.pkl','rb'))"
   ]
  },
  {
   "cell_type": "code",
   "execution_count": 16,
   "id": "c9b34b32",
   "metadata": {
    "ExecuteTime": {
     "end_time": "2021-09-08T00:40:22.874057Z",
     "start_time": "2021-09-08T00:40:22.842335Z"
    }
   },
   "outputs": [],
   "source": [
    "eng2wiyotDFAll = pd.concat(processedtext)"
   ]
  },
  {
   "cell_type": "code",
   "execution_count": 19,
   "id": "bbf9d496",
   "metadata": {
    "ExecuteTime": {
     "end_time": "2021-09-08T00:40:38.670796Z",
     "start_time": "2021-09-08T00:40:38.666237Z"
    }
   },
   "outputs": [],
   "source": [
    "uniqueEnglishWords = list(set(eng2wiyotDFAll.english))"
   ]
  },
  {
   "cell_type": "code",
   "execution_count": 20,
   "id": "814b2de2",
   "metadata": {
    "ExecuteTime": {
     "end_time": "2021-09-08T00:40:44.304759Z",
     "start_time": "2021-09-08T00:40:44.170877Z"
    }
   },
   "outputs": [],
   "source": [
    "eng2wiyot = dict()\n",
    "for engWord in uniqueEnglishWords:\n",
    "    \"\"\"\n",
    "    For each english word, get all the corresponding wiyot words and create a dictionary.\n",
    "    This takes care of differences in spelling\n",
    "    \"\"\"\n",
    "    wiyotMatch = eng2wiyotDFAll[eng2wiyotDFAll.english==engWord]['wiyot']\n",
    "    wiyotMatch = list(wiyotMatch)\n",
    "    wiyotMatch = list(set([_.lower() for _ in wiyotMatch]))\n",
    "    eng2wiyot[engWord] = wiyotMatch"
   ]
  },
  {
   "cell_type": "code",
   "execution_count": 35,
   "id": "ba570cd6",
   "metadata": {
    "ExecuteTime": {
     "end_time": "2021-09-08T00:49:00.065457Z",
     "start_time": "2021-09-08T00:49:00.054479Z"
    }
   },
   "outputs": [],
   "source": [
    "FreqByAuthor = eng2wiyotDFAll.groupby(['english','author']).size().reset_index().sort_values(0,ascending=False).rename(columns={0:'n'})"
   ]
  },
  {
   "cell_type": "code",
   "execution_count": 25,
   "id": "966a744d",
   "metadata": {
    "ExecuteTime": {
     "end_time": "2021-09-08T00:46:41.824515Z",
     "start_time": "2021-09-08T00:46:41.815316Z"
    }
   },
   "outputs": [],
   "source": [
    "englishWordFreq = eng2wiyotDFAll['english'].value_counts().reset_index()\n",
    "englishWordFreq.columns = ['word','frequency']"
   ]
  },
  {
   "cell_type": "code",
   "execution_count": 38,
   "id": "3c8efada",
   "metadata": {
    "ExecuteTime": {
     "end_time": "2021-09-08T15:40:16.201761Z",
     "start_time": "2021-09-08T15:40:16.174265Z"
    }
   },
   "outputs": [
    {
     "data": {
      "text/html": [
       "<div>\n",
       "<style scoped>\n",
       "    .dataframe tbody tr th:only-of-type {\n",
       "        vertical-align: middle;\n",
       "    }\n",
       "\n",
       "    .dataframe tbody tr th {\n",
       "        vertical-align: top;\n",
       "    }\n",
       "\n",
       "    .dataframe thead th {\n",
       "        text-align: right;\n",
       "    }\n",
       "</style>\n",
       "<table border=\"1\" class=\"dataframe\">\n",
       "  <thead>\n",
       "    <tr style=\"text-align: right;\">\n",
       "      <th></th>\n",
       "      <th>word</th>\n",
       "      <th>frequency</th>\n",
       "    </tr>\n",
       "  </thead>\n",
       "  <tbody>\n",
       "    <tr>\n",
       "      <th>11</th>\n",
       "      <td>coyote</td>\n",
       "      <td>11</td>\n",
       "    </tr>\n",
       "  </tbody>\n",
       "</table>\n",
       "</div>"
      ],
      "text/plain": [
       "      word  frequency\n",
       "11  coyote         11"
      ]
     },
     "execution_count": 38,
     "metadata": {},
     "output_type": "execute_result"
    }
   ],
   "source": [
    "englishWordFreq[englishWordFreq.word == 'coyote']"
   ]
  },
  {
   "cell_type": "code",
   "execution_count": 30,
   "id": "dcf916c6",
   "metadata": {
    "ExecuteTime": {
     "end_time": "2021-09-08T00:47:15.768079Z",
     "start_time": "2021-09-08T00:47:15.756651Z"
    }
   },
   "outputs": [
    {
     "data": {
      "text/html": [
       "<div>\n",
       "<style scoped>\n",
       "    .dataframe tbody tr th:only-of-type {\n",
       "        vertical-align: middle;\n",
       "    }\n",
       "\n",
       "    .dataframe tbody tr th {\n",
       "        vertical-align: top;\n",
       "    }\n",
       "\n",
       "    .dataframe thead th {\n",
       "        text-align: right;\n",
       "    }\n",
       "</style>\n",
       "<table border=\"1\" class=\"dataframe\">\n",
       "  <thead>\n",
       "    <tr style=\"text-align: right;\">\n",
       "      <th></th>\n",
       "      <th>word</th>\n",
       "      <th>frequency</th>\n",
       "    </tr>\n",
       "  </thead>\n",
       "  <tbody>\n",
       "    <tr>\n",
       "      <th>0</th>\n",
       "      <td>INCH</td>\n",
       "      <td>64</td>\n",
       "    </tr>\n",
       "    <tr>\n",
       "      <th>1</th>\n",
       "      <td>AFF</td>\n",
       "      <td>56</td>\n",
       "    </tr>\n",
       "    <tr>\n",
       "      <th>2</th>\n",
       "      <td>tell</td>\n",
       "      <td>25</td>\n",
       "    </tr>\n",
       "    <tr>\n",
       "      <th>3</th>\n",
       "      <td>3OBJ</td>\n",
       "      <td>24</td>\n",
       "    </tr>\n",
       "    <tr>\n",
       "      <th>4</th>\n",
       "      <td>PROG</td>\n",
       "      <td>23</td>\n",
       "    </tr>\n",
       "  </tbody>\n",
       "</table>\n",
       "</div>"
      ],
      "text/plain": [
       "   word  frequency\n",
       "0  INCH         64\n",
       "1   AFF         56\n",
       "2  tell         25\n",
       "3  3OBJ         24\n",
       "4  PROG         23"
      ]
     },
     "execution_count": 30,
     "metadata": {},
     "output_type": "execute_result"
    }
   ],
   "source": [
    "englishWordFreq.head()"
   ]
  },
  {
   "cell_type": "code",
   "execution_count": 29,
   "id": "4c4e1f43",
   "metadata": {
    "ExecuteTime": {
     "end_time": "2021-09-08T00:47:03.509817Z",
     "start_time": "2021-09-08T00:47:03.316968Z"
    }
   },
   "outputs": [
    {
     "data": {
      "image/png": "[encoded data removed]",
      "text/plain": [
       "<Figure size 216x504 with 1 Axes>"
      ]
     },
     "metadata": {
      "needs_background": "light"
     },
     "output_type": "display_data"
    }
   ],
   "source": [
    "dat = englishWordFreq[englishWordFreq['frequency'] > 1].head(20)\n",
    "plt.figure(figsize=(3,7))\n",
    "plt.title('Frequency of words')\n",
    "sns.barplot(y='word',x='frequency',data=dat,color='skyblue')\n",
    "plt.show()"
   ]
  },
  {
   "cell_type": "code",
   "execution_count": null,
   "id": "4450c5a6",
   "metadata": {},
   "outputs": [],
   "source": []
  }
 ],
 "metadata": {
  "kernelspec": {
   "display_name": "Python 3 (ipykernel)",
   "language": "python",
   "name": "python3"
  },
  "language_info": {
   "codemirror_mode": {
    "name": "ipython",
    "version": 3
   },
   "file_extension": ".py",
   "mimetype": "text/x-python",
   "name": "python",
   "nbconvert_exporter": "python",
   "pygments_lexer": "ipython3",
   "version": "3.9.6"
  },
  "varInspector": {
   "cols": {
    "lenName": 16,
    "lenType": 16,
    "lenVar": 40
   },
   "kernels_config": {
    "python": {
     "delete_cmd_postfix": "",
     "delete_cmd_prefix": "del ",
     "library": "var_list.py",
     "varRefreshCmd": "print(var_dic_list())"
    },
    "r": {
     "delete_cmd_postfix": ") ",
     "delete_cmd_prefix": "rm(",
     "library": "var_list.r",
     "varRefreshCmd": "cat(var_dic_list()) "
    }
   },
   "types_to_exclude": [
    "module",
    "function",
    "builtin_function_or_method",
    "instance",
    "_Feature"
   ],
   "window_display": false
  }
 },
 "nbformat": 4,
 "nbformat_minor": 5
}
