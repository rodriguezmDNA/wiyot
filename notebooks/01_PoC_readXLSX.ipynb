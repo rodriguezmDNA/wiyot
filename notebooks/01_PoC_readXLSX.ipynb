{
 "cells": [
  {
   "cell_type": "code",
   "execution_count": 1,
   "id": "35afe4b8",
   "metadata": {
    "ExecuteTime": {
     "end_time": "2021-09-08T00:21:32.803466Z",
     "start_time": "2021-09-08T00:21:31.124513Z"
    }
   },
   "outputs": [],
   "source": [
    "import pandas as pd\n",
    "import matplotlib.pyplot as plt\n",
    "import seaborn as sns"
   ]
  },
  {
   "cell_type": "code",
   "execution_count": 2,
   "id": "a7cd5835",
   "metadata": {
    "ExecuteTime": {
     "end_time": "2021-09-08T00:21:34.360812Z",
     "start_time": "2021-09-08T00:21:34.357213Z"
    }
   },
   "outputs": [],
   "source": [
    "pathsDict = {'Kroeber':'Kroeber texts.xlsx',\n",
    " 'Reichard' : 'Reichard texts.xlsx',\n",
    " 'Teeter':'Teeter texts.xlsx'}"
   ]
  },
  {
   "cell_type": "code",
   "execution_count": 3,
   "id": "2accc3d4",
   "metadata": {
    "ExecuteTime": {
     "end_time": "2021-09-08T00:21:37.913710Z",
     "start_time": "2021-09-08T00:21:35.979969Z"
    }
   },
   "outputs": [
    {
     "name": "stdout",
     "output_type": "stream",
     "text": [
      "Kroeber texts.xlsx\n",
      "Reichard texts.xlsx\n"
     ]
    },
    {
     "name": "stderr",
     "output_type": "stream",
     "text": [
      "/opt/miniconda3/envs/S3/lib/python3.9/site-packages/openpyxl/worksheet/_reader.py:312: UserWarning: Unknown extension is not supported and will be removed\n",
      "  warn(msg)\n"
     ]
    },
    {
     "name": "stdout",
     "output_type": "stream",
     "text": [
      "Teeter texts.xlsx\n"
     ]
    }
   ],
   "source": [
    "wiyotData = dict()\n",
    "for k,v in pathsDict.items():\n",
    "    print(v)\n",
    "    wiyotData[k] = pd.read_excel(f'../data/{v}',None)"
   ]
  },
  {
   "cell_type": "code",
   "execution_count": 4,
   "id": "68bbed2e",
   "metadata": {
    "ExecuteTime": {
     "end_time": "2021-09-08T00:21:45.908432Z",
     "start_time": "2021-09-08T00:21:45.905018Z"
    }
   },
   "outputs": [],
   "source": [
    "def processLine(x):\n",
    "    try:\n",
    "        x = '\\t'.join(x.dropna()).split('\\t')\n",
    "        return x\n",
    "    except:\n",
    "        return None\n",
    "    \n",
    "getlowercase = lambda x: x if x.isupper() else x.lower()    "
   ]
  },
  {
   "cell_type": "code",
   "execution_count": 5,
   "id": "086dead4",
   "metadata": {
    "ExecuteTime": {
     "end_time": "2021-09-08T00:21:53.799107Z",
     "start_time": "2021-09-08T00:21:53.792904Z"
    }
   },
   "outputs": [],
   "source": [
    "def processWiyotFormat(author,source):\n",
    "    data = wiyotData[author][source]\n",
    "    alldictionaries = list()\n",
    "    for i in range(0,len(data),3):\n",
    "        wiyotPhrase = data.iloc[i]\n",
    "        englishPhrase = data.iloc[i+1]\n",
    "        ####\n",
    "        wiyotPhrase = processLine(wiyotPhrase)\n",
    "        ### Do some extra processing to the english phrase\n",
    "        englishPhrase = processLine(englishPhrase)\n",
    "        englishPhrase = [getlowercase(x) for x in englishPhrase]\n",
    "        eng2wiyotDF = pd.DataFrame([englishPhrase,wiyotPhrase]).T    \n",
    "        eng2wiyotDF.columns = ['english','wiyot']\n",
    "        eng2wiyotDF['author'] = author\n",
    "        eng2wiyotDF['source'] = source\n",
    "        alldictionaries.append(eng2wiyotDF)\n",
    "    return alldictionaries"
   ]
  },
  {
   "cell_type": "code",
   "execution_count": 20,
   "id": "8f698c00",
   "metadata": {
    "ExecuteTime": {
     "end_time": "2021-09-08T00:56:19.947663Z",
     "start_time": "2021-09-08T00:56:19.921341Z"
    }
   },
   "outputs": [
    {
     "data": {
      "text/html": [
       "<div>\n",
       "<style scoped>\n",
       "    .dataframe tbody tr th:only-of-type {\n",
       "        vertical-align: middle;\n",
       "    }\n",
       "\n",
       "    .dataframe tbody tr th {\n",
       "        vertical-align: top;\n",
       "    }\n",
       "\n",
       "    .dataframe thead th {\n",
       "        text-align: right;\n",
       "    }\n",
       "</style>\n",
       "<table border=\"1\" class=\"dataframe\">\n",
       "  <thead>\n",
       "    <tr style=\"text-align: right;\">\n",
       "      <th></th>\n",
       "      <th>Unnamed: 0</th>\n",
       "      <th>Unnamed: 1</th>\n",
       "      <th>Unnamed: 2</th>\n",
       "      <th>Unnamed: 3</th>\n",
       "      <th>Unnamed: 4</th>\n",
       "      <th>Unnamed: 5</th>\n",
       "      <th>Unnamed: 6</th>\n",
       "      <th>Unnamed: 7</th>\n",
       "    </tr>\n",
       "  </thead>\n",
       "  <tbody>\n",
       "    <tr>\n",
       "      <th>0</th>\n",
       "      <td>NaN</td>\n",
       "      <td>Kwhali</td>\n",
       "      <td>yo</td>\n",
       "      <td>to</td>\n",
       "      <td>lól</td>\n",
       "      <td>it.</td>\n",
       "      <td>NaN</td>\n",
       "      <td>NaN</td>\n",
       "    </tr>\n",
       "    <tr>\n",
       "      <th>1</th>\n",
       "      <td>NaN</td>\n",
       "      <td>Here</td>\n",
       "      <td>INT</td>\n",
       "      <td>PROG</td>\n",
       "      <td>go</td>\n",
       "      <td>2SBJ.</td>\n",
       "      <td>NaN</td>\n",
       "      <td>NaN</td>\n",
       "    </tr>\n",
       "    <tr>\n",
       "      <th>2</th>\n",
       "      <td>NaN</td>\n",
       "      <td>NaN</td>\n",
       "      <td>NaN</td>\n",
       "      <td>NaN</td>\n",
       "      <td>NaN</td>\n",
       "      <td>NaN</td>\n",
       "      <td>NaN</td>\n",
       "      <td>NaN</td>\n",
       "    </tr>\n",
       "    <tr>\n",
       "      <th>3</th>\n",
       "      <td>NaN</td>\n",
       "      <td>Yíl</td>\n",
       "      <td>woł,</td>\n",
       "      <td>kwhali</td>\n",
       "      <td>to</td>\n",
       "      <td>lól.</td>\n",
       "      <td>NaN</td>\n",
       "      <td>NaN</td>\n",
       "    </tr>\n",
       "    <tr>\n",
       "      <th>4</th>\n",
       "      <td>NaN</td>\n",
       "      <td>1SG</td>\n",
       "      <td>also</td>\n",
       "      <td>here</td>\n",
       "      <td>PROG</td>\n",
       "      <td>go[1SBJ].</td>\n",
       "      <td>NaN</td>\n",
       "      <td>NaN</td>\n",
       "    </tr>\n",
       "    <tr>\n",
       "      <th>5</th>\n",
       "      <td>NaN</td>\n",
       "      <td>NaN</td>\n",
       "      <td>NaN</td>\n",
       "      <td>NaN</td>\n",
       "      <td>NaN</td>\n",
       "      <td>NaN</td>\n",
       "      <td>NaN</td>\n",
       "      <td>NaN</td>\n",
       "    </tr>\n",
       "    <tr>\n",
       "      <th>6</th>\n",
       "      <td>NaN</td>\n",
       "      <td>Čawo</td>\n",
       "      <td>to</td>\n",
       "      <td>tu</td>\n",
       "      <td>dakw</td>\n",
       "      <td>ih</td>\n",
       "      <td>khu</td>\n",
       "      <td>kúhwik.</td>\n",
       "    </tr>\n",
       "    <tr>\n",
       "      <th>7</th>\n",
       "      <td>NaN</td>\n",
       "      <td>DEM</td>\n",
       "      <td>DEF</td>\n",
       "      <td>PL</td>\n",
       "      <td>be.so</td>\n",
       "      <td>NMLZ.P</td>\n",
       "      <td>2POSS</td>\n",
       "      <td>family.</td>\n",
       "    </tr>\n",
       "    <tr>\n",
       "      <th>8</th>\n",
       "      <td>NaN</td>\n",
       "      <td>NaN</td>\n",
       "      <td>NaN</td>\n",
       "      <td>NaN</td>\n",
       "      <td>NaN</td>\n",
       "      <td>NaN</td>\n",
       "      <td>NaN</td>\n",
       "      <td>NaN</td>\n",
       "    </tr>\n",
       "    <tr>\n",
       "      <th>9</th>\n",
       "      <td>NaN</td>\n",
       "      <td>To</td>\n",
       "      <td>tu</td>\n",
       "      <td>wénutw</td>\n",
       "      <td>ił.</td>\n",
       "      <td>NaN</td>\n",
       "      <td>NaN</td>\n",
       "      <td>NaN</td>\n",
       "    </tr>\n",
       "    <tr>\n",
       "      <th>10</th>\n",
       "      <td>NaN</td>\n",
       "      <td>PROG</td>\n",
       "      <td>PL</td>\n",
       "      <td>be.well</td>\n",
       "      <td>3SBJ.DEF.</td>\n",
       "      <td>NaN</td>\n",
       "      <td>NaN</td>\n",
       "      <td>NaN</td>\n",
       "    </tr>\n",
       "    <tr>\n",
       "      <th>11</th>\n",
       "      <td>NaN</td>\n",
       "      <td>NaN</td>\n",
       "      <td>NaN</td>\n",
       "      <td>NaN</td>\n",
       "      <td>NaN</td>\n",
       "      <td>NaN</td>\n",
       "      <td>NaN</td>\n",
       "      <td>NaN</td>\n",
       "    </tr>\n",
       "    <tr>\n",
       "      <th>12</th>\n",
       "      <td>NaN</td>\n",
       "      <td>Šawo</td>\n",
       "      <td>kitko</td>\n",
       "      <td>kos</td>\n",
       "      <td>ku</td>\n",
       "      <td>lág</td>\n",
       "      <td>ihy</td>\n",
       "      <td>am.</td>\n",
       "    </tr>\n",
       "    <tr>\n",
       "      <th>13</th>\n",
       "      <td>NaN</td>\n",
       "      <td>When.INT</td>\n",
       "      <td>AFF</td>\n",
       "      <td>then</td>\n",
       "      <td>ITER</td>\n",
       "      <td>go</td>\n",
       "      <td>TH.SBJV</td>\n",
       "      <td>2SBJ.SBJV.</td>\n",
       "    </tr>\n",
       "    <tr>\n",
       "      <th>14</th>\n",
       "      <td>NaN</td>\n",
       "      <td>NaN</td>\n",
       "      <td>NaN</td>\n",
       "      <td>NaN</td>\n",
       "      <td>NaN</td>\n",
       "      <td>NaN</td>\n",
       "      <td>NaN</td>\n",
       "      <td>NaN</td>\n",
       "    </tr>\n",
       "    <tr>\n",
       "      <th>15</th>\n",
       "      <td>NaN</td>\n",
       "      <td>Yíl</td>\n",
       "      <td>woł,</td>\n",
       "      <td>kwhali</td>\n",
       "      <td>bał</td>\n",
       "      <td>to</td>\n",
       "      <td>lól.</td>\n",
       "      <td>NaN</td>\n",
       "    </tr>\n",
       "    <tr>\n",
       "      <th>16</th>\n",
       "      <td>NaN</td>\n",
       "      <td>1SG</td>\n",
       "      <td>also</td>\n",
       "      <td>here</td>\n",
       "      <td>EMPH</td>\n",
       "      <td>PROG</td>\n",
       "      <td>go[1SBJ].</td>\n",
       "      <td>NaN</td>\n",
       "    </tr>\n",
       "    <tr>\n",
       "      <th>17</th>\n",
       "      <td>NaN</td>\n",
       "      <td>NaN</td>\n",
       "      <td>NaN</td>\n",
       "      <td>NaN</td>\n",
       "      <td>NaN</td>\n",
       "      <td>NaN</td>\n",
       "      <td>NaN</td>\n",
       "      <td>NaN</td>\n",
       "    </tr>\n",
       "    <tr>\n",
       "      <th>18</th>\n",
       "      <td>NaN</td>\n",
       "      <td>Kwołwo</td>\n",
       "      <td>kitko</td>\n",
       "      <td>kó&lt;h&gt;w</td>\n",
       "      <td>am.</td>\n",
       "      <td>NaN</td>\n",
       "      <td>NaN</td>\n",
       "      <td>NaN</td>\n",
       "    </tr>\n",
       "    <tr>\n",
       "      <th>19</th>\n",
       "      <td>NaN</td>\n",
       "      <td>Anything</td>\n",
       "      <td>AFF</td>\n",
       "      <td>do&lt;TH.SBJV&gt;</td>\n",
       "      <td>2SBJ.SBJV.</td>\n",
       "      <td>NaN</td>\n",
       "      <td>NaN</td>\n",
       "      <td>NaN</td>\n",
       "    </tr>\n",
       "    <tr>\n",
       "      <th>20</th>\n",
       "      <td>NaN</td>\n",
       "      <td>NaN</td>\n",
       "      <td>NaN</td>\n",
       "      <td>NaN</td>\n",
       "      <td>NaN</td>\n",
       "      <td>NaN</td>\n",
       "      <td>NaN</td>\n",
       "      <td>NaN</td>\n",
       "    </tr>\n",
       "    <tr>\n",
       "      <th>21</th>\n",
       "      <td>NaN</td>\n",
       "      <td>Či</td>\n",
       "      <td>bał</td>\n",
       "      <td>to</td>\n",
       "      <td>šbi</td>\n",
       "      <td>yol</td>\n",
       "      <td>kítko.</td>\n",
       "      <td>NaN</td>\n",
       "    </tr>\n",
       "    <tr>\n",
       "      <th>22</th>\n",
       "      <td>NaN</td>\n",
       "      <td>DEM</td>\n",
       "      <td>EMPH</td>\n",
       "      <td>PROG</td>\n",
       "      <td>for.nothing</td>\n",
       "      <td>go[1SBJ]</td>\n",
       "      <td>AFF.</td>\n",
       "      <td>NaN</td>\n",
       "    </tr>\n",
       "    <tr>\n",
       "      <th>23</th>\n",
       "      <td>NaN</td>\n",
       "      <td>NaN</td>\n",
       "      <td>NaN</td>\n",
       "      <td>NaN</td>\n",
       "      <td>NaN</td>\n",
       "      <td>NaN</td>\n",
       "      <td>NaN</td>\n",
       "      <td>NaN</td>\n",
       "    </tr>\n",
       "    <tr>\n",
       "      <th>24</th>\n",
       "      <td>NaN</td>\n",
       "      <td>Čawókš,</td>\n",
       "      <td>yil</td>\n",
       "      <td>ał</td>\n",
       "      <td>kitko</td>\n",
       "      <td>tó</td>\n",
       "      <td>tol.</td>\n",
       "      <td>NaN</td>\n",
       "    </tr>\n",
       "    <tr>\n",
       "      <th>25</th>\n",
       "      <td>NaN</td>\n",
       "      <td>Good.bye</td>\n",
       "      <td>1SG</td>\n",
       "      <td>ADVS</td>\n",
       "      <td>AFF</td>\n",
       "      <td>PROG</td>\n",
       "      <td>go[1SBJ].</td>\n",
       "      <td>NaN</td>\n",
       "    </tr>\n",
       "    <tr>\n",
       "      <th>26</th>\n",
       "      <td>NaN</td>\n",
       "      <td>NaN</td>\n",
       "      <td>NaN</td>\n",
       "      <td>NaN</td>\n",
       "      <td>NaN</td>\n",
       "      <td>NaN</td>\n",
       "      <td>NaN</td>\n",
       "      <td>NaN</td>\n",
       "    </tr>\n",
       "    <tr>\n",
       "      <th>27</th>\n",
       "      <td>NaN</td>\n",
       "      <td>Čawókš,</td>\n",
       "      <td>yil</td>\n",
       "      <td>ał.</td>\n",
       "      <td>NaN</td>\n",
       "      <td>NaN</td>\n",
       "      <td>NaN</td>\n",
       "      <td>NaN</td>\n",
       "    </tr>\n",
       "    <tr>\n",
       "      <th>28</th>\n",
       "      <td>NaN</td>\n",
       "      <td>Good.bye</td>\n",
       "      <td>1SG</td>\n",
       "      <td>ADVS.</td>\n",
       "      <td>NaN</td>\n",
       "      <td>NaN</td>\n",
       "      <td>NaN</td>\n",
       "      <td>NaN</td>\n",
       "    </tr>\n",
       "  </tbody>\n",
       "</table>\n",
       "</div>"
      ],
      "text/plain": [
       "    Unnamed: 0 Unnamed: 1 Unnamed: 2   Unnamed: 3   Unnamed: 4 Unnamed: 5  \\\n",
       "0          NaN     Kwhali         yo           to          lól        it.   \n",
       "1          NaN       Here        INT         PROG           go      2SBJ.   \n",
       "2          NaN        NaN        NaN          NaN          NaN        NaN   \n",
       "3          NaN        Yíl       woł,       kwhali           to       lól.   \n",
       "4          NaN        1SG       also         here         PROG  go[1SBJ].   \n",
       "5          NaN        NaN        NaN          NaN          NaN        NaN   \n",
       "6          NaN       Čawo         to           tu         dakw         ih   \n",
       "7          NaN        DEM        DEF           PL        be.so     NMLZ.P   \n",
       "8          NaN        NaN        NaN          NaN          NaN        NaN   \n",
       "9          NaN         To         tu       wénutw          ił.        NaN   \n",
       "10         NaN       PROG         PL      be.well    3SBJ.DEF.        NaN   \n",
       "11         NaN        NaN        NaN          NaN          NaN        NaN   \n",
       "12         NaN       Šawo      kitko          kos           ku        lág   \n",
       "13         NaN   When.INT        AFF         then         ITER         go   \n",
       "14         NaN        NaN        NaN          NaN          NaN        NaN   \n",
       "15         NaN        Yíl       woł,       kwhali          bał         to   \n",
       "16         NaN        1SG       also         here         EMPH       PROG   \n",
       "17         NaN        NaN        NaN          NaN          NaN        NaN   \n",
       "18         NaN     Kwołwo      kitko       kó<h>w          am.        NaN   \n",
       "19         NaN   Anything        AFF  do<TH.SBJV>   2SBJ.SBJV.        NaN   \n",
       "20         NaN        NaN        NaN          NaN          NaN        NaN   \n",
       "21         NaN         Či        bał           to          šbi        yol   \n",
       "22         NaN        DEM       EMPH         PROG  for.nothing   go[1SBJ]   \n",
       "23         NaN        NaN        NaN          NaN          NaN        NaN   \n",
       "24         NaN    Čawókš,        yil           ał        kitko         tó   \n",
       "25         NaN   Good.bye        1SG         ADVS          AFF       PROG   \n",
       "26         NaN        NaN        NaN          NaN          NaN        NaN   \n",
       "27         NaN    Čawókš,        yil          ał.          NaN        NaN   \n",
       "28         NaN   Good.bye        1SG        ADVS.          NaN        NaN   \n",
       "\n",
       "   Unnamed: 6  Unnamed: 7  \n",
       "0         NaN         NaN  \n",
       "1         NaN         NaN  \n",
       "2         NaN         NaN  \n",
       "3         NaN         NaN  \n",
       "4         NaN         NaN  \n",
       "5         NaN         NaN  \n",
       "6         khu     kúhwik.  \n",
       "7       2POSS     family.  \n",
       "8         NaN         NaN  \n",
       "9         NaN         NaN  \n",
       "10        NaN         NaN  \n",
       "11        NaN         NaN  \n",
       "12        ihy         am.  \n",
       "13    TH.SBJV  2SBJ.SBJV.  \n",
       "14        NaN         NaN  \n",
       "15       lól.         NaN  \n",
       "16  go[1SBJ].         NaN  \n",
       "17        NaN         NaN  \n",
       "18        NaN         NaN  \n",
       "19        NaN         NaN  \n",
       "20        NaN         NaN  \n",
       "21     kítko.         NaN  \n",
       "22       AFF.         NaN  \n",
       "23        NaN         NaN  \n",
       "24       tol.         NaN  \n",
       "25  go[1SBJ].         NaN  \n",
       "26        NaN         NaN  \n",
       "27        NaN         NaN  \n",
       "28        NaN         NaN  "
      ]
     },
     "execution_count": 20,
     "metadata": {},
     "output_type": "execute_result"
    }
   ],
   "source": [
    "wiyotData[author][story]"
   ]
  },
  {
   "cell_type": "code",
   "execution_count": 6,
   "id": "b2e74926",
   "metadata": {
    "ExecuteTime": {
     "end_time": "2021-09-08T00:22:01.548849Z",
     "start_time": "2021-09-08T00:22:01.544742Z"
    }
   },
   "outputs": [
    {
     "name": "stdout",
     "output_type": "stream",
     "text": [
      "Kroeber\n",
      "Reichard\n",
      "Teeter\n"
     ]
    }
   ],
   "source": [
    "authors = list(wiyotData.keys())\n",
    "sourcesByAuthor = dict()\n",
    "for author in authors:\n",
    "    print(author)\n",
    "    sourcesByAuthor[author] = list(wiyotData[author].keys())"
   ]
  },
  {
   "cell_type": "code",
   "execution_count": 16,
   "id": "c7454a86",
   "metadata": {
    "ExecuteTime": {
     "end_time": "2021-09-08T00:39:57.785910Z",
     "start_time": "2021-09-08T00:39:49.321408Z"
    }
   },
   "outputs": [
    {
     "name": "stdout",
     "output_type": "stream",
     "text": [
      "skipping: Reichard:,2. Wolf's Home\n"
     ]
    }
   ],
   "source": [
    "processedtext = []\n",
    "for author in authors:\n",
    "    for story in sourcesByAuthor[author]:\n",
    "        try:\n",
    "            tmp = processWiyotFormat(author,story)\n",
    "            processedtext.append(tmp[0])\n",
    "        except:\n",
    "            print(f'skipping: {author}:,{story}')"
   ]
  },
  {
   "cell_type": "code",
   "execution_count": 12,
   "id": "c30d3a4e",
   "metadata": {
    "ExecuteTime": {
     "end_time": "2021-09-08T00:27:46.329564Z",
     "start_time": "2021-09-08T00:27:46.325103Z"
    }
   },
   "outputs": [],
   "source": [
    "import pickle as pkl"
   ]
  },
  {
   "cell_type": "code",
   "execution_count": 18,
   "id": "04c71763",
   "metadata": {
    "ExecuteTime": {
     "end_time": "2021-09-08T00:40:17.367575Z",
     "start_time": "2021-09-08T00:40:17.353448Z"
    }
   },
   "outputs": [],
   "source": [
    "pkl.dump(processedtext,open('../results/individual_english2wiyottables.pkl','wb'))"
   ]
  },
  {
   "cell_type": "code",
   "execution_count": 10,
   "id": "93251d4e",
   "metadata": {
    "ExecuteTime": {
     "end_time": "2021-09-08T00:23:08.272574Z",
     "start_time": "2021-09-08T00:23:08.265737Z"
    }
   },
   "outputs": [
    {
     "data": {
      "text/plain": [
       "135"
      ]
     },
     "execution_count": 10,
     "metadata": {},
     "output_type": "execute_result"
    }
   ],
   "source": [
    "len(processedtext)"
   ]
  },
  {
   "cell_type": "code",
   "execution_count": null,
   "id": "95075063",
   "metadata": {
    "ExecuteTime": {
     "end_time": "2021-09-07T23:20:55.290855Z",
     "start_time": "2021-09-07T23:20:55.284819Z"
    }
   },
   "outputs": [],
   "source": []
  },
  {
   "cell_type": "code",
   "execution_count": null,
   "id": "cad83d74",
   "metadata": {
    "ExecuteTime": {
     "end_time": "2021-09-06T20:00:32.356668Z",
     "start_time": "2021-09-06T20:00:32.350215Z"
    }
   },
   "outputs": [],
   "source": [
    "eng2wiyotDFAll = pd.concat(alldictionaries)"
   ]
  },
  {
   "cell_type": "code",
   "execution_count": null,
   "id": "dce784e7",
   "metadata": {
    "ExecuteTime": {
     "end_time": "2021-09-06T20:01:09.633857Z",
     "start_time": "2021-09-06T20:01:09.628775Z"
    }
   },
   "outputs": [],
   "source": [
    "uniqueEnglishWords = list(set(eng2wiyotDFAll.english))"
   ]
  },
  {
   "cell_type": "code",
   "execution_count": null,
   "id": "bb73be54",
   "metadata": {
    "ExecuteTime": {
     "end_time": "2021-09-06T20:05:33.477871Z",
     "start_time": "2021-09-06T20:05:33.434485Z"
    }
   },
   "outputs": [],
   "source": [
    "eng2wiyot = dict()\n",
    "for engWord in uniqueEnglishWords:\n",
    "    \"\"\"\n",
    "    For each english word, get all the corresponding wiyot words and create a dictionary.\n",
    "    This takes care of differences in spelling\n",
    "    \"\"\"\n",
    "    wiyotMatch = eng2wiyotDFAll[eng2wiyotDFAll.english==engWord]['wiyot']\n",
    "    wiyotMatch = list(wiyotMatch)\n",
    "    wiyotMatch = list(set([_.lower() for _ in wiyotMatch]))\n",
    "    eng2wiyot[engWord] = wiyotMatch"
   ]
  },
  {
   "cell_type": "code",
   "execution_count": null,
   "id": "d06e52fc",
   "metadata": {
    "ExecuteTime": {
     "end_time": "2021-09-06T20:07:25.357579Z",
     "start_time": "2021-09-06T20:07:25.352502Z"
    }
   },
   "outputs": [],
   "source": [
    "eng2wiyot['put']"
   ]
  },
  {
   "cell_type": "code",
   "execution_count": null,
   "id": "543dcf3f",
   "metadata": {
    "ExecuteTime": {
     "end_time": "2021-09-06T20:08:37.832579Z",
     "start_time": "2021-09-06T20:08:37.827446Z"
    }
   },
   "outputs": [],
   "source": [
    "englishWordFreq = eng2wiyotDFAll['english'].value_counts().reset_index()\n",
    "englishWordFreq.columns = ['word','frequency']"
   ]
  },
  {
   "cell_type": "code",
   "execution_count": null,
   "id": "c8c455e0",
   "metadata": {
    "ExecuteTime": {
     "end_time": "2021-09-06T20:09:53.808217Z",
     "start_time": "2021-09-06T20:09:53.795953Z"
    }
   },
   "outputs": [],
   "source": [
    "dat = englishWordFreq[englishWordFreq['frequency'] > 1]"
   ]
  },
  {
   "cell_type": "code",
   "execution_count": null,
   "id": "e03bb9a7",
   "metadata": {
    "ExecuteTime": {
     "end_time": "2021-09-06T20:10:40.487177Z",
     "start_time": "2021-09-06T20:10:40.257587Z"
    }
   },
   "outputs": [],
   "source": [
    "dat = englishWordFreq[englishWordFreq['frequency'] > 1]\n",
    "plt.figure(figsize=(3,7))\n",
    "plt.title('Frequency of words')\n",
    "sns.barplot(y='word',x='frequency',data=dat,color='skyblue')\n",
    "plt.show()"
   ]
  },
  {
   "cell_type": "code",
   "execution_count": null,
   "id": "73b84667",
   "metadata": {
    "ExecuteTime": {
     "end_time": "2021-09-06T19:49:01.761356Z",
     "start_time": "2021-09-06T19:49:01.754775Z"
    }
   },
   "outputs": [],
   "source": []
  },
  {
   "cell_type": "code",
   "execution_count": null,
   "id": "7f561318",
   "metadata": {
    "ExecuteTime": {
     "end_time": "2021-09-06T19:48:02.658405Z",
     "start_time": "2021-09-06T19:48:02.654258Z"
    }
   },
   "outputs": [],
   "source": []
  },
  {
   "cell_type": "code",
   "execution_count": null,
   "id": "afa2b979",
   "metadata": {
    "ExecuteTime": {
     "end_time": "2021-09-06T19:48:19.571175Z",
     "start_time": "2021-09-06T19:48:19.563754Z"
    }
   },
   "outputs": [],
   "source": []
  },
  {
   "cell_type": "code",
   "execution_count": 22,
   "id": "e5040a05",
   "metadata": {
    "ExecuteTime": {
     "end_time": "2021-09-08T15:35:34.050480Z",
     "start_time": "2021-09-08T15:35:34.047544Z"
    }
   },
   "outputs": [],
   "source": [
    "data = wiyotData[author][story]"
   ]
  },
  {
   "cell_type": "code",
   "execution_count": 25,
   "id": "8445df4f",
   "metadata": {
    "ExecuteTime": {
     "end_time": "2021-09-08T15:36:23.522048Z",
     "start_time": "2021-09-08T15:36:23.494049Z"
    }
   },
   "outputs": [],
   "source": [
    "alldictionaries = list()\n",
    "for i in range(0,len(data),3):\n",
    "    wiyotPhrase = data.iloc[i]\n",
    "    englishPhrase = data.iloc[i+1]\n",
    "    ####\n",
    "    wiyotPhrase = processLine(wiyotPhrase)\n",
    "    ### Do some extra processing to the english phrase\n",
    "    englishPhrase = processLine(englishPhrase)\n",
    "    englishPhrase = [getlowercase(x) for x in englishPhrase]\n",
    "    eng2wiyotDF = pd.DataFrame([englishPhrase,wiyotPhrase]).T    \n",
    "    eng2wiyotDF.columns = ['english','wiyot']\n",
    "    eng2wiyotDF['author'] = author\n",
    "    eng2wiyotDF['source'] = story"
   ]
  },
  {
   "cell_type": "code",
   "execution_count": 29,
   "id": "2bd0a1f7",
   "metadata": {
    "ExecuteTime": {
     "end_time": "2021-09-08T15:39:51.552768Z",
     "start_time": "2021-09-08T15:39:51.548806Z"
    }
   },
   "outputs": [
    {
     "data": {
      "text/plain": [
       "['Čawókš,', 'yil', 'ał.']"
      ]
     },
     "execution_count": 29,
     "metadata": {},
     "output_type": "execute_result"
    }
   ],
   "source": [
    "wiyotPhrase"
   ]
  },
  {
   "cell_type": "code",
   "execution_count": 28,
   "id": "ca541fd9",
   "metadata": {
    "ExecuteTime": {
     "end_time": "2021-09-08T15:39:38.887395Z",
     "start_time": "2021-09-08T15:39:38.883703Z"
    }
   },
   "outputs": [
    {
     "data": {
      "text/plain": [
       "['good.bye', '1SG', 'ADVS.']"
      ]
     },
     "execution_count": 28,
     "metadata": {},
     "output_type": "execute_result"
    }
   ],
   "source": [
    "englishPhrase"
   ]
  },
  {
   "cell_type": "code",
   "execution_count": null,
   "id": "2de83f50",
   "metadata": {},
   "outputs": [],
   "source": []
  }
 ],
 "metadata": {
  "kernelspec": {
   "display_name": "Python 3 (ipykernel)",
   "language": "python",
   "name": "python3"
  },
  "language_info": {
   "codemirror_mode": {
    "name": "ipython",
    "version": 3
   },
   "file_extension": ".py",
   "mimetype": "text/x-python",
   "name": "python",
   "nbconvert_exporter": "python",
   "pygments_lexer": "ipython3",
   "version": "3.7.12"
  },
  "varInspector": {
   "cols": {
    "lenName": 16,
    "lenType": 16,
    "lenVar": 40
   },
   "kernels_config": {
    "python": {
     "delete_cmd_postfix": "",
     "delete_cmd_prefix": "del ",
     "library": "var_list.py",
     "varRefreshCmd": "print(var_dic_list())"
    },
    "r": {
     "delete_cmd_postfix": ") ",
     "delete_cmd_prefix": "rm(",
     "library": "var_list.r",
     "varRefreshCmd": "cat(var_dic_list()) "
    }
   },
   "types_to_exclude": [
    "module",
    "function",
    "builtin_function_or_method",
    "instance",
    "_Feature"
   ],
   "window_display": false
  }
 },
 "nbformat": 4,
 "nbformat_minor": 5
}
