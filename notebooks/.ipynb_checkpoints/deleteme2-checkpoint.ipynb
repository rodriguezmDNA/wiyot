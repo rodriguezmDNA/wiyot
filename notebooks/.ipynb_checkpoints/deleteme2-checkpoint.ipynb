{
 "cells": [
  {
   "cell_type": "code",
   "execution_count": 2,
   "id": "2d2a49f2",
   "metadata": {},
   "outputs": [],
   "source": [
    "import sys\n",
    "sys.path.append('../scripts/')\n",
    "from wiyot import *"
   ]
  },
  {
   "cell_type": "code",
   "execution_count": 3,
   "id": "a8205f0d",
   "metadata": {},
   "outputs": [
    {
     "data": {
      "text/html": [
       "<div>\n",
       "<style scoped>\n",
       "    .dataframe tbody tr th:only-of-type {\n",
       "        vertical-align: middle;\n",
       "    }\n",
       "\n",
       "    .dataframe tbody tr th {\n",
       "        vertical-align: top;\n",
       "    }\n",
       "\n",
       "    .dataframe thead th {\n",
       "        text-align: right;\n",
       "    }\n",
       "</style>\n",
       "<table border=\"1\" class=\"dataframe\">\n",
       "  <thead>\n",
       "    <tr style=\"text-align: right;\">\n",
       "      <th></th>\n",
       "      <th>preverb</th>\n",
       "      <th>Class</th>\n",
       "      <th>Level</th>\n",
       "    </tr>\n",
       "  </thead>\n",
       "  <tbody>\n",
       "    <tr>\n",
       "      <th>0</th>\n",
       "      <td>PST</td>\n",
       "      <td>I</td>\n",
       "      <td>1</td>\n",
       "    </tr>\n",
       "    <tr>\n",
       "      <th>1</th>\n",
       "      <td>already</td>\n",
       "      <td>I</td>\n",
       "      <td>1</td>\n",
       "    </tr>\n",
       "    <tr>\n",
       "      <th>2</th>\n",
       "      <td>EMPH</td>\n",
       "      <td>I</td>\n",
       "      <td>1</td>\n",
       "    </tr>\n",
       "    <tr>\n",
       "      <th>3</th>\n",
       "      <td>PROG</td>\n",
       "      <td>I</td>\n",
       "      <td>1</td>\n",
       "    </tr>\n",
       "    <tr>\n",
       "      <th>4</th>\n",
       "      <td>then</td>\n",
       "      <td>I</td>\n",
       "      <td>1</td>\n",
       "    </tr>\n",
       "  </tbody>\n",
       "</table>\n",
       "</div>"
      ],
      "text/plain": [
       "   preverb Class  Level\n",
       "0      PST     I      1\n",
       "1  already     I      1\n",
       "2     EMPH     I      1\n",
       "3     PROG     I      1\n",
       "4     then     I      1"
      ]
     },
     "execution_count": 3,
     "metadata": {},
     "output_type": "execute_result"
    }
   ],
   "source": [
    "### Read dataset relating a preverb to hierarchy class\n",
    "preverbhierarchy, preverb2level, preverb2class\n",
    "preverbhierarchy.head()"
   ]
  },
  {
   "cell_type": "code",
   "execution_count": 18,
   "id": "724351ca",
   "metadata": {},
   "outputs": [
    {
     "name": "stdout",
     "output_type": "stream",
     "text": [
      "16\n"
     ]
    },
    {
     "data": {
      "text/plain": [
       "('Kacid    wule-póyakhd-ił     šudi-lákhow',\n",
       " 'Crow    please-call.kin.in.law-NMLZ.A   ocean-other.side',\n",
       " 'Crow went to his kin-in-law across the ocean.')"
      ]
     },
     "execution_count": 18,
     "metadata": {},
     "output_type": "execute_result"
    }
   ],
   "source": [
    "## Subset by story\n",
    "crowStory = getStory(kroeber,'Crow')\n",
    "## Split into wiyot/glos/translation\n",
    "crowStory_split = splitStory(crowStory)\n",
    "print(len(crowStory_split)) ## number of triplets in the spreadsheet\n",
    "crowStory_split[0]"
   ]
  },
  {
   "cell_type": "code",
   "execution_count": 15,
   "id": "6f7754f3",
   "metadata": {},
   "outputs": [],
   "source": [
    "allwiyot,allenglish,fullstory = reformatStory(crowStory_split)\n",
    "### Split into words\n",
    "wiyot_words = story2words(allwiyot)\n",
    "english_words = story2words(allenglish)\n",
    "fullstory_words = story2words(fullstory)"
   ]
  },
  {
   "cell_type": "code",
   "execution_count": 60,
   "id": "95045e84",
   "metadata": {},
   "outputs": [
    {
     "data": {
      "text/plain": [
       "('tu-lùl-úw-ił', 'PL-take-3OBJ-3SBJ.DEF')"
      ]
     },
     "execution_count": 60,
     "metadata": {},
     "output_type": "execute_result"
    }
   ],
   "source": [
    "i=8\n",
    "wiyot_words[i],english_words[i]"
   ]
  },
  {
   "cell_type": "code",
   "execution_count": 54,
   "id": "28e1c337",
   "metadata": {},
   "outputs": [],
   "source": [
    "prevEng2Hier= dict(zip(preverbhierarchy['preverb'],preverbhierarchy['Level']))"
   ]
  },
  {
   "cell_type": "code",
   "execution_count": 55,
   "id": "d5d11fcb",
   "metadata": {},
   "outputs": [],
   "source": [
    "import re"
   ]
  },
  {
   "cell_type": "code",
   "execution_count": 61,
   "id": "57f3b80a",
   "metadata": {},
   "outputs": [
    {
     "data": {
      "text/plain": [
       "['PL', 'take', '3OBJ', '3SBJ', 'DEF']"
      ]
     },
     "execution_count": 61,
     "metadata": {},
     "output_type": "execute_result"
    }
   ],
   "source": [
    "splitword = re.split('-|\\\\.',english_words[i])\n",
    "splitword = [_ for _ in splitword if len(_) > 0] #Remove trailing empty\n",
    "splitword"
   ]
  },
  {
   "cell_type": "code",
   "execution_count": 62,
   "id": "f7ced506",
   "metadata": {},
   "outputs": [
    {
     "data": {
      "text/plain": [
       "[8]"
      ]
     },
     "execution_count": 62,
     "metadata": {},
     "output_type": "execute_result"
    }
   ],
   "source": [
    "assignedHierarchy = [prevEng2Hier.get(_,None) for _ in splitword]\n",
    "assignedHierarchy = [_ for _ in assignedHierarchy if _ is not None]\n",
    "assignedHierarchy"
   ]
  },
  {
   "cell_type": "code",
   "execution_count": null,
   "id": "b54a5a8a",
   "metadata": {},
   "outputs": [],
   "source": []
  }
 ],
 "metadata": {
  "kernelspec": {
   "display_name": "Python 3 (ipykernel)",
   "language": "python",
   "name": "python3"
  },
  "language_info": {
   "codemirror_mode": {
    "name": "ipython",
    "version": 3
   },
   "file_extension": ".py",
   "mimetype": "text/x-python",
   "name": "python",
   "nbconvert_exporter": "python",
   "pygments_lexer": "ipython3",
   "version": "3.9.6"
  }
 },
 "nbformat": 4,
 "nbformat_minor": 5
}
