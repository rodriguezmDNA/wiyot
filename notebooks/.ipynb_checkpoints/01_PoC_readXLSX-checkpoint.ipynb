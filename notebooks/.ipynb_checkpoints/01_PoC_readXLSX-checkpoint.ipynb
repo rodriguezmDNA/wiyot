{
 "cells": [
  {
   "cell_type": "code",
   "execution_count": 126,
   "id": "1821a8aa",
   "metadata": {
    "ExecuteTime": {
     "end_time": "2021-09-06T20:09:01.727934Z",
     "start_time": "2021-09-06T20:09:00.358407Z"
    }
   },
   "outputs": [],
   "source": [
    "import pandas as pd\n",
    "import matplotlib.pyplot as plt\n",
    "import seaborn as sns"
   ]
  },
  {
   "cell_type": "code",
   "execution_count": 138,
   "id": "b1f19e94",
   "metadata": {
    "ExecuteTime": {
     "end_time": "2021-09-06T21:02:34.120646Z",
     "start_time": "2021-09-06T21:02:34.115930Z"
    }
   },
   "outputs": [],
   "source": [
    "pathsDict = {'Kroeber':'Kroeber texts.xlsx',\n",
    " 'Reichard' : 'Reichard texts.xlsx',\n",
    " 'Teeter':'Teeter texts.xlsx'}"
   ]
  },
  {
   "cell_type": "code",
   "execution_count": 146,
   "id": "7bbc36b9",
   "metadata": {
    "ExecuteTime": {
     "end_time": "2021-09-06T21:03:31.515086Z",
     "start_time": "2021-09-06T21:03:29.718301Z"
    }
   },
   "outputs": [
    {
     "name": "stdout",
     "output_type": "stream",
     "text": [
      "Kroeber texts.xlsx\n",
      "Reichard texts.xlsx\n"
     ]
    },
    {
     "name": "stderr",
     "output_type": "stream",
     "text": [
      "/opt/miniconda3/envs/S3/lib/python3.9/site-packages/openpyxl/worksheet/_reader.py:312: UserWarning: Unknown extension is not supported and will be removed\n",
      "  warn(msg)\n"
     ]
    },
    {
     "name": "stdout",
     "output_type": "stream",
     "text": [
      "Teeter texts.xlsx\n"
     ]
    }
   ],
   "source": [
    "wiyotData = dict()\n",
    "for k,v in pathsDict.items():\n",
    "    print(v)\n",
    "    wiyotData[k] = pd.read_excel(f'../data/{v}',None)"
   ]
  },
  {
   "cell_type": "code",
   "execution_count": 80,
   "id": "be766e79",
   "metadata": {
    "ExecuteTime": {
     "end_time": "2021-09-06T19:51:11.932567Z",
     "start_time": "2021-09-06T19:51:11.927144Z"
    }
   },
   "outputs": [],
   "source": [
    "def processLine(x):\n",
    "    try:\n",
    "        x = '\\t'.join(x.dropna()).split('\\t')\n",
    "        return x\n",
    "    except:\n",
    "        return None\n",
    "    \n",
    "getlowercase = lambda x: x if x.isupper() else x.lower()    "
   ]
  },
  {
   "cell_type": "code",
   "execution_count": 150,
   "id": "b3843485",
   "metadata": {
    "ExecuteTime": {
     "end_time": "2021-09-06T21:06:07.341979Z",
     "start_time": "2021-09-06T21:06:07.334272Z"
    }
   },
   "outputs": [],
   "source": [
    "def processWiyotFormat(author,source):\n",
    "    data = wiyotData[author][source]\n",
    "    alldictionaries = list()\n",
    "    for i in range(0,len(data),3):\n",
    "        wiyotPhrase = data.iloc[i]\n",
    "        englishPhrase = data.iloc[i+1]\n",
    "        ####\n",
    "        wiyotPhrase = processLine(wiyotPhrase)\n",
    "        ### Do some extra processing to the english phrase\n",
    "        englishPhrase = processLine(englishPhrase)\n",
    "        englishPhrase = [getlowercase(x) for x in englishPhrase]\n",
    "        eng2wiyotDF = pd.DataFrame([englishPhrase,wiyotPhrase]).T    \n",
    "        eng2wiyotDF.columns = ['english','wiyot']\n",
    "        eng2wiyotDF['author'] = author\n",
    "        eng2wiyotDF['source'] = source\n",
    "        alldictionaries.append(eng2wiyotDF)\n",
    "    return alldictionaries"
   ]
  },
  {
   "cell_type": "code",
   "execution_count": 175,
   "id": "4aefe265",
   "metadata": {
    "ExecuteTime": {
     "end_time": "2021-09-07T23:23:26.842050Z",
     "start_time": "2021-09-07T23:23:26.836122Z"
    }
   },
   "outputs": [
    {
     "name": "stdout",
     "output_type": "stream",
     "text": [
      "Kroeber\n",
      "Reichard\n",
      "Teeter\n"
     ]
    }
   ],
   "source": [
    "authors = list(wiyotData.keys())\n",
    "sourcesByAuthor = dict()\n",
    "for author in authors:\n",
    "    print(author)\n",
    "    sourcesByAuthor[author] = list(wiyotData[author].keys())"
   ]
  },
  {
   "cell_type": "code",
   "execution_count": null,
   "id": "a18585d5",
   "metadata": {
    "ExecuteTime": {
     "start_time": "2021-09-07T23:27:08.381Z"
    }
   },
   "outputs": [],
   "source": [
    "processedtext = []\n",
    "for author in authors:\n",
    "    for story in sourcesByAuthor[author]:\n",
    "        print(author,story)\n",
    "        tmp = processWiyotFormat(author,sourcesByAuthor[author][story])\n",
    "        processedtext.append(tmp)"
   ]
  },
  {
   "cell_type": "code",
   "execution_count": 183,
   "id": "1c3f6adc",
   "metadata": {
    "ExecuteTime": {
     "end_time": "2021-09-07T23:24:29.836927Z",
     "start_time": "2021-09-07T23:24:29.610307Z"
    }
   },
   "outputs": [
    {
     "data": {
      "text/plain": [
       "[   english   wiyot  author      source\n",
       " 0  abalone  Hiwót,  Teeter  1. Abalone\n",
       " 1      AFF   kitko  Teeter  1. Abalone\n",
       " 2     INCH    kowa  Teeter  1. Abalone\n",
       " 3  imitate   šipar  Teeter  1. Abalone\n",
       " 4     3OBJ      om  Teeter  1. Abalone\n",
       " 5    1SBJ.      á.  Teeter  1. Abalone\n",
       " 6     INCH    Kowa  Teeter  1. Abalone,\n",
       "                  english      wiyot  author      source\n",
       " 0  tell.about.3obj[1sbj]  lágadahl,  Teeter  1. Abalone\n",
       " 1                  be.so    dagadoy  Teeter  1. Abalone\n",
       " 2               NMLZ.INF         ák  Teeter  1. Abalone\n",
       " 3                    SUB          w  Teeter  1. Abalone\n",
       " 4                NMLZ.P.        ih.  Teeter  1. Abalone\n",
       " 5            young.woman   Carórił,  Teeter  1. Abalone,\n",
       "         english     wiyot  author      source\n",
       " 0      abalone.    hiwót.  Teeter  1. Abalone\n",
       " 1        toward      Dók,  Teeter  1. Abalone\n",
       " 2         south  hišbarí,  Teeter  1. Abalone\n",
       " 3           DEF        to  Teeter  1. Abalone\n",
       " 4  young.woman.  carórił.  Teeter  1. Abalone\n",
       " 5        toward      Dók,  Teeter  1. Abalone,\n",
       "        english      wiyot  author      source\n",
       " 0        north       búhr  Teeter  1. Abalone\n",
       " 1         ADVS        ał,  Teeter  1. Abalone\n",
       " 2   young.man.  thígadił.  Teeter  1. Abalone\n",
       " 3   dentalium.     Diníh.  Teeter  1. Abalone\n",
       " 4  N2.NEG.EMPH         Ki  Teeter  1. Abalone,\n",
       "                   english        wiyot  author      source\n",
       " 0                  darken  khúnohnalaw  Teeter  1. Abalone\n",
       " 1                3SBJ.DEF          íł,  Teeter  1. Abalone\n",
       " 2                     DEM         čawo  Teeter  1. Abalone\n",
       " 3                    PROG           to  Teeter  1. Abalone\n",
       " 4  how.look<nmlz.p>[3sbj]     lóło<h>w  Teeter  1. Abalone,\n",
       "       english    wiyot  author      source\n",
       " 0      toward     dók,  Teeter  1. Abalone\n",
       " 1       north    búhr,  Teeter  1. Abalone\n",
       " 2       3POSS       hu  Teeter  1. Abalone\n",
       " 3         DEF       to  Teeter  1. Abalone\n",
       " 4         out   thigad  Teeter  1. Abalone\n",
       " 5  stand<emp>  oh<ya>w  Teeter  1. Abalone\n",
       " 6    NMLZ.INF       ík  Teeter  1. Abalone\n",
       " 7         SUB        w  Teeter  1. Abalone\n",
       " 8   SUB.3DEF.     ahl.  Teeter  1. Abalone,\n",
       "             english      wiyot  author      source\n",
       " 0            toward       Dók,  Teeter  1. Abalone\n",
       " 1             south   hišbarí,  Teeter  1. Abalone\n",
       " 2              also        woł  Teeter  1. Abalone\n",
       " 3              EMPH       bał,  Teeter  1. Abalone\n",
       " 4               DEM       čawo  Teeter  1. Abalone\n",
       " 5  appear<3sbj.stv>  hołó<h>w,  Teeter  1. Abalone,\n",
       "              english         wiyot  author      source\n",
       " 0              woman  khokadówiwił  Teeter  1. Abalone\n",
       " 1                DEM          čawo  Teeter  1. Abalone\n",
       " 2               nice           kúc  Teeter  1. Abalone\n",
       " 3  appear<3sbj.stv>.     loło<h>w.  Teeter  1. Abalone\n",
       " 4               3NEG            Ko  Teeter  1. Abalone,\n",
       "      english   wiyot  author      source\n",
       " 0       know    kókw  Teeter  1. Abalone\n",
       " 1       3OBJ     uhm  Teeter  1. Abalone\n",
       " 2   3SBJ.DEF     ił,  Teeter  1. Abalone\n",
       " 3  something  kwołto  Teeter  1. Abalone\n",
       " 4        DEM      či  Teeter  1. Abalone\n",
       " 5       PROG      to  Teeter  1. Abalone\n",
       " 6       EMPH     bał  Teeter  1. Abalone,\n",
       "              english      wiyot  author      source\n",
       " 0  appear<3sbj.stv>.  lołó<h>w.  Teeter  1. Abalone\n",
       " 1                3SG   Kwiláhl,  Teeter  1. Abalone\n",
       " 2           DEM.DIST         ku  Teeter  1. Abalone\n",
       " 3              woman   carorił,  Teeter  1. Abalone\n",
       " 4                PST         hi  Teeter  1. Abalone,\n",
       "        english      wiyot  author      source\n",
       " 0         INCH        ków  Teeter  1. Abalone\n",
       " 1           go       atol  Teeter  1. Abalone\n",
       " 2     3SBJ.DEF        ił,  Teeter  1. Abalone\n",
       " 3       toward       dók,  Teeter  1. Abalone\n",
       " 4       north.      búhr.  Teeter  1. Abalone\n",
       " 5  pack.basket  Kholawúh,  Teeter  1. Abalone,\n",
       "               english    wiyot  author      source\n",
       " 0                INCH      ków  Teeter  1. Abalone\n",
       " 1  carry.on.back.3obj  ohyulaw  Teeter  1. Abalone\n",
       " 2           3SBJ.DEF.      ił.  Teeter  1. Abalone\n",
       " 3           cook<sub>   Pú<h>w  Teeter  1. Abalone\n",
       " 4           NMLZ.INST      ał,  Teeter  1. Abalone\n",
       " 5                  PL       tu  Teeter  1. Abalone,\n",
       "        english    wiyot  author      source\n",
       " 0       insert  kátawał  Teeter  1. Abalone\n",
       " 1      by.hand       in  Teeter  1. Abalone\n",
       " 2         3OBJ       ab  Teeter  1. Abalone\n",
       " 3     3SBJ.DEF      ił,  Teeter  1. Abalone\n",
       " 4  pack.basket   kholaw  Teeter  1. Abalone\n",
       " 5     SUB.3DEF      áhł  Teeter  1. Abalone\n",
       " 6         LOC.     okw.  Teeter  1. Abalone\n",
       " 7          AFF    Kitko  Teeter  1. Abalone,\n",
       "     english   wiyot  author      source\n",
       " 0       DEM    čawo  Teeter  1. Abalone\n",
       " 1      INCH    kowa  Teeter  1. Abalone\n",
       " 2      near    dihr  Teeter  1. Abalone\n",
       " 3        go    étor  Teeter  1. Abalone\n",
       " 4  3SBJ.DEF      ił  Teeter  1. Abalone\n",
       " 5       AFF  kitko,  Teeter  1. Abalone\n",
       " 6  DEM.DIST      ku  Teeter  1. Abalone,\n",
       "                english    wiyot  author      source\n",
       " 0                where   dahgad  Teeter  1. Abalone\n",
       " 1                   go     étol  Teeter  1. Abalone\n",
       " 2              NMLZ.A.      ił.  Teeter  1. Abalone\n",
       " 3              old.man  Kokwíł,  Teeter  1. Abalone\n",
       " 4  dwell.at[3sbj.def].    tòkw.  Teeter  1. Abalone\n",
       " 5             DEM.DIST      Kúd  Teeter  1. Abalone,\n",
       "       english          wiyot  author      source\n",
       " 0        also            woł  Teeter  1. Abalone\n",
       " 1        EMPH           bał,  Teeter  1. Abalone\n",
       " 2       woman  khokadówiwił,  Teeter  1. Abalone\n",
       " 3  mother.sub           kwóč  Teeter  1. Abalone\n",
       " 4   SUB.3DEF.           ahl.  Teeter  1. Abalone\n",
       " 5   young.man       Thígadił  Teeter  1. Abalone,\n",
       "         english  wiyot  author      source\n",
       " 0          ADVS   yał,  Teeter  1. Abalone\n",
       " 1          3NEG     ko  Teeter  1. Abalone\n",
       " 2           EMP     la  Teeter  1. Abalone\n",
       " 3      see.3obj    wal  Teeter  1. Abalone\n",
       " 4          NEG.    úh.  Teeter  1. Abalone\n",
       " 5      DEM.DIST     Ku  Teeter  1. Abalone\n",
       " 6  next.morning  woló,  Teeter  1. Abalone,\n",
       "     english     wiyot  author      source\n",
       " 0   in.vain       kiš  Teeter  1. Abalone\n",
       " 1      ITER        ku  Teeter  1. Abalone\n",
       " 2   look.at   tówiłor  Teeter  1. Abalone\n",
       " 3  3SBJ.DEF       ił,  Teeter  1. Abalone\n",
       " 4    toward      dók,  Teeter  1. Abalone\n",
       " 5     south  hišbarí,  Teeter  1. Abalone\n",
       " 6       DEM        či  Teeter  1. Abalone,\n",
       "     english  wiyot  author      source\n",
       " 0      3NEG     ko  Teeter  1. Abalone\n",
       " 1      ITER     ku  Teeter  1. Abalone\n",
       " 2    appear  lołól  Teeter  1. Abalone\n",
       " 3    NMLZ.P    ih,  Teeter  1. Abalone\n",
       " 4  PST.IPFV  khuno  Teeter  1. Abalone\n",
       " 5      ITER     ku  Teeter  1. Abalone\n",
       " 6       DEF     to  Teeter  1. Abalone\n",
       " 7    appear  lołól  Teeter  1. Abalone\n",
       " 8   NMLZ.P.    ih.  Teeter  1. Abalone,\n",
       "        english     wiyot  author      source\n",
       " 0          3SG   Kwiláhl  Teeter  1. Abalone\n",
       " 1         ADVS       ał,  Teeter  1. Abalone\n",
       " 2     DEM.DIST        ku  Teeter  1. Abalone\n",
       " 3  young.woman  carórił,  Teeter  1. Abalone\n",
       " 4          PST        hi  Teeter  1. Abalone\n",
       " 5         know      kókw  Teeter  1. Abalone\n",
       " 6         3OBJ       uhm  Teeter  1. Abalone\n",
       " 7     3SBJ.DEF       ił,  Teeter  1. Abalone,\n",
       "     english  wiyot  author      source\n",
       " 0       PST     hi  Teeter  1. Abalone\n",
       " 1     think    nog  Teeter  1. Abalone\n",
       " 2  3SBJ.DEF     ił  Teeter  1. Abalone\n",
       " 3       DEM   čawo  Teeter  1. Abalone\n",
       " 4      EMPH    bał  Teeter  1. Abalone\n",
       " 5       AFF  kitko  Teeter  1. Abalone,\n",
       "       english  wiyot  author      source\n",
       " 0        PROG     to  Teeter  1. Abalone\n",
       " 1  on.arrival    kwi  Teeter  1. Abalone\n",
       " 2  come[1sbj]    yú,  Teeter  1. Abalone\n",
       " 3    PST.IPFV  khuno  Teeter  1. Abalone\n",
       " 4    DEM.DIST     ku  Teeter  1. Abalone,\n",
       "      english      wiyot  author      source\n",
       " 0       PROG         to  Teeter  1. Abalone\n",
       " 1        EMP         la  Teeter  1. Abalone\n",
       " 2   see.3obj        wal  Teeter  1. Abalone\n",
       " 3       1SBJ         á,  Teeter  1. Abalone\n",
       " 4   DEM.DIST         ku  Teeter  1. Abalone\n",
       " 5  young.man  thígadił,  Teeter  1. Abalone\n",
       " 6   DEM.DIST         ku  Teeter  1. Abalone,\n",
       "       english    wiyot  author      source\n",
       " 0         DEF       to  Teeter  1. Abalone\n",
       " 1      beyond       bo  Teeter  1. Abalone\n",
       " 2         out   thigad  Teeter  1. Abalone\n",
       " 3  stand<emp>  oh<ya>w  Teeter  1. Abalone\n",
       " 4     NMLZ.A.      ìł.  Teeter  1. Abalone\n",
       " 5     in.vain      Kiš  Teeter  1. Abalone\n",
       " 6        ITER       ku  Teeter  1. Abalone\n",
       " 7         out     thig  Teeter  1. Abalone\n",
       " 8          go     átol  Teeter  1. Abalone\n",
       " 9    3SBJ.DEF      ił,  Teeter  1. Abalone,\n",
       "      english      wiyot  author      source\n",
       " 0   DEM.DIST         ku  Teeter  1. Abalone\n",
       " 1  young.man  thígadił,  Teeter  1. Abalone\n",
       " 2    in.vain        kiš  Teeter  1. Abalone\n",
       " 3       ITER         ku  Teeter  1. Abalone\n",
       " 4    look.at    tówiłor  Teeter  1. Abalone\n",
       " 5   3SBJ.DEF        ił,  Teeter  1. Abalone,\n",
       "    english     wiyot  author      source\n",
       " 0   toward      dók,  Teeter  1. Abalone\n",
       " 1    south  hišbarí,  Teeter  1. Abalone\n",
       " 2      DEM        či  Teeter  1. Abalone\n",
       " 3     3NEG        ko  Teeter  1. Abalone\n",
       " 4     ITER        ku  Teeter  1. Abalone\n",
       " 5   appear     lołól  Teeter  1. Abalone\n",
       " 6  NMLZ.P.       ih.  Teeter  1. Abalone\n",
       " 7     3NEG        Ko  Teeter  1. Abalone,\n",
       "      english wiyot  author      source\n",
       " 0       talk  thál  Teeter  1. Abalone\n",
       " 1       3OBJ    im  Teeter  1. Abalone\n",
       " 2  3SBJ.DEF.   ił.  Teeter  1. Abalone\n",
       " 3       3NEG    Ko  Teeter  1. Abalone\n",
       " 4       talk  thál  Teeter  1. Abalone\n",
       " 5       3OBJ    im  Teeter  1. Abalone\n",
       " 6   3SBJ.DEF   ił,  Teeter  1. Abalone\n",
       " 7   DEM.DIST    ku  Teeter  1. Abalone,\n",
       "         english     wiyot  author      source\n",
       " 0  young.woman.  carórił.  Teeter  1. Abalone\n",
       " 1      DEM.DIST       Kud  Teeter  1. Abalone\n",
       " 2       old.man   kokwíł,  Teeter  1. Abalone\n",
       " 3           PST        hi  Teeter  1. Abalone,\n",
       "      english  wiyot  author      source\n",
       " 0        say      y  Teeter  1. Abalone\n",
       " 1       3OBJ  itham  Teeter  1. Abalone\n",
       " 2    INST.TR     út  Teeter  1. Abalone\n",
       " 3   3SBJ.DEF    ił,  Teeter  1. Abalone\n",
       " 4       2NEG    kho  Teeter  1. Abalone\n",
       " 5       talk   thál  Teeter  1. Abalone\n",
       " 6  3<NEG>OBJ  i<h>m  Teeter  1. Abalone\n",
       " 7       ADVS    yał  Teeter  1. Abalone\n",
       " 8        INT    yo,  Teeter  1. Abalone,\n",
       "            english     wiyot  author      source\n",
       " 0              DEM      čawo  Teeter  1. Abalone\n",
       " 1             like        yo  Teeter  1. Abalone\n",
       " 2  be.so[3sbj.def]      dákw  Teeter  1. Abalone\n",
       " 3             EMPH      bał,  Teeter  1. Abalone\n",
       " 4             from       wik  Teeter  1. Abalone\n",
       " 5            south  hišbarí,  Teeter  1. Abalone\n",
       " 6         PST.IPFV     khuno  Teeter  1. Abalone,\n",
       "          english     wiyot  author      source\n",
       " 0       DEM.DIST        ku  Teeter  1. Abalone\n",
       " 1  come.that.way       dúw  Teeter  1. Abalone\n",
       " 2       3SBJ.DEF       ił,  Teeter  1. Abalone\n",
       " 3   young.woman.  carórił.  Teeter  1. Abalone\n",
       " 4            DEM        Či  Teeter  1. Abalone,\n",
       "     english  wiyot  author      source\n",
       " 0      3NEG     ko  Teeter  1. Abalone\n",
       " 1      ITER     ku  Teeter  1. Abalone\n",
       " 2    appear  lołól  Teeter  1. Abalone\n",
       " 3    NMLZ.P    ih,  Teeter  1. Abalone\n",
       " 4  PST.IPFV  khuno  Teeter  1. Abalone\n",
       " 5  DEM.DIST     ku  Teeter  1. Abalone\n",
       " 6       DEF     to  Teeter  1. Abalone\n",
       " 7    appear  lołól  Teeter  1. Abalone\n",
       " 8    NMLZ.P    ih,  Teeter  1. Abalone,\n",
       "            english    wiyot  author      source\n",
       " 0              DEM     čawo  Teeter  1. Abalone\n",
       " 1             like       yo  Teeter  1. Abalone\n",
       " 2  be.so[3sbj.def]     dákw  Teeter  1. Abalone\n",
       " 3            EMPH.     bał.  Teeter  1. Abalone\n",
       " 4              NEG  Kíyowl,  Teeter  1. Abalone\n",
       " 5             3NEG       ko  Teeter  1. Abalone,\n",
       "       english    wiyot  author      source\n",
       " 0        talk     thál  Teeter  1. Abalone\n",
       " 1        3OBJ       im  Teeter  1. Abalone\n",
       " 2   3SBJ.DEF.      ił.  Teeter  1. Abalone\n",
       " 3        PROG       To  Teeter  1. Abalone\n",
       " 4     in.vain      kiš  Teeter  1. Abalone\n",
       " 5        ITER       ku  Teeter  1. Abalone\n",
       " 6         out   thigad  Teeter  1. Abalone\n",
       " 7  stand<emp>  oh<ya>w  Teeter  1. Abalone\n",
       " 8    3SBJ.DEF       íł  Teeter  1. Abalone,\n",
       "      english    wiyot  author      source\n",
       " 0       PROG       to  Teeter  1. Abalone\n",
       " 1    in.vain      kiš  Teeter  1. Abalone\n",
       " 2       ITER       ku  Teeter  1. Abalone\n",
       " 3    look.at  tówiłor  Teeter  1. Abalone\n",
       " 4  3SBJ.DEF.      ił.  Teeter  1. Abalone\n",
       " 5       PROG       To  Teeter  1. Abalone\n",
       " 6        DUB     kito  Teeter  1. Abalone,\n",
       "     english     wiyot  author      source\n",
       " 0      then       kos  Teeter  1. Abalone\n",
       " 1       PFV        bú  Teeter  1. Abalone\n",
       " 2      stay       kot  Teeter  1. Abalone\n",
       " 3  NMLZ.INF       ak,  Teeter  1. Abalone\n",
       " 4       DUB     kiyo,  Teeter  1. Abalone\n",
       " 5       one       kut  Teeter  1. Abalone\n",
       " 6     month  katolakw  Teeter  1. Abalone\n",
       " 7       DEF        to  Teeter  1. Abalone\n",
       " 8      DUB.     kíto.  Teeter  1. Abalone,\n",
       "     english   wiyot  author      source\n",
       " 0       PST      Hi  Teeter  1. Abalone\n",
       " 1       say       y  Teeter  1. Abalone\n",
       " 2      3OBJ   itham  Teeter  1. Abalone\n",
       " 3   INST.TR      út  Teeter  1. Abalone\n",
       " 4  3SBJ.DEF     ił,  Teeter  1. Abalone\n",
       " 5       AFF   kitko  Teeter  1. Abalone\n",
       " 6       3PL  tokwun  Teeter  1. Abalone\n",
       " 7  DEM.DIST      ku  Teeter  1. Abalone,\n",
       "     english    wiyot  author      source\n",
       " 0  old.folk  lokwíł,  Teeter  1. Abalone\n",
       " 1      ITER       ku  Teeter  1. Abalone\n",
       " 2      INCH      ków  Teeter  1. Abalone\n",
       " 3  go[1sbj]     atol  Teeter  1. Abalone\n",
       " 4       AFF   kitko,  Teeter  1. Abalone\n",
       " 5    toward     dók,  Teeter  1. Abalone,\n",
       "       english        wiyot  author      source\n",
       " 0      south.     hišbarí.  Teeter  1. Abalone\n",
       " 1  in.morning        Woló,  Teeter  1. Abalone\n",
       " 2         out         thig  Teeter  1. Abalone\n",
       " 3          go         átol  Teeter  1. Abalone\n",
       " 4    3SBJ.DEF          ił,  Teeter  1. Abalone\n",
       " 5       go.to           bo  Teeter  1. Abalone\n",
       " 6       bathe  tathigalísw  Teeter  1. Abalone\n",
       " 7        REFL           iw  Teeter  1. Abalone\n",
       " 8   3SBJ.DEF.          ił.  Teeter  1. Abalone,\n",
       "      english wiyot  author      source\n",
       " 0      3POSS    Hu  Teeter  1. Abalone\n",
       " 1       hair   pół  Teeter  1. Abalone\n",
       " 2   SUB.3DEF  ahl,  Teeter  1. Abalone\n",
       " 3     nicely   kuc  Teeter  1. Abalone\n",
       " 4        PST    hi  Teeter  1. Abalone\n",
       " 5         do   yók  Teeter  1. Abalone\n",
       " 6       3OBJ    ab  Teeter  1. Abalone\n",
       " 7  3SBJ.DEF.   ił.  Teeter  1. Abalone,\n",
       "        english   wiyot  author      source\n",
       " 0  pack.basket  Kholaw  Teeter  1. Abalone\n",
       " 1          INS      áł  Teeter  1. Abalone\n",
       " 2     SUB.3DEF    ahl,  Teeter  1. Abalone\n",
       " 3       nicely     kuc  Teeter  1. Abalone\n",
       " 4          PST      hi  Teeter  1. Abalone\n",
       " 5         INCH    kówa  Teeter  1. Abalone\n",
       " 6           do     lok  Teeter  1. Abalone\n",
       " 7         3OBJ      ab  Teeter  1. Abalone\n",
       " 8    3SBJ.DEF.     ił.  Teeter  1. Abalone,\n",
       "      english   wiyot  author      source\n",
       " 0   PST.IPFV   Khuno  Teeter  1. Abalone\n",
       " 1   DEM.DIST     kud  Teeter  1. Abalone\n",
       " 2  cook<sub>  pú<h>w  Teeter  1. Abalone\n",
       " 3  NMLZ.INST     ał,  Teeter  1. Abalone\n",
       " 4        NEG  kíyowl  Teeter  1. Abalone\n",
       " 5       ADVS      ał  Teeter  1. Abalone\n",
       " 6       EMPH    itk,  Teeter  1. Abalone,\n",
       "                 english     wiyot  author      source\n",
       " 0                   NEG    kíyowl  Teeter  1. Abalone\n",
       " 1                  ADVS        ał  Teeter  1. Abalone\n",
       " 2                  EMPH      itk,  Teeter  1. Abalone\n",
       " 3             cook<sub>    pú<h>w  Teeter  1. Abalone\n",
       " 4             NMLZ.INST       ał,  Teeter  1. Abalone\n",
       " 5  woodpecker.headdress  tarokóhw  Teeter  1. Abalone,\n",
       "     english   wiyot  author      source\n",
       " 0      ADVS     yał  Teeter  1. Abalone\n",
       " 1      EMPH     itk  Teeter  1. Abalone\n",
       " 2       DEM      či  Teeter  1. Abalone\n",
       " 3      PROG      to  Teeter  1. Abalone\n",
       " 4        PL      tu  Teeter  1. Abalone\n",
       " 5     stand  tohlaw  Teeter  1. Abalone\n",
       " 6  3SBJ.DEF     íł,  Teeter  1. Abalone\n",
       " 7  PST.IPFV   khuno  Teeter  1. Abalone,\n",
       "      english   wiyot  author      source\n",
       " 0      think     dów  Teeter  1. Abalone\n",
       " 1     NMLZ.P      ih  Teeter  1. Abalone\n",
       " 2        DEF      to  Teeter  1. Abalone\n",
       " 3        DUB    kito  Teeter  1. Abalone\n",
       " 4  cook<sub>  pú<h>w  Teeter  1. Abalone\n",
       " 5  NMLZ.INST     ał,  Teeter  1. Abalone\n",
       " 6         PL      tu  Teeter  1. Abalone,\n",
       "      english      wiyot  author      source\n",
       " 0     insert    kátawał  Teeter  1. Abalone\n",
       " 1    by.hand         in  Teeter  1. Abalone\n",
       " 2       3OBJ         ab  Teeter  1. Abalone\n",
       " 3  3SBJ.DEF.        ił.  Teeter  1. Abalone\n",
       " 4        DEM       Čawo  Teeter  1. Abalone\n",
       " 5     beyond        bó,  Teeter  1. Abalone\n",
       " 6   DEM.DIST         ku  Teeter  1. Abalone\n",
       " 7  young.man  thígadił,  Teeter  1. Abalone,\n",
       "     english  wiyot  author      source\n",
       " 0      PROG     to  Teeter  1. Abalone\n",
       " 1   talk.to   thál  Teeter  1. Abalone\n",
       " 2      3OBJ     im  Teeter  1. Abalone\n",
       " 3  3SBJ.DEF    ił,  Teeter  1. Abalone\n",
       " 4       PST     hi  Teeter  1. Abalone\n",
       " 5       say      y  Teeter  1. Abalone\n",
       " 6      3OBJ  itham  Teeter  1. Abalone\n",
       " 7   INST.TR     ut  Teeter  1. Abalone\n",
       " 8  3SBJ.DEF     ił  Teeter  1. Abalone\n",
       " 9       AFF  kitko  Teeter  1. Abalone,\n",
       "     english wiyot  author      source\n",
       " 0      2NEG   kho  Teeter  1. Abalone\n",
       " 1      ITER    ku  Teeter  1. Abalone\n",
       " 2        go   lág  Teeter  1. Abalone\n",
       " 3      NEG.   ih.  Teeter  1. Abalone\n",
       " 4       PST    Hi  Teeter  1. Abalone\n",
       " 5       say   yíl  Teeter  1. Abalone\n",
       " 6  3SBJ.DEF    ił  Teeter  1. Abalone\n",
       " 7   already    ła  Teeter  1. Abalone\n",
       " 8    enough   pič  Teeter  1. Abalone,\n",
       "       english  wiyot  author      source\n",
       " 0        then    kos  Teeter  1. Abalone\n",
       " 1         PFV     bu  Teeter  1. Abalone\n",
       " 2  stay[1sbj]   koł,  Teeter  1. Abalone\n",
       " 3         AFF  kitko  Teeter  1. Abalone\n",
       " 4         now  wakił  Teeter  1. Abalone\n",
       " 5        ITER     kú  Teeter  1. Abalone\n",
       " 6   go[1sbj].   lag.  Teeter  1. Abalone\n",
       " 7        ITER     Ku  Teeter  1. Abalone\n",
       " 8        INCH    ków  Teeter  1. Abalone\n",
       " 9    go[1sbj]  atol,  Teeter  1. Abalone,\n",
       "       english   wiyot  author      source\n",
       " 0        AFF.  kítko.  Teeter  1. Abalone\n",
       " 1        ITER      Ku  Teeter  1. Abalone\n",
       " 2        INCH     ków  Teeter  1. Abalone\n",
       " 3          go    atol  Teeter  1. Abalone\n",
       " 4    3SBJ.DEF     ił,  Teeter  1. Abalone\n",
       " 5    DEM.DIST      ku  Teeter  1. Abalone\n",
       " 6  old.people  lokwíł  Teeter  1. Abalone\n",
       " 7        also     woł  Teeter  1. Abalone\n",
       " 8        EMPH     bał  Teeter  1. Abalone,\n",
       "      english    wiyot  author      source\n",
       " 0        3PL  tokwun,  Teeter  1. Abalone\n",
       " 1    in.vain      kiš  Teeter  1. Abalone\n",
       " 2       EMPH       ko  Teeter  1. Abalone\n",
       " 3      think      nog  Teeter  1. Abalone\n",
       " 4   3SBJ.DEF      íł,  Teeter  1. Abalone\n",
       " 5       PROG       to  Teeter  1. Abalone\n",
       " 6       ITER       ku  Teeter  1. Abalone\n",
       " 7         go      lag  Teeter  1. Abalone\n",
       " 8  3SBJ.DEF.      ił.  Teeter  1. Abalone,\n",
       "      english  wiyot  author      source\n",
       " 0       INCH    Ków  Teeter  1. Abalone\n",
       " 1         go   atol  Teeter  1. Abalone\n",
       " 2  3SBJ.DEF.    ił.  Teeter  1. Abalone\n",
       " 3       INCH    Ków  Teeter  1. Abalone\n",
       " 4     follow   okwš  Teeter  1. Abalone\n",
       " 5       3OBJ    ihm  Teeter  1. Abalone\n",
       " 6   3SBJ.DEF    ił,  Teeter  1. Abalone\n",
       " 7     behind  wičbi  Teeter  1. Abalone,\n",
       "          english     wiyot  author      source\n",
       " 0           INCH       ków  Teeter  1. Abalone\n",
       " 1         follow      okwš  Teeter  1. Abalone\n",
       " 2           3OBJ       ihm  Teeter  1. Abalone\n",
       " 3      3SBJ.DEF.       ił.  Teeter  1. Abalone\n",
       " 4  crescent.city  Tólawog,  Teeter  1. Abalone\n",
       " 5           PROG        to  Teeter  1. Abalone\n",
       " 6           ITER        ku  Teeter  1. Abalone,\n",
       "         english          wiyot  author      source\n",
       " 0           PFV             bu  Teeter  1. Abalone\n",
       " 1       go.from            łag  Teeter  1. Abalone\n",
       " 2            go           átol  Teeter  1. Abalone\n",
       " 3     3SBJ.DEF.            ił.  Teeter  1. Abalone\n",
       " 4  trinidad.bay  Tokačwoyówik,  Teeter  1. Abalone\n",
       " 5           DEM           čawo  Teeter  1. Abalone\n",
       " 6        beyond            bó,  Teeter  1. Abalone,\n",
       "              english      wiyot  author      source\n",
       " 0        from.behind       dołe  Teeter  1. Abalone\n",
       " 1  overtake<nmlz.p>.  búna<h>n.  Teeter  1. Abalone\n",
       " 2                DEM       Čawo  Teeter  1. Abalone\n",
       " 3        from.behind       dołé  Teeter  1. Abalone\n",
       " 4     grasp<nmlz.p>.   kha<h>n.  Teeter  1. Abalone,\n",
       "      english     wiyot  author      source\n",
       " 0        PST        Hi  Teeter  1. Abalone\n",
       " 1        say       yíl  Teeter  1. Abalone\n",
       " 2   3SBJ.DEF        ił  Teeter  1. Abalone\n",
       " 3        AFF     kitko  Teeter  1. Abalone\n",
       " 4       1NEG      kado  Teeter  1. Abalone\n",
       " 5       ITER        ku  Teeter  1. Abalone\n",
       " 6  turn.back      kúhm  Teeter  1. Abalone\n",
       " 7    go<neg>  ato<h>l,  Teeter  1. Abalone\n",
       " 8        DEM      čawo  Teeter  1. Abalone,\n",
       "        english  wiyot  author      source\n",
       " 0         EMPH    bał  Teeter  1. Abalone\n",
       " 1          AFF  kitko  Teeter  1. Abalone\n",
       " 2         PROG     tó  Teeter  1. Abalone\n",
       " 3    go[1sbj].   tol.  Teeter  1. Abalone\n",
       " 4  from.behind   Dołé  Teeter  1. Abalone\n",
       " 5        catch   khan  Teeter  1. Abalone\n",
       " 6         3OBJ     ab  Teeter  1. Abalone\n",
       " 7    3SBJ.DEF.    ił.  Teeter  1. Abalone,\n",
       "       english wiyot  author      source\n",
       " 0         SER   Tó,  Teeter  1. Abalone\n",
       " 1        INCH  kówa  Teeter  1. Abalone\n",
       " 2  abuse.3obj   lok  Teeter  1. Abalone\n",
       " 3   3SBJ.IMPL   ad,  Teeter  1. Abalone\n",
       " 4         SER   tó,  Teeter  1. Abalone\n",
       " 5        INCH  kówa  Teeter  1. Abalone,\n",
       "       english  wiyot  author      source\n",
       " 0  abuse.3obj    lok  Teeter  1. Abalone\n",
       " 1   3SBJ.IMPL    ad,  Teeter  1. Abalone\n",
       " 2       knife  púmip  Teeter  1. Abalone\n",
       " 3    SUB.3DEF   ahl,  Teeter  1. Abalone\n",
       " 4         SER    tó,  Teeter  1. Abalone\n",
       " 5        INCH   kowa  Teeter  1. Abalone,\n",
       "           english       wiyot  author      source\n",
       " 0      abuse.3obj        lokw  Teeter  1. Abalone\n",
       " 1       INST.IMPL      ónihl,  Teeter  1. Abalone\n",
       " 2            back    totkadag  Teeter  1. Abalone\n",
       " 3  3SBJ.DEF[NMLZ]         íł,  Teeter  1. Abalone\n",
       " 4        all.over  kucawánis,  Teeter  1. Abalone\n",
       " 5         finally          ło  Teeter  1. Abalone,\n",
       "            english     wiyot  author      source\n",
       " 0         cut.3obj    łuhlaw  Teeter  1. Abalone\n",
       " 1   cl.long.object       okh  Teeter  1. Abalone\n",
       " 2             CAUS        iy  Teeter  1. Abalone\n",
       " 3        3SBJ.IMPL        ád  Teeter  1. Abalone\n",
       " 4             back  totkadag  Teeter  1. Abalone\n",
       " 5  3SBJ.DEF[NMLZ].       íł.  Teeter  1. Abalone,\n",
       "          english     wiyot  author      source\n",
       " 0            DEM      Čawo  Teeter  1. Abalone\n",
       " 1            now     wakił  Teeter  1. Abalone\n",
       " 2  when.nmlz.adv        hu  Teeter  1. Abalone\n",
       " 3            DEF        tó  Teeter  1. Abalone\n",
       " 4   happen[3sbj]  nagadak,  Teeter  1. Abalone\n",
       " 5          blood    kahwik  Teeter  1. Abalone\n",
       " 6           like        yo  Teeter  1. Abalone,\n",
       "                english    wiyot  author      source\n",
       " 0                 EMPH      bał  Teeter  1. Abalone\n",
       " 1                 like       yo  Teeter  1. Abalone\n",
       " 2  appear.so[3sbj.def]     dákw  Teeter  1. Abalone\n",
       " 3              abalone   hiwót,  Teeter  1. Abalone\n",
       " 4                blood  káhwik,  Teeter  1. Abalone\n",
       " 5                  DEM     čawo  Teeter  1. Abalone,\n",
       "              english           wiyot  author      source\n",
       " 0  appear<3sbj.def>.       hołó<h>w.  Teeter  1. Abalone\n",
       " 1       trinidad.bay  Tokačawoyówik,  Teeter  1. Abalone\n",
       " 2                now           wakił  Teeter  1. Abalone\n",
       " 3            abalone          hiwót,  Teeter  1. Abalone\n",
       " 4                DEM            čawó  Teeter  1. Abalone,\n",
       "        english     wiyot  author      source\n",
       " 0         PROG        to  Teeter  1. Abalone\n",
       " 1         EMPH      bał,  Teeter  1. Abalone\n",
       " 2     DEM.DIST        ku  Teeter  1. Abalone\n",
       " 3  young.woman  carórił,  Teeter  1. Abalone\n",
       " 4          DEM      čawó  Teeter  1. Abalone,\n",
       "                english  wiyot  author      source\n",
       " 0  dwell.at[3sbj.def].  tokw.  Teeter  1. Abalone\n",
       " 1                  DEM   Čawo  Teeter  1. Abalone\n",
       " 2                 PROG     to  Teeter  1. Abalone\n",
       " 3          from.behind   dołe  Teeter  1. Abalone,\n",
       "       english      wiyot  author      source\n",
       " 0   turn.back       kúhm  Teeter  1. Abalone\n",
       " 1          go       atol  Teeter  1. Abalone\n",
       " 2    3SBJ.DEF        ił,  Teeter  1. Abalone\n",
       " 3    DEM.DIST         ku  Teeter  1. Abalone\n",
       " 4  young.man.  thígadił.  Teeter  1. Abalone]"
      ]
     },
     "execution_count": 183,
     "metadata": {},
     "output_type": "execute_result"
    }
   ],
   "source": []
  },
  {
   "cell_type": "code",
   "execution_count": 161,
   "id": "f0ba51a1",
   "metadata": {
    "ExecuteTime": {
     "end_time": "2021-09-07T23:20:55.290855Z",
     "start_time": "2021-09-07T23:20:55.284819Z"
    }
   },
   "outputs": [
    {
     "data": {
      "text/plain": [
       "'Teeter'"
      ]
     },
     "execution_count": 161,
     "metadata": {},
     "output_type": "execute_result"
    }
   ],
   "source": []
  },
  {
   "cell_type": "code",
   "execution_count": 90,
   "id": "d742f746",
   "metadata": {
    "ExecuteTime": {
     "end_time": "2021-09-06T20:00:32.356668Z",
     "start_time": "2021-09-06T20:00:32.350215Z"
    }
   },
   "outputs": [],
   "source": [
    "eng2wiyotDFAll = pd.concat(alldictionaries)"
   ]
  },
  {
   "cell_type": "code",
   "execution_count": 96,
   "id": "bdb8fa88",
   "metadata": {
    "ExecuteTime": {
     "end_time": "2021-09-06T20:01:09.633857Z",
     "start_time": "2021-09-06T20:01:09.628775Z"
    }
   },
   "outputs": [],
   "source": [
    "uniqueEnglishWords = list(set(eng2wiyotDFAll.english))"
   ]
  },
  {
   "cell_type": "code",
   "execution_count": 113,
   "id": "92bfadbd",
   "metadata": {
    "ExecuteTime": {
     "end_time": "2021-09-06T20:05:33.477871Z",
     "start_time": "2021-09-06T20:05:33.434485Z"
    }
   },
   "outputs": [],
   "source": [
    "eng2wiyot = dict()\n",
    "for engWord in uniqueEnglishWords:\n",
    "    \"\"\"\n",
    "    For each english word, get all the corresponding wiyot words and create a dictionary.\n",
    "    This takes care of differences in spelling\n",
    "    \"\"\"\n",
    "    wiyotMatch = eng2wiyotDFAll[eng2wiyotDFAll.english==engWord]['wiyot']\n",
    "    wiyotMatch = list(wiyotMatch)\n",
    "    wiyotMatch = list(set([_.lower() for _ in wiyotMatch]))\n",
    "    eng2wiyot[engWord] = wiyotMatch"
   ]
  },
  {
   "cell_type": "code",
   "execution_count": 116,
   "id": "af0cf781",
   "metadata": {
    "ExecuteTime": {
     "end_time": "2021-09-06T20:07:25.357579Z",
     "start_time": "2021-09-06T20:07:25.352502Z"
    }
   },
   "outputs": [
    {
     "data": {
      "text/plain": [
       "['wuphedakáckš', 'wuphedakáčhkš']"
      ]
     },
     "execution_count": 116,
     "metadata": {},
     "output_type": "execute_result"
    }
   ],
   "source": [
    "eng2wiyot['put']"
   ]
  },
  {
   "cell_type": "code",
   "execution_count": 124,
   "id": "cbcbf136",
   "metadata": {
    "ExecuteTime": {
     "end_time": "2021-09-06T20:08:37.832579Z",
     "start_time": "2021-09-06T20:08:37.827446Z"
    }
   },
   "outputs": [],
   "source": [
    "englishWordFreq = eng2wiyotDFAll['english'].value_counts().reset_index()\n",
    "englishWordFreq.columns = ['word','frequency']"
   ]
  },
  {
   "cell_type": "code",
   "execution_count": 129,
   "id": "2d704a92",
   "metadata": {
    "ExecuteTime": {
     "end_time": "2021-09-06T20:09:53.808217Z",
     "start_time": "2021-09-06T20:09:53.795953Z"
    }
   },
   "outputs": [],
   "source": [
    "dat = englishWordFreq[englishWordFreq['frequency'] > 1]"
   ]
  },
  {
   "cell_type": "code",
   "execution_count": 133,
   "id": "a5423e8f",
   "metadata": {
    "ExecuteTime": {
     "end_time": "2021-09-06T20:10:40.487177Z",
     "start_time": "2021-09-06T20:10:40.257587Z"
    }
   },
   "outputs": [
    {
     "data": {
      "image/png": "[encoded data removed]",
      "text/plain": [
       "<Figure size 216x504 with 1 Axes>"
      ]
     },
     "metadata": {
      "needs_background": "light"
     },
     "output_type": "display_data"
    }
   ],
   "source": [
    "plt.figure(figsize=(3,7))\n",
    "plt.title('Frequency of words')\n",
    "sns.barplot(y='word',x='frequency',data=dat,color='skyblue')\n",
    "plt.show()"
   ]
  },
  {
   "cell_type": "code",
   "execution_count": 71,
   "id": "28bee522",
   "metadata": {
    "ExecuteTime": {
     "end_time": "2021-09-06T19:49:01.761356Z",
     "start_time": "2021-09-06T19:49:01.754775Z"
    }
   },
   "outputs": [
    {
     "data": {
      "text/plain": [
       "{'crow': 'Kacid',\n",
       " 'please': 'wule',\n",
       " 'call.kin.in.law': 'póyakhd',\n",
       " 'NMLZ.A': 'ił',\n",
       " 'ocean': 'šudi',\n",
       " 'other.side': 'lákhow'}"
      ]
     },
     "execution_count": 71,
     "metadata": {},
     "output_type": "execute_result"
    }
   ],
   "source": []
  },
  {
   "cell_type": "code",
   "execution_count": 63,
   "id": "18e6f5fd",
   "metadata": {
    "ExecuteTime": {
     "end_time": "2021-09-06T19:48:02.658405Z",
     "start_time": "2021-09-06T19:48:02.654258Z"
    }
   },
   "outputs": [],
   "source": []
  },
  {
   "cell_type": "code",
   "execution_count": 65,
   "id": "25fb864a",
   "metadata": {
    "ExecuteTime": {
     "end_time": "2021-09-06T19:48:19.571175Z",
     "start_time": "2021-09-06T19:48:19.563754Z"
    }
   },
   "outputs": [
    {
     "data": {
      "text/plain": [
       "['crow', 'please', 'call.kin.in.law', 'NMLZ.A', 'ocean', 'other.side']"
      ]
     },
     "execution_count": 65,
     "metadata": {},
     "output_type": "execute_result"
    }
   ],
   "source": []
  },
  {
   "cell_type": "code",
   "execution_count": null,
   "id": "1244e85d",
   "metadata": {},
   "outputs": [],
   "source": []
  }
 ],
 "metadata": {
  "kernelspec": {
   "display_name": "Python 3 (ipykernel)",
   "language": "python",
   "name": "python3"
  },
  "language_info": {
   "codemirror_mode": {
    "name": "ipython",
    "version": 3
   },
   "file_extension": ".py",
   "mimetype": "text/x-python",
   "name": "python",
   "nbconvert_exporter": "python",
   "pygments_lexer": "ipython3",
   "version": "3.9.5"
  },
  "varInspector": {
   "cols": {
    "lenName": 16,
    "lenType": 16,
    "lenVar": 40
   },
   "kernels_config": {
    "python": {
     "delete_cmd_postfix": "",
     "delete_cmd_prefix": "del ",
     "library": "var_list.py",
     "varRefreshCmd": "print(var_dic_list())"
    },
    "r": {
     "delete_cmd_postfix": ") ",
     "delete_cmd_prefix": "rm(",
     "library": "var_list.r",
     "varRefreshCmd": "cat(var_dic_list()) "
    }
   },
   "types_to_exclude": [
    "module",
    "function",
    "builtin_function_or_method",
    "instance",
    "_Feature"
   ],
   "window_display": false
  }
 },
 "nbformat": 4,
 "nbformat_minor": 5
}
