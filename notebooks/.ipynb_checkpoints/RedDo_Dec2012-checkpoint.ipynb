{
 "cells": [
  {
   "cell_type": "code",
   "execution_count": 1,
   "id": "44a2c81c",
   "metadata": {
    "ExecuteTime": {
     "end_time": "2021-12-06T03:25:24.445871Z",
     "start_time": "2021-12-06T03:25:20.101947Z"
    }
   },
   "outputs": [],
   "source": [
    "import pandas as pd"
   ]
  },
  {
   "cell_type": "code",
   "execution_count": 49,
   "id": "6327a7ee",
   "metadata": {
    "ExecuteTime": {
     "end_time": "2021-12-06T03:43:05.833852Z",
     "start_time": "2021-12-06T03:43:05.802872Z"
    }
   },
   "outputs": [],
   "source": [
    "#kroeber = pd.read_excel(f'../data/Kroeber texts.xlsx',None)\n",
    "kroeber = pd.read_excel('../data/Kroeber texts (2).xlsx',None)"
   ]
  },
  {
   "cell_type": "code",
   "execution_count": 10,
   "id": "dc26f37c",
   "metadata": {
    "ExecuteTime": {
     "end_time": "2021-12-06T03:37:33.407537Z",
     "start_time": "2021-12-06T03:37:33.403250Z"
    }
   },
   "outputs": [],
   "source": [
    "_isna = lambda x: x.isna()"
   ]
  },
  {
   "cell_type": "code",
   "execution_count": 8,
   "id": "413d3f78",
   "metadata": {
    "ExecuteTime": {
     "end_time": "2021-12-06T03:37:05.829205Z",
     "start_time": "2021-12-06T03:37:05.824945Z"
    }
   },
   "outputs": [],
   "source": []
  },
  {
   "cell_type": "code",
   "execution_count": 51,
   "id": "9a0fa50d",
   "metadata": {
    "ExecuteTime": {
     "end_time": "2021-12-06T03:43:12.100588Z",
     "start_time": "2021-12-06T03:43:12.087477Z"
    }
   },
   "outputs": [
    {
     "data": {
      "text/html": [
       "<div>\n",
       "<style scoped>\n",
       "    .dataframe tbody tr th:only-of-type {\n",
       "        vertical-align: middle;\n",
       "    }\n",
       "\n",
       "    .dataframe tbody tr th {\n",
       "        vertical-align: top;\n",
       "    }\n",
       "\n",
       "    .dataframe thead th {\n",
       "        text-align: right;\n",
       "    }\n",
       "</style>\n",
       "<table border=\"1\" class=\"dataframe\">\n",
       "  <thead>\n",
       "    <tr style=\"text-align: right;\">\n",
       "      <th></th>\n",
       "      <th>Unnamed: 1</th>\n",
       "    </tr>\n",
       "  </thead>\n",
       "  <tbody>\n",
       "    <tr>\n",
       "      <th>0</th>\n",
       "      <td>Kacid    wule-póyakhd-ił     šudi-lákhow</td>\n",
       "    </tr>\n",
       "    <tr>\n",
       "      <th>1</th>\n",
       "      <td>Crow    please-call.kin.in.law-NMLZ.A   ocean-...</td>\n",
       "    </tr>\n",
       "    <tr>\n",
       "      <th>2</th>\n",
       "      <td>Crow went to his kin-in-law across the ocean.</td>\n",
       "    </tr>\n",
       "    <tr>\n",
       "      <th>3</th>\n",
       "      <td>wule-póyakhd-ił    hi-wú-lag-ił.     Šudi-lákhow</td>\n",
       "    </tr>\n",
       "    <tr>\n",
       "      <th>4</th>\n",
       "      <td>please-be.related.by.marriage-NMLZ.A   PST-PFV...</td>\n",
       "    </tr>\n",
       "  </tbody>\n",
       "</table>\n",
       "</div>"
      ],
      "text/plain": [
       "                                          Unnamed: 1\n",
       "0           Kacid    wule-póyakhd-ił     šudi-lákhow\n",
       "1  Crow    please-call.kin.in.law-NMLZ.A   ocean-...\n",
       "2      Crow went to his kin-in-law across the ocean.\n",
       "3   wule-póyakhd-ił    hi-wú-lag-ił.     Šudi-lákhow\n",
       "4  please-be.related.by.marriage-NMLZ.A   PST-PFV..."
      ]
     },
     "execution_count": 51,
     "metadata": {},
     "output_type": "execute_result"
    }
   ],
   "source": [
    "# Remove empty columns\n",
    "data = kroeber['Crow']\n",
    "data = data[~data.apply(_isna,0).all(1)]\n",
    "data = data.iloc[:,1:].reset_index(drop=True)\n",
    "data.head(5)"
   ]
  },
  {
   "cell_type": "code",
   "execution_count": 102,
   "id": "a8e387ab",
   "metadata": {
    "ExecuteTime": {
     "end_time": "2021-12-06T04:22:59.989277Z",
     "start_time": "2021-12-06T04:22:59.977314Z"
    }
   },
   "outputs": [],
   "source": [
    "wiyotSeparator = \"   \"         \n",
    "getWiyot = lambda data,i: data.loc[i][0]\n",
    "getGloss = lambda data,i: data.loc[i][0]\n",
    "getEnglish = lambda data,i: data.loc[i][0]\n",
    "###\n",
    "splitGloss = lambda gloss: [_.split('.') for _ in gloss.split(wiyotSeparator)]\n",
    "####\n",
    "\n",
    "def readPreverbHierarchy(path='../data/preverbhierarchy.tsv'):\n",
    "    preverbhierarchy = pd.read_csv(path,sep='\\t')\n",
    "    preverb2level = dict(zip(preverbhierarchy['preverb'],preverbhierarchy['Level']))\n",
    "    preverb2class = dict(zip(preverbhierarchy['preverb'],preverbhierarchy['Class']))\n",
    "    return preverbhierarchy, preverb2level, preverb2class\n",
    "preverbhierarchy, preverb2level, preverb2class = readPreverbHierarchy()"
   ]
  },
  {
   "cell_type": "markdown",
   "id": "d8066d55",
   "metadata": {
    "ExecuteTime": {
     "end_time": "2021-12-06T03:43:36.102438Z",
     "start_time": "2021-12-06T03:43:36.095730Z"
    }
   },
   "source": [
    "### Retry"
   ]
  },
  {
   "cell_type": "code",
   "execution_count": 103,
   "id": "90e77750",
   "metadata": {
    "ExecuteTime": {
     "end_time": "2021-12-06T04:23:00.443121Z",
     "start_time": "2021-12-06T04:23:00.430163Z"
    }
   },
   "outputs": [],
   "source": [
    "wiyotStory = [(getWiyot(data,i),getGloss(data,i+1),splitGloss(getGloss(data,i+1)),getEnglish(data,i+2)) for i in range(0,len(data),3)]"
   ]
  },
  {
   "cell_type": "code",
   "execution_count": 131,
   "id": "412b78a0",
   "metadata": {
    "ExecuteTime": {
     "end_time": "2021-12-06T04:29:14.664042Z",
     "start_time": "2021-12-06T04:29:14.659586Z"
    }
   },
   "outputs": [
    {
     "data": {
      "text/plain": [
       "('Hi-dókhš-ém-ił.    Hi-wó-khu-dałé-khan-em-ił.',\n",
       " 'PST-pursue-3OBJ-3SBJ.DEF.  PST-go.to-ITER-from.behind-catch-3OBJ-3SBJ.DEF.',\n",
       " [['PST-pursue-3OBJ-3SBJ',\n",
       "   'DEF',\n",
       "   '  PST-go',\n",
       "   'to-ITER-from',\n",
       "   'behind-catch-3OBJ-3SBJ',\n",
       "   'DEF',\n",
       "   '']],\n",
       " 'She caught him.')"
      ]
     },
     "execution_count": 131,
     "metadata": {},
     "output_type": "execute_result"
    }
   ],
   "source": [
    "firstSentence = wiyotStory[11]\n",
    "firstSentence"
   ]
  },
  {
   "cell_type": "code",
   "execution_count": 129,
   "id": "7910626c",
   "metadata": {
    "ExecuteTime": {
     "end_time": "2021-12-06T04:29:09.583964Z",
     "start_time": "2021-12-06T04:29:09.577133Z"
    }
   },
   "outputs": [
    {
     "data": {
      "text/plain": [
       "[None]"
      ]
     },
     "execution_count": 129,
     "metadata": {},
     "output_type": "execute_result"
    }
   ],
   "source": [
    "[preverb2level.get(_,None) for _ in firstSentence[1].split('   ')]"
   ]
  },
  {
   "cell_type": "code",
   "execution_count": 130,
   "id": "1f0c598c",
   "metadata": {
    "ExecuteTime": {
     "end_time": "2021-12-06T04:29:10.117176Z",
     "start_time": "2021-12-06T04:29:10.110595Z"
    }
   },
   "outputs": [
    {
     "name": "stdout",
     "output_type": "stream",
     "text": [
      "[None, None, None, None, None, None, None]\n"
     ]
    }
   ],
   "source": [
    "for word in firstSentence[2]:\n",
    "    print([preverb2level.get(_,None) for _ in word])\n"
   ]
  },
  {
   "cell_type": "code",
   "execution_count": 145,
   "id": "85a62f81",
   "metadata": {
    "ExecuteTime": {
     "end_time": "2021-12-06T04:38:31.058914Z",
     "start_time": "2021-12-06T04:38:31.053950Z"
    }
   },
   "outputs": [
    {
     "name": "stdout",
     "output_type": "stream",
     "text": [
      "Hi-dókhš-ém-ił.    Hi-wó-khu-dałé-khan-em-ił.\n",
      "PST-pursue-3OBJ-3SBJ.DEF.  PST-go.to-ITER-from.behind-catch-3OBJ-3SBJ.DEF.\n"
     ]
    }
   ],
   "source": [
    "print(firstSentence[0])\n",
    "print(firstSentence[1])"
   ]
  },
  {
   "cell_type": "code",
   "execution_count": 141,
   "id": "b6fbd722",
   "metadata": {
    "ExecuteTime": {
     "end_time": "2021-12-06T04:34:52.852550Z",
     "start_time": "2021-12-06T04:34:52.844632Z"
    }
   },
   "outputs": [
    {
     "data": {
      "text/plain": [
       "[['PST-pursue-3OBJ-3SBJ',\n",
       "  'DEF',\n",
       "  '  PST-go',\n",
       "  'to-ITER-from',\n",
       "  'behind-catch-3OBJ-3SBJ',\n",
       "  'DEF',\n",
       "  '']]"
      ]
     },
     "execution_count": 141,
     "metadata": {},
     "output_type": "execute_result"
    }
   ],
   "source": [
    "[_.split('.') for _ in firstSentence[1].split(wiyotSeparator)]"
   ]
  },
  {
   "cell_type": "code",
   "execution_count": 153,
   "id": "6934e2a7",
   "metadata": {
    "ExecuteTime": {
     "end_time": "2021-12-06T04:40:59.868248Z",
     "start_time": "2021-12-06T04:40:59.860358Z"
    }
   },
   "outputs": [
    {
     "data": {
      "text/plain": [
       "[['PST', 'pursue', '3OBJ', '3SBJ.DEF.'],\n",
       " ['PST', 'go.to', 'ITER', 'from.behind', 'catch', '3OBJ', '3SBJ.DEF.']]"
      ]
     },
     "execution_count": 153,
     "metadata": {},
     "output_type": "execute_result"
    }
   ],
   "source": [
    "[_.split('-') for _ in firstSentence[1].split('  ')]"
   ]
  },
  {
   "cell_type": "markdown",
   "id": "5da659cc",
   "metadata": {},
   "source": [
    "['Hi-dókhš-ém-ił.', 'Hi-wó-khu-dałé-khan-em-ił.'] <br>\n",
    "['PST-pursue-3OBJ-3SBJ.DEF.  PST-go.to-ITER-from.behind-catch-3OBJ-3SBJ.DEF.']"
   ]
  },
  {
   "cell_type": "code",
   "execution_count": null,
   "id": "f31c7c96",
   "metadata": {},
   "outputs": [],
   "source": []
  }
 ],
 "metadata": {
  "kernelspec": {
   "display_name": "Python 3 (ipykernel)",
   "language": "python",
   "name": "python3"
  },
  "language_info": {
   "codemirror_mode": {
    "name": "ipython",
    "version": 3
   },
   "file_extension": ".py",
   "mimetype": "text/x-python",
   "name": "python",
   "nbconvert_exporter": "python",
   "pygments_lexer": "ipython3",
   "version": "3.7.12"
  },
  "varInspector": {
   "cols": {
    "lenName": 16,
    "lenType": 16,
    "lenVar": 40
   },
   "kernels_config": {
    "python": {
     "delete_cmd_postfix": "",
     "delete_cmd_prefix": "del ",
     "library": "var_list.py",
     "varRefreshCmd": "print(var_dic_list())"
    },
    "r": {
     "delete_cmd_postfix": ") ",
     "delete_cmd_prefix": "rm(",
     "library": "var_list.r",
     "varRefreshCmd": "cat(var_dic_list()) "
    }
   },
   "types_to_exclude": [
    "module",
    "function",
    "builtin_function_or_method",
    "instance",
    "_Feature"
   ],
   "window_display": false
  }
 },
 "nbformat": 4,
 "nbformat_minor": 5
}
