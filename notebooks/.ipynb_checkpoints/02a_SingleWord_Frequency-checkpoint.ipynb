{
 "cells": [
  {
   "cell_type": "code",
   "execution_count": 37,
   "id": "95301835",
   "metadata": {},
   "outputs": [],
   "source": [
    "import pandas as pd\n",
    "import matplotlib.pyplot as plt\n",
    "import seaborn as sns\n",
    "import collections\n",
    "import pickle as pkl"
   ]
  },
  {
   "cell_type": "code",
   "execution_count": 2,
   "id": "04662079",
   "metadata": {},
   "outputs": [
    {
     "name": "stderr",
     "output_type": "stream",
     "text": [
      "/Users/leonjdaeim/opt/miniconda3/envs/EDA/lib/python3.9/site-packages/openpyxl/worksheet/_reader.py:312: UserWarning: Unknown extension is not supported and will be removed\n",
      "  warn(msg)\n"
     ]
    }
   ],
   "source": [
    "kroeber = pd.read_excel(f'../data/Kroeber texts.xlsx',None)\n",
    "reichard = pd.read_excel(f'../data/Reichard texts.xlsx',None)\n",
    "teeter = pd.read_excel(f'../data/Teeter texts.xlsx',None)"
   ]
  },
  {
   "cell_type": "code",
   "execution_count": 8,
   "id": "d4943d01",
   "metadata": {},
   "outputs": [],
   "source": []
  },
  {
   "cell_type": "code",
   "execution_count": null,
   "id": "0b28b38c",
   "metadata": {},
   "outputs": [],
   "source": []
  },
  {
   "cell_type": "code",
   "execution_count": 29,
   "id": "15972e97",
   "metadata": {},
   "outputs": [],
   "source": [
    "def processWiyotFormat(data,author,source):\n",
    "    data = data[source]\n",
    "    data = data[~data.apply(_isna,0).all(1)]\n",
    "    alldictionaries = list()\n",
    "    for i in range(0,len(data),2):\n",
    "        wiyotPhrase = data.iloc[i]\n",
    "        englishPhrase = data.iloc[i+1]   \n",
    "        ####\n",
    "        wiyotPhrase = processLine(wiyotPhrase)\n",
    "        ### Do some extra processing to the english phrase\n",
    "        englishPhrase = processLine(englishPhrase)\n",
    "        englishPhrase = [getlowercase(x) for x in englishPhrase]\n",
    "        eng2wiyotDF = pd.DataFrame([englishPhrase,wiyotPhrase]).T    \n",
    "        eng2wiyotDF.columns = ['english','wiyot']\n",
    "        eng2wiyotDF['author'] = author\n",
    "        eng2wiyotDF['source'] = source\n",
    "        alldictionaries.append(eng2wiyotDF)\n",
    "    return alldictionaries\n",
    "\n",
    "def processAuthor(data,author):\n",
    "    dat_englis2wiyot = []\n",
    "    for story in list(data.keys()):\n",
    "        dat_englis2wiyot.append(processWiyotFormat(data,author,story))\n",
    "    dat_english2wiyotDF = pd.concat(sum(dat_englis2wiyot,[]))    \n",
    "    return dat_english2wiyotDF"
   ]
  },
  {
   "cell_type": "code",
   "execution_count": 33,
   "id": "7afba531",
   "metadata": {},
   "outputs": [],
   "source": [
    "kroeber_englis2wiyot = processAuthor(kroeber,'Kroeber')\n",
    "reichard_englis2wiyot = processAuthor(reichard,'Reichard')\n",
    "teeter_englis2wiyot = processAuthor(teeter,'Teeter')"
   ]
  },
  {
   "cell_type": "code",
   "execution_count": 35,
   "id": "3eb96467",
   "metadata": {},
   "outputs": [],
   "source": [
    "allDF = pd.concat([kroeber_englis2wiyot,reichard_englis2wiyot,teeter_englis2wiyot])"
   ]
  },
  {
   "cell_type": "code",
   "execution_count": 36,
   "id": "404cb084",
   "metadata": {},
   "outputs": [
    {
     "data": {
      "text/html": [
       "<div>\n",
       "<style scoped>\n",
       "    .dataframe tbody tr th:only-of-type {\n",
       "        vertical-align: middle;\n",
       "    }\n",
       "\n",
       "    .dataframe tbody tr th {\n",
       "        vertical-align: top;\n",
       "    }\n",
       "\n",
       "    .dataframe thead th {\n",
       "        text-align: right;\n",
       "    }\n",
       "</style>\n",
       "<table border=\"1\" class=\"dataframe\">\n",
       "  <thead>\n",
       "    <tr style=\"text-align: right;\">\n",
       "      <th></th>\n",
       "      <th>english</th>\n",
       "      <th>wiyot</th>\n",
       "      <th>author</th>\n",
       "      <th>source</th>\n",
       "    </tr>\n",
       "  </thead>\n",
       "  <tbody>\n",
       "    <tr>\n",
       "      <th>0</th>\n",
       "      <td>crow</td>\n",
       "      <td>Kacid</td>\n",
       "      <td>Kroeber</td>\n",
       "      <td>Crow</td>\n",
       "    </tr>\n",
       "    <tr>\n",
       "      <th>1</th>\n",
       "      <td>please</td>\n",
       "      <td>wule</td>\n",
       "      <td>Kroeber</td>\n",
       "      <td>Crow</td>\n",
       "    </tr>\n",
       "    <tr>\n",
       "      <th>2</th>\n",
       "      <td>call.kin.in.law</td>\n",
       "      <td>póyakhd</td>\n",
       "      <td>Kroeber</td>\n",
       "      <td>Crow</td>\n",
       "    </tr>\n",
       "    <tr>\n",
       "      <th>3</th>\n",
       "      <td>NMLZ.A</td>\n",
       "      <td>ił</td>\n",
       "      <td>Kroeber</td>\n",
       "      <td>Crow</td>\n",
       "    </tr>\n",
       "    <tr>\n",
       "      <th>4</th>\n",
       "      <td>ocean</td>\n",
       "      <td>šudi</td>\n",
       "      <td>Kroeber</td>\n",
       "      <td>Crow</td>\n",
       "    </tr>\n",
       "  </tbody>\n",
       "</table>\n",
       "</div>"
      ],
      "text/plain": [
       "           english    wiyot   author source\n",
       "0             crow    Kacid  Kroeber   Crow\n",
       "1           please     wule  Kroeber   Crow\n",
       "2  call.kin.in.law  póyakhd  Kroeber   Crow\n",
       "3           NMLZ.A       ił  Kroeber   Crow\n",
       "4            ocean     šudi  Kroeber   Crow"
      ]
     },
     "execution_count": 36,
     "metadata": {},
     "output_type": "execute_result"
    }
   ],
   "source": [
    "allDF.head()"
   ]
  },
  {
   "cell_type": "code",
   "execution_count": 38,
   "id": "d6f6340f",
   "metadata": {},
   "outputs": [],
   "source": [
    "pkl.dump(allDF,open('../results/individual_english2wiyottables.pkl','wb'))"
   ]
  },
  {
   "cell_type": "code",
   "execution_count": null,
   "id": "684c46a2",
   "metadata": {},
   "outputs": [],
   "source": []
  }
 ],
 "metadata": {
  "kernelspec": {
   "display_name": "Python 3 (ipykernel)",
   "language": "python",
   "name": "python3"
  },
  "language_info": {
   "codemirror_mode": {
    "name": "ipython",
    "version": 3
   },
   "file_extension": ".py",
   "mimetype": "text/x-python",
   "name": "python",
   "nbconvert_exporter": "python",
   "pygments_lexer": "ipython3",
   "version": "3.9.6"
  }
 },
 "nbformat": 4,
 "nbformat_minor": 5
}
