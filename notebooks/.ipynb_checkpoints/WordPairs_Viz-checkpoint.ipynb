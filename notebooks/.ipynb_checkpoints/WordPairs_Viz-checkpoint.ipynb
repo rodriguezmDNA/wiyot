{
 "cells": [
  {
   "cell_type": "code",
   "execution_count": 1,
   "id": "7440bd7a",
   "metadata": {},
   "outputs": [],
   "source": [
    "import pandas as pd"
   ]
  },
  {
   "cell_type": "code",
   "execution_count": 4,
   "id": "9168792c",
   "metadata": {},
   "outputs": [],
   "source": [
    "word_pair_frequency = pd.read_csv('../results/word_pair_frequency.tsv',sep='\\t')"
   ]
  },
  {
   "cell_type": "code",
   "execution_count": 5,
   "id": "ee3febe1",
   "metadata": {},
   "outputs": [
    {
     "data": {
      "text/html": [
       "<div>\n",
       "<style scoped>\n",
       "    .dataframe tbody tr th:only-of-type {\n",
       "        vertical-align: middle;\n",
       "    }\n",
       "\n",
       "    .dataframe tbody tr th {\n",
       "        vertical-align: top;\n",
       "    }\n",
       "\n",
       "    .dataframe thead th {\n",
       "        text-align: right;\n",
       "    }\n",
       "</style>\n",
       "<table border=\"1\" class=\"dataframe\">\n",
       "  <thead>\n",
       "    <tr style=\"text-align: right;\">\n",
       "      <th></th>\n",
       "      <th>word_1</th>\n",
       "      <th>word_2</th>\n",
       "      <th>biword</th>\n",
       "      <th>frequency</th>\n",
       "    </tr>\n",
       "  </thead>\n",
       "  <tbody>\n",
       "    <tr>\n",
       "      <th>0</th>\n",
       "      <td>crow</td>\n",
       "      <td>please</td>\n",
       "      <td>crow|please</td>\n",
       "      <td>1</td>\n",
       "    </tr>\n",
       "    <tr>\n",
       "      <th>1</th>\n",
       "      <td>please</td>\n",
       "      <td>call.kin.in.law</td>\n",
       "      <td>please|call.kin.in.law</td>\n",
       "      <td>1</td>\n",
       "    </tr>\n",
       "    <tr>\n",
       "      <th>2</th>\n",
       "      <td>call.kin.in.law</td>\n",
       "      <td>NMLZ.A</td>\n",
       "      <td>call.kin.in.law|NMLZ.A</td>\n",
       "      <td>1</td>\n",
       "    </tr>\n",
       "    <tr>\n",
       "      <th>3</th>\n",
       "      <td>NMLZ.A</td>\n",
       "      <td>ocean</td>\n",
       "      <td>NMLZ.A|ocean</td>\n",
       "      <td>1</td>\n",
       "    </tr>\n",
       "    <tr>\n",
       "      <th>4</th>\n",
       "      <td>ocean</td>\n",
       "      <td>other.side</td>\n",
       "      <td>ocean|other.side</td>\n",
       "      <td>2</td>\n",
       "    </tr>\n",
       "  </tbody>\n",
       "</table>\n",
       "</div>"
      ],
      "text/plain": [
       "            word_1           word_2                  biword  frequency\n",
       "0             crow           please             crow|please          1\n",
       "1           please  call.kin.in.law  please|call.kin.in.law          1\n",
       "2  call.kin.in.law           NMLZ.A  call.kin.in.law|NMLZ.A          1\n",
       "3           NMLZ.A            ocean            NMLZ.A|ocean          1\n",
       "4            ocean       other.side        ocean|other.side          2"
      ]
     },
     "execution_count": 5,
     "metadata": {},
     "output_type": "execute_result"
    }
   ],
   "source": [
    "word_pair_frequency.head()"
   ]
  },
  {
   "cell_type": "code",
   "execution_count": 29,
   "id": "ced043b4",
   "metadata": {},
   "outputs": [
    {
     "data": {
      "text/plain": [
       "count    12843.000000\n",
       "mean         2.122791\n",
       "std          6.421530\n",
       "min          1.000000\n",
       "25%          1.000000\n",
       "50%          1.000000\n",
       "75%          2.000000\n",
       "max        237.000000\n",
       "Name: frequency, dtype: float64"
      ]
     },
     "execution_count": 29,
     "metadata": {},
     "output_type": "execute_result"
    }
   ],
   "source": [
    "word_pair_frequency.frequency.describe()"
   ]
  },
  {
   "cell_type": "code",
   "execution_count": 28,
   "id": "5e2f52b0",
   "metadata": {},
   "outputs": [
    {
     "data": {
      "image/png": "[encoded data removed]",
      "text/plain": [
       "<Figure size 216x216 with 1 Axes>"
      ]
     },
     "metadata": {
      "needs_background": "light"
     },
     "output_type": "display_data"
    }
   ],
   "source": [
    "plt.figure(figsize=(3,3))\n",
    "sns.violinplot(data=word_pair_frequency,y='frequency',width=0.25)\n",
    "plt.show()"
   ]
  },
  {
   "cell_type": "code",
   "execution_count": 43,
   "id": "3fcda209",
   "metadata": {},
   "outputs": [
    {
     "data": {
      "text/plain": [
       "(287, 4)"
      ]
     },
     "execution_count": 43,
     "metadata": {},
     "output_type": "execute_result"
    }
   ],
   "source": [
    "word_pair_frequency_filtered = word_pair_frequency[word_pair_frequency.frequency > 10]\n",
    "word_pair_frequency_filtered.shape"
   ]
  },
  {
   "cell_type": "code",
   "execution_count": 45,
   "id": "7e8120ef",
   "metadata": {},
   "outputs": [
    {
     "name": "stdout",
     "output_type": "stream",
     "text": [
      "(112, 105)\n"
     ]
    }
   ],
   "source": [
    "freq_matrix = word_pair_frequency_filtered.pivot(index='word_1',columns='word_2',values='frequency')\n",
    "print(freq_matrix.shape)\n",
    "#freq_matrix = freq_matrix.fillna(0)"
   ]
  },
  {
   "cell_type": "code",
   "execution_count": 46,
   "id": "5bf082af",
   "metadata": {},
   "outputs": [],
   "source": [
    "import matplotlib.pyplot as plt\n",
    "import seaborn as sns"
   ]
  },
  {
   "cell_type": "code",
   "execution_count": 56,
   "id": "c5d1ec68",
   "metadata": {},
   "outputs": [
    {
     "data": {
      "image/png": "[encoded data removed]",
      "text/plain": [
       "<Figure size 504x504 with 2 Axes>"
      ]
     },
     "metadata": {
      "needs_background": "light"
     },
     "output_type": "display_data"
    }
   ],
   "source": [
    "plt.figure(figsize=(7,7))\n",
    "g = sns.heatmap(freq_matrix,cmap=\"Blues\",cbar_kws={\"shrink\": .25})\n",
    "g.set_facecolor('lightgray')\n",
    "plt.show()"
   ]
  },
  {
   "cell_type": "code",
   "execution_count": null,
   "id": "a0641ced",
   "metadata": {},
   "outputs": [],
   "source": []
  }
 ],
 "metadata": {
  "kernelspec": {
   "display_name": "Python 3 (ipykernel)",
   "language": "python",
   "name": "python3"
  },
  "language_info": {
   "codemirror_mode": {
    "name": "ipython",
    "version": 3
   },
   "file_extension": ".py",
   "mimetype": "text/x-python",
   "name": "python",
   "nbconvert_exporter": "python",
   "pygments_lexer": "ipython3",
   "version": "3.9.6"
  }
 },
 "nbformat": 4,
 "nbformat_minor": 5
}
