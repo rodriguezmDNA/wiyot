{
 "cells": [
  {
   "cell_type": "code",
   "execution_count": 1,
   "id": "d70a3510",
   "metadata": {},
   "outputs": [],
   "source": [
    "import sys\n",
    "sys.path.append('../scripts/')\n",
    "from wiyot import *"
   ]
  },
  {
   "cell_type": "code",
   "execution_count": 31,
   "id": "978984c8",
   "metadata": {},
   "outputs": [
    {
     "data": {
      "text/html": [
       "<div>\n",
       "<style scoped>\n",
       "    .dataframe tbody tr th:only-of-type {\n",
       "        vertical-align: middle;\n",
       "    }\n",
       "\n",
       "    .dataframe tbody tr th {\n",
       "        vertical-align: top;\n",
       "    }\n",
       "\n",
       "    .dataframe thead th {\n",
       "        text-align: right;\n",
       "    }\n",
       "</style>\n",
       "<table border=\"1\" class=\"dataframe\">\n",
       "  <thead>\n",
       "    <tr style=\"text-align: right;\">\n",
       "      <th></th>\n",
       "      <th>preverb</th>\n",
       "      <th>Class</th>\n",
       "      <th>Level</th>\n",
       "    </tr>\n",
       "  </thead>\n",
       "  <tbody>\n",
       "    <tr>\n",
       "      <th>0</th>\n",
       "      <td>PST</td>\n",
       "      <td>I</td>\n",
       "      <td>1</td>\n",
       "    </tr>\n",
       "    <tr>\n",
       "      <th>1</th>\n",
       "      <td>already</td>\n",
       "      <td>I</td>\n",
       "      <td>1</td>\n",
       "    </tr>\n",
       "    <tr>\n",
       "      <th>2</th>\n",
       "      <td>EMPH</td>\n",
       "      <td>I</td>\n",
       "      <td>1</td>\n",
       "    </tr>\n",
       "    <tr>\n",
       "      <th>3</th>\n",
       "      <td>PROG</td>\n",
       "      <td>I</td>\n",
       "      <td>1</td>\n",
       "    </tr>\n",
       "    <tr>\n",
       "      <th>4</th>\n",
       "      <td>then</td>\n",
       "      <td>I</td>\n",
       "      <td>1</td>\n",
       "    </tr>\n",
       "  </tbody>\n",
       "</table>\n",
       "</div>"
      ],
      "text/plain": [
       "   preverb Class  Level\n",
       "0      PST     I      1\n",
       "1  already     I      1\n",
       "2     EMPH     I      1\n",
       "3     PROG     I      1\n",
       "4     then     I      1"
      ]
     },
     "execution_count": 31,
     "metadata": {},
     "output_type": "execute_result"
    }
   ],
   "source": [
    "### Read dataset relating a preverb to hierarchy class\n",
    "preverbhierarchy, preverb2level, preverb2class\n",
    "preverbhierarchy.head()"
   ]
  },
  {
   "cell_type": "markdown",
   "id": "43528024",
   "metadata": {},
   "source": [
    "### Process Kroeber data"
   ]
  },
  {
   "cell_type": "code",
   "execution_count": 30,
   "id": "e9dae73b",
   "metadata": {},
   "outputs": [],
   "source": []
  },
  {
   "cell_type": "code",
   "execution_count": 5,
   "id": "16ec0228",
   "metadata": {},
   "outputs": [],
   "source": [
    "kroeber = pd.read_excel(f'../data/Kroeber texts (2).xlsx',None)"
   ]
  },
  {
   "cell_type": "markdown",
   "id": "947033a6",
   "metadata": {},
   "source": [
    "#### Crow story"
   ]
  },
  {
   "cell_type": "code",
   "execution_count": 14,
   "id": "113908ed",
   "metadata": {},
   "outputs": [
    {
     "name": "stdout",
     "output_type": "stream",
     "text": [
      "16\n"
     ]
    },
    {
     "data": {
      "text/plain": [
       "('Kacid    wule-póyakhd-ił     šudi-lákhow',\n",
       " 'Crow    please-call.kin.in.law-NMLZ.A   ocean-other.side',\n",
       " 'Crow went to his kin-in-law across the ocean.')"
      ]
     },
     "execution_count": 14,
     "metadata": {},
     "output_type": "execute_result"
    }
   ],
   "source": [
    "## Subset by story\n",
    "crowStory = getStory(kroeber,'Crow')\n",
    "## Split into wiyot/glos/translation\n",
    "crowStory_split = splitStory(crowStory)\n",
    "print(len(crowStory_split)) ## number of triplets in the spreadsheet\n",
    "crowStory_split[0]"
   ]
  },
  {
   "cell_type": "code",
   "execution_count": 17,
   "id": "9196ccb8",
   "metadata": {},
   "outputs": [],
   "source": [
    "### Separate the wiyot/gloss/english\n",
    "allwiyot,allenglish,fullstory = reformatStory(crowStory_split)"
   ]
  },
  {
   "cell_type": "code",
   "execution_count": 20,
   "id": "18d8e4a4",
   "metadata": {},
   "outputs": [],
   "source": [
    "### Split into words\n",
    "wiyot_words = story2words(allwiyot)\n",
    "english_words = story2words(allenglish)\n",
    "fullstory_words = story2words(fullstory)"
   ]
  },
  {
   "cell_type": "code",
   "execution_count": 24,
   "id": "fe03c10d",
   "metadata": {},
   "outputs": [
    {
     "data": {
      "text/plain": [
       "(50, 50, 110)"
      ]
     },
     "execution_count": 24,
     "metadata": {},
     "output_type": "execute_result"
    }
   ],
   "source": [
    "### first two must be the same length\n",
    "len(english_words), len(wiyot_words), len(fullstory_words)"
   ]
  },
  {
   "cell_type": "code",
   "execution_count": 25,
   "id": "6781cf7e",
   "metadata": {},
   "outputs": [],
   "source": [
    "### Keep wiyot/gloss together\n",
    "english2wiyot = list(zip(english_words,wiyot_words))"
   ]
  },
  {
   "cell_type": "markdown",
   "id": "da7204e1",
   "metadata": {},
   "source": [
    "__assign each word against the hierarchy class__"
   ]
  },
  {
   "cell_type": "code",
   "execution_count": 60,
   "id": "c3c3ec34",
   "metadata": {},
   "outputs": [
    {
     "data": {
      "text/html": [
       "<div>\n",
       "<style scoped>\n",
       "    .dataframe tbody tr th:only-of-type {\n",
       "        vertical-align: middle;\n",
       "    }\n",
       "\n",
       "    .dataframe tbody tr th {\n",
       "        vertical-align: top;\n",
       "    }\n",
       "\n",
       "    .dataframe thead th {\n",
       "        text-align: right;\n",
       "    }\n",
       "</style>\n",
       "<table border=\"1\" class=\"dataframe\">\n",
       "  <thead>\n",
       "    <tr style=\"text-align: right;\">\n",
       "      <th></th>\n",
       "      <th>0</th>\n",
       "      <th>1</th>\n",
       "      <th>2</th>\n",
       "    </tr>\n",
       "  </thead>\n",
       "  <tbody>\n",
       "    <tr>\n",
       "      <th>0</th>\n",
       "      <td>Crow</td>\n",
       "      <td>[0]</td>\n",
       "      <td>[0]</td>\n",
       "    </tr>\n",
       "    <tr>\n",
       "      <th>1</th>\n",
       "      <td>please</td>\n",
       "      <td>[0]</td>\n",
       "      <td>[0]</td>\n",
       "    </tr>\n",
       "    <tr>\n",
       "      <th>2</th>\n",
       "      <td>call.kin.in.law</td>\n",
       "      <td>[0]</td>\n",
       "      <td>[0]</td>\n",
       "    </tr>\n",
       "  </tbody>\n",
       "</table>\n",
       "</div>"
      ],
      "text/plain": [
       "                 0    1    2\n",
       "0             Crow  [0]  [0]\n",
       "1           please  [0]  [0]\n",
       "2  call.kin.in.law  [0]  [0]"
      ]
     },
     "execution_count": 60,
     "metadata": {},
     "output_type": "execute_result"
    }
   ],
   "source": [
    "english2levelclass = testClass(english_words,preverb2level,preverb2class)\n",
    "pd.DataFrame(english2levelclass).head(3)"
   ]
  },
  {
   "cell_type": "markdown",
   "id": "34bd1a60",
   "metadata": {},
   "source": [
    "### Test if hierarchy is preserved throughout a sentence"
   ]
  },
  {
   "cell_type": "code",
   "execution_count": 48,
   "id": "51a5e84b",
   "metadata": {},
   "outputs": [],
   "source": [
    "wiyot_english_class = []\n",
    "for _ in crowStory_split:\n",
    "    translation = _[2]\n",
    "    wiyot,eng = split_words(_[0]), split_words(_[1])\n",
    "    eng_class = [[preverb2class[_] if preverb2class.get(_) is not None else 0 for _ in word.split('-')] for word in eng]\n",
    "    eng_class = sum(eng_class,[])\n",
    "    eng_level = [[preverb2level[_] if preverb2level.get(_) is not None else 0 for _ in word.split('-')] for word in eng]\n",
    "    eng_level = sum(eng_level,[])\n",
    "    wiyot_english_class.append([wiyot,eng,eng_class,eng_level])"
   ]
  },
  {
   "cell_type": "code",
   "execution_count": 52,
   "id": "62cb8fea",
   "metadata": {},
   "outputs": [
    {
     "data": {
      "text/html": [
       "<div>\n",
       "<style scoped>\n",
       "    .dataframe tbody tr th:only-of-type {\n",
       "        vertical-align: middle;\n",
       "    }\n",
       "\n",
       "    .dataframe tbody tr th {\n",
       "        vertical-align: top;\n",
       "    }\n",
       "\n",
       "    .dataframe thead th {\n",
       "        text-align: right;\n",
       "    }\n",
       "</style>\n",
       "<table border=\"1\" class=\"dataframe\">\n",
       "  <thead>\n",
       "    <tr style=\"text-align: right;\">\n",
       "      <th></th>\n",
       "      <th>wiyot</th>\n",
       "      <th>english</th>\n",
       "      <th>class</th>\n",
       "      <th>class_num</th>\n",
       "      <th>result</th>\n",
       "    </tr>\n",
       "  </thead>\n",
       "  <tbody>\n",
       "    <tr>\n",
       "      <th>0</th>\n",
       "      <td>[Kacid, wule-póyakhd-ił,  šudi-lákhow]</td>\n",
       "      <td>[Crow, please-call.kin.in.law-NMLZ.A   ocean-o...</td>\n",
       "      <td>[0, 0, 0, 0, 0]</td>\n",
       "      <td>[0, 0, 0, 0, 0]</td>\n",
       "      <td>None</td>\n",
       "    </tr>\n",
       "    <tr>\n",
       "      <th>1</th>\n",
       "      <td>[wule-póyakhd-ił, hi-wú-lag-ił.,  Šudi-lákhow]</td>\n",
       "      <td>[please-be.related.by.marriage-NMLZ.A   PST-PF...</td>\n",
       "      <td>[0, 0, 0, II, 0, 0, 0]</td>\n",
       "      <td>[0, 0, 0, 2, 0, 0, 0]</td>\n",
       "      <td>None</td>\n",
       "    </tr>\n",
       "    <tr>\n",
       "      <th>2</th>\n",
       "      <td>[hi-lès-ił.,   Cákhi, tu-lùl-úw-ił]</td>\n",
       "      <td>[PST-travel.in.boat-3SBJ.DEF.   Child[PL]   PL...</td>\n",
       "      <td>[I, 0, 0, 0, 0, 0]</td>\n",
       "      <td>[1, 0, 0, 0, 0, 0]</td>\n",
       "      <td>None</td>\n",
       "    </tr>\n",
       "    <tr>\n",
       "      <th>3</th>\n",
       "      <td>[díkh-ad., Wuphedakáčhkš-ił  phlét-w-akw.   Kh...</td>\n",
       "      <td>[be.three-3SBJ.STV.  Put-3SBJ.DEF  rock-SUB-LO...</td>\n",
       "      <td>[0, 0, 0, 0, 0]</td>\n",
       "      <td>[0, 0, 0, 0, 0]</td>\n",
       "      <td>None</td>\n",
       "    </tr>\n",
       "    <tr>\n",
       "      <th>4</th>\n",
       "      <td>[wuphedakáckš-ił.  Hi-khu-lów-ił., Tiwe-dú-lak...</td>\n",
       "      <td>[put-3SBJ.DEF.  PST-ITER-come-3SBJ.DEF.  What....</td>\n",
       "      <td>[0, 0, V, 0, 0, 0, 0, 0, 0]</td>\n",
       "      <td>[0, 0, 5, 0, 0, 0, 0, 0, 0]</td>\n",
       "      <td>None</td>\n",
       "    </tr>\n",
       "  </tbody>\n",
       "</table>\n",
       "</div>"
      ],
      "text/plain": [
       "                                               wiyot  \\\n",
       "0             [Kacid, wule-póyakhd-ił,  šudi-lákhow]   \n",
       "1     [wule-póyakhd-ił, hi-wú-lag-ił.,  Šudi-lákhow]   \n",
       "2                [hi-lès-ił.,   Cákhi, tu-lùl-úw-ił]   \n",
       "3  [díkh-ad., Wuphedakáčhkš-ił  phlét-w-akw.   Kh...   \n",
       "4  [wuphedakáckš-ił.  Hi-khu-lów-ił., Tiwe-dú-lak...   \n",
       "\n",
       "                                             english  \\\n",
       "0  [Crow, please-call.kin.in.law-NMLZ.A   ocean-o...   \n",
       "1  [please-be.related.by.marriage-NMLZ.A   PST-PF...   \n",
       "2  [PST-travel.in.boat-3SBJ.DEF.   Child[PL]   PL...   \n",
       "3  [be.three-3SBJ.STV.  Put-3SBJ.DEF  rock-SUB-LO...   \n",
       "4  [put-3SBJ.DEF.  PST-ITER-come-3SBJ.DEF.  What....   \n",
       "\n",
       "                         class                    class_num result  \n",
       "0              [0, 0, 0, 0, 0]              [0, 0, 0, 0, 0]   None  \n",
       "1       [0, 0, 0, II, 0, 0, 0]        [0, 0, 0, 2, 0, 0, 0]   None  \n",
       "2           [I, 0, 0, 0, 0, 0]           [1, 0, 0, 0, 0, 0]   None  \n",
       "3              [0, 0, 0, 0, 0]              [0, 0, 0, 0, 0]   None  \n",
       "4  [0, 0, V, 0, 0, 0, 0, 0, 0]  [0, 0, 5, 0, 0, 0, 0, 0, 0]   None  "
      ]
     },
     "execution_count": 52,
     "metadata": {},
     "output_type": "execute_result"
    }
   ],
   "source": [
    "story_Wi2Eng_Hierachy = pd.DataFrame(wiyot_english_class,columns=['wiyot','english','class','class_num'])\n",
    "story_Wi2Eng_Hierachy['result'] = list(map(checkSequenceClass,story_Wi2Eng_Hierachy['class_num']))\n",
    "story_Wi2Eng_Hierachy.head()"
   ]
  },
  {
   "cell_type": "code",
   "execution_count": 59,
   "id": "82563d7f",
   "metadata": {},
   "outputs": [
    {
     "data": {
      "text/html": [
       "<div>\n",
       "<style scoped>\n",
       "    .dataframe tbody tr th:only-of-type {\n",
       "        vertical-align: middle;\n",
       "    }\n",
       "\n",
       "    .dataframe tbody tr th {\n",
       "        vertical-align: top;\n",
       "    }\n",
       "\n",
       "    .dataframe thead th {\n",
       "        text-align: right;\n",
       "    }\n",
       "</style>\n",
       "<table border=\"1\" class=\"dataframe\">\n",
       "  <thead>\n",
       "    <tr style=\"text-align: right;\">\n",
       "      <th></th>\n",
       "      <th>wiyot</th>\n",
       "      <th>english</th>\n",
       "      <th>class</th>\n",
       "      <th>class_num</th>\n",
       "      <th>result</th>\n",
       "    </tr>\n",
       "  </thead>\n",
       "  <tbody>\n",
       "    <tr>\n",
       "      <th>11</th>\n",
       "      <td>[Hi-dókhš-ém-ił., Hi-wó-khu-dałé-khan-em-ił.]</td>\n",
       "      <td>[PST-pursue-3OBJ-3SBJ.DEF.  PST-go.to-ITER-fro...</td>\n",
       "      <td>[I, 0, 0, 0, 0, V, IX, 0, 0, 0]</td>\n",
       "      <td>[1, 0, 0, 0, 0, 5, 9, 0, 0, 0]</td>\n",
       "      <td>True</td>\n",
       "    </tr>\n",
       "    <tr>\n",
       "      <th>13</th>\n",
       "      <td>[Mes-akw, hi-to-them-óth-u.]</td>\n",
       "      <td>[Fire-LOC, PST-PROG-sit-CAUS-3SBJ.INDF.]</td>\n",
       "      <td>[0, 0, I, I, 0, 0, 0]</td>\n",
       "      <td>[0, 0, 1, 1, 0, 0, 0]</td>\n",
       "      <td>True</td>\n",
       "    </tr>\n",
       "    <tr>\n",
       "      <th>15</th>\n",
       "      <td>[mes-ákwi., Hi-khá-thawól-ił.]</td>\n",
       "      <td>[fire-LOC., PST-then.2-die-3SBJ.DEF.]</td>\n",
       "      <td>[0, 0, I, IV, 0, 0]</td>\n",
       "      <td>[0, 0, 1, 4, 0, 0]</td>\n",
       "      <td>True</td>\n",
       "    </tr>\n",
       "  </tbody>\n",
       "</table>\n",
       "</div>"
      ],
      "text/plain": [
       "                                            wiyot  \\\n",
       "11  [Hi-dókhš-ém-ił., Hi-wó-khu-dałé-khan-em-ił.]   \n",
       "13                   [Mes-akw, hi-to-them-óth-u.]   \n",
       "15                 [mes-ákwi., Hi-khá-thawól-ił.]   \n",
       "\n",
       "                                              english  \\\n",
       "11  [PST-pursue-3OBJ-3SBJ.DEF.  PST-go.to-ITER-fro...   \n",
       "13           [Fire-LOC, PST-PROG-sit-CAUS-3SBJ.INDF.]   \n",
       "15              [fire-LOC., PST-then.2-die-3SBJ.DEF.]   \n",
       "\n",
       "                              class                       class_num result  \n",
       "11  [I, 0, 0, 0, 0, V, IX, 0, 0, 0]  [1, 0, 0, 0, 0, 5, 9, 0, 0, 0]   True  \n",
       "13            [0, 0, I, I, 0, 0, 0]           [0, 0, 1, 1, 0, 0, 0]   True  \n",
       "15              [0, 0, I, IV, 0, 0]              [0, 0, 1, 4, 0, 0]   True  "
      ]
     },
     "execution_count": 59,
     "metadata": {},
     "output_type": "execute_result"
    }
   ],
   "source": [
    "story_Wi2Eng_Hierachy[~story_Wi2Eng_Hierachy['result'].isna()]"
   ]
  },
  {
   "cell_type": "code",
   "execution_count": null,
   "id": "5e4f4235",
   "metadata": {},
   "outputs": [],
   "source": []
  }
 ],
 "metadata": {
  "kernelspec": {
   "display_name": "Python 3 (ipykernel)",
   "language": "python",
   "name": "python3"
  },
  "language_info": {
   "codemirror_mode": {
    "name": "ipython",
    "version": 3
   },
   "file_extension": ".py",
   "mimetype": "text/x-python",
   "name": "python",
   "nbconvert_exporter": "python",
   "pygments_lexer": "ipython3",
   "version": "3.9.6"
  }
 },
 "nbformat": 4,
 "nbformat_minor": 5
}
