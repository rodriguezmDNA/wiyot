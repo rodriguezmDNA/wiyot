{
 "cells": [
  {
   "cell_type": "code",
   "execution_count": 2,
   "id": "516237b1",
   "metadata": {
    "ExecuteTime": {
     "end_time": "2021-09-10T03:15:32.851681Z",
     "start_time": "2021-09-10T03:15:30.287000Z"
    }
   },
   "outputs": [],
   "source": [
    "import pandas as pd\n",
    "import matplotlib.pyplot as plt\n",
    "import seaborn as sns\n",
    "import collections"
   ]
  },
  {
   "cell_type": "code",
   "execution_count": 8,
   "id": "40cd0e84",
   "metadata": {},
   "outputs": [
    {
     "data": {
      "text/html": [
       "<div>\n",
       "<style scoped>\n",
       "    .dataframe tbody tr th:only-of-type {\n",
       "        vertical-align: middle;\n",
       "    }\n",
       "\n",
       "    .dataframe tbody tr th {\n",
       "        vertical-align: top;\n",
       "    }\n",
       "\n",
       "    .dataframe thead th {\n",
       "        text-align: right;\n",
       "    }\n",
       "</style>\n",
       "<table border=\"1\" class=\"dataframe\">\n",
       "  <thead>\n",
       "    <tr style=\"text-align: right;\">\n",
       "      <th></th>\n",
       "      <th>Wiyot</th>\n",
       "      <th>English</th>\n",
       "    </tr>\n",
       "  </thead>\n",
       "  <tbody>\n",
       "    <tr>\n",
       "      <th>0</th>\n",
       "      <td>bał/wał/wáł</td>\n",
       "      <td>relating.to</td>\n",
       "    </tr>\n",
       "    <tr>\n",
       "      <th>1</th>\n",
       "      <td>be/bé/béh</td>\n",
       "      <td>REP</td>\n",
       "    </tr>\n",
       "    <tr>\n",
       "      <th>2</th>\n",
       "      <td>bi/mi/mí</td>\n",
       "      <td>soon</td>\n",
       "    </tr>\n",
       "    <tr>\n",
       "      <th>3</th>\n",
       "      <td>bime/mime/bige/bihge/mige</td>\n",
       "      <td>some</td>\n",
       "    </tr>\n",
       "    <tr>\n",
       "      <th>4</th>\n",
       "      <td>bo/bó/wo/wó/ba/wa/boh</td>\n",
       "      <td>go.to</td>\n",
       "    </tr>\n",
       "  </tbody>\n",
       "</table>\n",
       "</div>"
      ],
      "text/plain": [
       "                       Wiyot      English\n",
       "0                bał/wał/wáł  relating.to\n",
       "1                  be/bé/béh          REP\n",
       "2                   bi/mi/mí         soon\n",
       "3  bime/mime/bige/bihge/mige         some\n",
       "4      bo/bó/wo/wó/ba/wa/boh        go.to"
      ]
     },
     "execution_count": 8,
     "metadata": {},
     "output_type": "execute_result"
    }
   ],
   "source": [
    "preverbsDF = pd.read_csv('../data/WiyotPreverbsText.tsv',sep='\\t')\n",
    "preverbsDF.head()"
   ]
  },
  {
   "cell_type": "code",
   "execution_count": 9,
   "id": "c3f9b205",
   "metadata": {},
   "outputs": [
    {
     "data": {
      "text/plain": [
       "81"
      ]
     },
     "execution_count": 9,
     "metadata": {},
     "output_type": "execute_result"
    }
   ],
   "source": [
    "preverbs = list(set(preverbsDF['English']))\n",
    "len(preverbs)"
   ]
  },
  {
   "cell_type": "code",
   "execution_count": 13,
   "id": "d93726bf",
   "metadata": {
    "ExecuteTime": {
     "end_time": "2021-09-10T03:15:38.318411Z",
     "start_time": "2021-09-10T03:15:33.004071Z"
    }
   },
   "outputs": [
    {
     "name": "stderr",
     "output_type": "stream",
     "text": [
      "/Users/leonjdaeim/opt/miniconda3/envs/EDA/lib/python3.9/site-packages/openpyxl/worksheet/_reader.py:312: UserWarning: Unknown extension is not supported and will be removed\n",
      "  warn(msg)\n"
     ]
    }
   ],
   "source": [
    "kroeber = pd.read_excel(f'../data/Kroeber texts (1).xlsx',None)\n",
    "reichard = pd.read_excel(f'../data/Reichard texts (1).xlsx',None)\n",
    "teeter = pd.read_excel(f'../data/Teeter texts (1).xlsx',None)"
   ]
  },
  {
   "cell_type": "code",
   "execution_count": 14,
   "id": "c4eddbc6",
   "metadata": {
    "ExecuteTime": {
     "end_time": "2021-09-10T03:15:46.614755Z",
     "start_time": "2021-09-10T03:15:46.595546Z"
    }
   },
   "outputs": [],
   "source": [
    "def processLine(x):\n",
    "    try:\n",
    "        x = '\\t'.join(x.dropna()).split('\\t')\n",
    "        return x\n",
    "    except:\n",
    "        return None\n",
    "    \n",
    "\n",
    "## Remove empty lines\n",
    "import re\n",
    "matchEndPeriod = re.compile(r'\\.$')\n",
    "getlowercase = lambda x: x if x.isupper() else x.lower()    \n",
    "_isna = lambda x: x.isna()\n",
    "\n",
    "def getWordPairs(phrase):\n",
    "    wordpairlist = []\n",
    "    for i in range(0,len(phrase)-1):\n",
    "        wordpairlist.append('|'.join([phrase[i],phrase[i+1]]))\n",
    "    return wordpairlist\n",
    "\n",
    "def countFrequencyWordPairs(listofwordpairs):\n",
    "    try:\n",
    "        return collections.Counter(listofwordpairs[:])\n",
    "    except:\n",
    "        return None"
   ]
  },
  {
   "cell_type": "code",
   "execution_count": 16,
   "id": "a3792a75",
   "metadata": {},
   "outputs": [],
   "source": [
    "def processStory(author,story):\n",
    "    data = author[story]\n",
    "    data = data[~data.apply(_isna,0).all(1)]\n",
    "    #####\n",
    "    wiyotList = []\n",
    "    originalEnglishList = []\n",
    "    processedEnglishList = []\n",
    "    preverbsEnglishList = []\n",
    "    pairsEnglishList = []\n",
    "    ######\n",
    "    for i in range(0,len(data),2):   \n",
    "        ##########################################\n",
    "        wiyotPhrase = data.iloc[i]\n",
    "        englishPhrase = data.iloc[i+1]\n",
    "        wiyotPhrase = processLine(wiyotPhrase)    \n",
    "        ### Do some extra processing to the english phrase\n",
    "        englishPhrase = processLine(englishPhrase)\n",
    "        #englishPhrase = [getlowercase(x) for x in englishPhrahaha se]\n",
    "        ### Remove EMP = empty, remove periods at the end of gloss\n",
    "        englishPhraseRedux = [getlowercase(matchEndPeriod.sub('',x)) for x in englishPhrase if x !='EMP'] #Remove EMP for empty \n",
    "        englishPreverbs = [_ for _ in englishPhraseRedux if _ in preverbs] \n",
    "\n",
    "        ### Get word pairs\n",
    "        wps = getWordPairs(englishPhraseRedux)\n",
    "\n",
    "        wiyotList.append(wiyotPhrase)\n",
    "        originalEnglishList.append(englishPhrase)\n",
    "        processedEnglishList.append(englishPhraseRedux)\n",
    "        preverbsEnglishList.append(englishPreverbs)\n",
    "        pairsEnglishList.append(wps)\n",
    "        \n",
    "    outDict = {\"wiyot\":wiyotList,\n",
    "               \"english_original\":originalEnglishList,\n",
    "              \"english_clean\":processedEnglishList,\n",
    "              \"english_preverbs\":preverbsEnglishList,\n",
    "              'wordPairs':pairsEnglishList}\n",
    "    return outDict\n",
    "\n",
    "def getPreverbs(dataset):\n",
    "    try:\n",
    "        #dPrev = {k:v['english_preverbs'] for k,v in dataset.items()}\n",
    "        #return pd.DataFrame.from_dict(dPrev,orient='index')\n",
    "        author_preverbs = [dataset[k]['english_preverbs'] for k in dataset.keys()]\n",
    "        author_preverbs = sum(sum(author_preverbs,[]),[])\n",
    "        return author_preverbs\n",
    "    except:\n",
    "        return []"
   ]
  },
  {
   "cell_type": "code",
   "execution_count": null,
   "id": "7005efbc",
   "metadata": {},
   "outputs": [],
   "source": []
  },
  {
   "cell_type": "code",
   "execution_count": 17,
   "id": "bea48bfd",
   "metadata": {},
   "outputs": [],
   "source": [
    "kroeber_processed = {story:processStory(kroeber,story) for story in kroeber.keys()}\n",
    "reichard_processed = {story:processStory(reichard,story) for story in reichard.keys()}\n",
    "teeter_processed = {story:processStory(teeter,story) for story in teeter.keys()}"
   ]
  },
  {
   "cell_type": "markdown",
   "id": "317ad8ae",
   "metadata": {},
   "source": [
    "### Get preverb frequency"
   ]
  },
  {
   "cell_type": "code",
   "execution_count": 19,
   "id": "5e522489",
   "metadata": {},
   "outputs": [],
   "source": [
    "reichard_preverbs = getPreverbs(reichard_processed)\n",
    "teeter_preverbs = getPreverbs(teeter_processed)\n",
    "kroeber_preverbs = getPreverbs(kroeber_processed)"
   ]
  },
  {
   "cell_type": "code",
   "execution_count": 20,
   "id": "90ad21c5",
   "metadata": {},
   "outputs": [],
   "source": [
    "allpreverbs = kroeber_preverbs + reichard_preverbs + teeter_preverbs"
   ]
  },
  {
   "cell_type": "code",
   "execution_count": 21,
   "id": "8eefcdee",
   "metadata": {},
   "outputs": [],
   "source": [
    "import collections"
   ]
  },
  {
   "cell_type": "code",
   "execution_count": 22,
   "id": "2986221e",
   "metadata": {},
   "outputs": [
    {
     "data": {
      "text/html": [
       "<div>\n",
       "<style scoped>\n",
       "    .dataframe tbody tr th:only-of-type {\n",
       "        vertical-align: middle;\n",
       "    }\n",
       "\n",
       "    .dataframe tbody tr th {\n",
       "        vertical-align: top;\n",
       "    }\n",
       "\n",
       "    .dataframe thead th {\n",
       "        text-align: right;\n",
       "    }\n",
       "</style>\n",
       "<table border=\"1\" class=\"dataframe\">\n",
       "  <thead>\n",
       "    <tr style=\"text-align: right;\">\n",
       "      <th></th>\n",
       "      <th>preverb</th>\n",
       "      <th>frequency</th>\n",
       "    </tr>\n",
       "  </thead>\n",
       "  <tbody>\n",
       "    <tr>\n",
       "      <th>0</th>\n",
       "      <td>PROG</td>\n",
       "      <td>1629</td>\n",
       "    </tr>\n",
       "    <tr>\n",
       "      <th>1</th>\n",
       "      <td>PST</td>\n",
       "      <td>1333</td>\n",
       "    </tr>\n",
       "    <tr>\n",
       "      <th>2</th>\n",
       "      <td>INCH</td>\n",
       "      <td>835</td>\n",
       "    </tr>\n",
       "    <tr>\n",
       "      <th>3</th>\n",
       "      <td>ITER</td>\n",
       "      <td>783</td>\n",
       "    </tr>\n",
       "    <tr>\n",
       "      <th>4</th>\n",
       "      <td>3NEG</td>\n",
       "      <td>344</td>\n",
       "    </tr>\n",
       "  </tbody>\n",
       "</table>\n",
       "</div>"
      ],
      "text/plain": [
       "  preverb  frequency\n",
       "0    PROG       1629\n",
       "1     PST       1333\n",
       "2    INCH        835\n",
       "3    ITER        783\n",
       "4    3NEG        344"
      ]
     },
     "execution_count": 22,
     "metadata": {},
     "output_type": "execute_result"
    }
   ],
   "source": [
    "allpreverbs_frequencies = collections.Counter(allpreverbs)\n",
    "allpreverbs_frequencies = pd.DataFrame.from_dict(allpreverbs_frequencies,orient='index',columns=['frequency'])\n",
    "allpreverbs_frequencies = allpreverbs_frequencies.sort_values('frequency',ascending=False).reset_index().rename(columns={'index':'preverb'})\n",
    "allpreverbs_frequencies.head()"
   ]
  },
  {
   "cell_type": "code",
   "execution_count": 33,
   "id": "c01ffaa7",
   "metadata": {},
   "outputs": [],
   "source": [
    "allpreverbs_frequencies.to_csv('../results/allpreverbs_frequencies.txt',sep='\\t',index=None)\n",
    "#allpreverbs_frequencies.to_clipboard(index=None)"
   ]
  },
  {
   "cell_type": "code",
   "execution_count": 25,
   "id": "86de0471",
   "metadata": {},
   "outputs": [],
   "source": [
    "def getPreverbsPairs(dataset):\n",
    "    try:\n",
    "        author_wordpairs = [[getWordPairs(_) for _ in dataset[k]['english_preverbs'] if len(_) >= 2] for k in dataset.keys()]\n",
    "        author_wordpairs = sum(author_wordpairs,[])\n",
    "        return author_wordpairs\n",
    "    except:\n",
    "        return []"
   ]
  },
  {
   "cell_type": "code",
   "execution_count": 27,
   "id": "21ad9e73",
   "metadata": {},
   "outputs": [],
   "source": [
    "kroeber_preverbPairs = getPreverbsPairs(kroeber_processed)\n",
    "teeter_preverbPairs = getPreverbsPairs(teeter_processed)\n",
    "reichard_preverbPairs = getPreverbsPairs(reichard_processed)"
   ]
  },
  {
   "cell_type": "code",
   "execution_count": 28,
   "id": "7e2a68f5",
   "metadata": {},
   "outputs": [],
   "source": [
    "allPreverbPairs = sum(kroeber_preverbPairs + teeter_preverbPairs + reichard_preverbPairs,[])"
   ]
  },
  {
   "cell_type": "code",
   "execution_count": 29,
   "id": "0883f885",
   "metadata": {},
   "outputs": [],
   "source": [
    "allpreverbs_wordPair_frequencies = collections.Counter(allPreverbPairs)\n",
    "allpreverbs_wordPair_frequencies = pd.DataFrame.from_dict(allpreverbs_wordPair_frequencies,orient='index',columns=['frequency'])\n",
    "allpreverbs_wordPair_frequencies = allpreverbs_wordPair_frequencies.sort_values('frequency',ascending=False).reset_index().rename(columns={'index':'preverb_pair'})\n",
    "allpreverbs_wordPair_frequencies.insert(0,'word_1',allpreverbs_wordPair_frequencies['preverb_pair'].map(lambda x: x.split('|')[0]))\n",
    "allpreverbs_wordPair_frequencies.insert(1,'word_2',allpreverbs_wordPair_frequencies['preverb_pair'].map(lambda x: x.split('|')[1]))\n",
    "allpreverbs_wordPair_frequencies.head()\n",
    "allpreverbs_wordPair_frequencies.to_csv('../results/allpreverbs_pairs_frequencies.txt',sep='\\t',index=None)"
   ]
  },
  {
   "cell_type": "code",
   "execution_count": 30,
   "id": "8ab9a9b9",
   "metadata": {},
   "outputs": [],
   "source": [
    "allpreverbs_wordPair_frequencies.to_clipboard(index=None) #Copy to shared Google sheet\n",
    "### https://docs.google.com/spreadsheets/d/1nGYuJ1dr3s8la8gHm9hywFS3CJgd1_DfLYnOBWrAbfQ/edit#gid=1161947669"
   ]
  },
  {
   "cell_type": "code",
   "execution_count": 31,
   "id": "0c464d67",
   "metadata": {},
   "outputs": [
    {
     "data": {
      "text/plain": [
       "702"
      ]
     },
     "execution_count": 31,
     "metadata": {},
     "output_type": "execute_result"
    }
   ],
   "source": [
    "len(allpreverbs_wordPair_frequencies)"
   ]
  },
  {
   "cell_type": "code",
   "execution_count": 32,
   "id": "e9819a44",
   "metadata": {},
   "outputs": [
    {
     "data": {
      "text/html": [
       "<div>\n",
       "<style scoped>\n",
       "    .dataframe tbody tr th:only-of-type {\n",
       "        vertical-align: middle;\n",
       "    }\n",
       "\n",
       "    .dataframe tbody tr th {\n",
       "        vertical-align: top;\n",
       "    }\n",
       "\n",
       "    .dataframe thead th {\n",
       "        text-align: right;\n",
       "    }\n",
       "</style>\n",
       "<table border=\"1\" class=\"dataframe\">\n",
       "  <thead>\n",
       "    <tr style=\"text-align: right;\">\n",
       "      <th></th>\n",
       "      <th>word_1</th>\n",
       "      <th>word_2</th>\n",
       "      <th>preverb_pair</th>\n",
       "      <th>frequency</th>\n",
       "    </tr>\n",
       "  </thead>\n",
       "  <tbody>\n",
       "    <tr>\n",
       "      <th>697</th>\n",
       "      <td>PROB</td>\n",
       "      <td>then.2</td>\n",
       "      <td>PROB|then.2</td>\n",
       "      <td>1</td>\n",
       "    </tr>\n",
       "    <tr>\n",
       "      <th>698</th>\n",
       "      <td>PL</td>\n",
       "      <td>thoroughly</td>\n",
       "      <td>PL|thoroughly</td>\n",
       "      <td>1</td>\n",
       "    </tr>\n",
       "    <tr>\n",
       "      <th>699</th>\n",
       "      <td>3NEG</td>\n",
       "      <td>then</td>\n",
       "      <td>3NEG|then</td>\n",
       "      <td>1</td>\n",
       "    </tr>\n",
       "    <tr>\n",
       "      <th>700</th>\n",
       "      <td>first</td>\n",
       "      <td>all</td>\n",
       "      <td>first|all</td>\n",
       "      <td>1</td>\n",
       "    </tr>\n",
       "    <tr>\n",
       "      <th>701</th>\n",
       "      <td>ITER</td>\n",
       "      <td>thoroughly.2</td>\n",
       "      <td>ITER|thoroughly.2</td>\n",
       "      <td>1</td>\n",
       "    </tr>\n",
       "  </tbody>\n",
       "</table>\n",
       "</div>"
      ],
      "text/plain": [
       "    word_1        word_2       preverb_pair  frequency\n",
       "697   PROB        then.2        PROB|then.2          1\n",
       "698     PL    thoroughly      PL|thoroughly          1\n",
       "699   3NEG          then          3NEG|then          1\n",
       "700  first           all          first|all          1\n",
       "701   ITER  thoroughly.2  ITER|thoroughly.2          1"
      ]
     },
     "execution_count": 32,
     "metadata": {},
     "output_type": "execute_result"
    }
   ],
   "source": [
    "allpreverbs_wordPair_frequencies.tail()"
   ]
  },
  {
   "cell_type": "markdown",
   "id": "f3db96e1",
   "metadata": {},
   "source": [
    "#### Preverb hierarchy"
   ]
  },
  {
   "cell_type": "code",
   "execution_count": 52,
   "id": "7712fa2a",
   "metadata": {},
   "outputs": [
    {
     "data": {
      "text/html": [
       "<div>\n",
       "<style scoped>\n",
       "    .dataframe tbody tr th:only-of-type {\n",
       "        vertical-align: middle;\n",
       "    }\n",
       "\n",
       "    .dataframe tbody tr th {\n",
       "        vertical-align: top;\n",
       "    }\n",
       "\n",
       "    .dataframe thead th {\n",
       "        text-align: right;\n",
       "    }\n",
       "</style>\n",
       "<table border=\"1\" class=\"dataframe\">\n",
       "  <thead>\n",
       "    <tr style=\"text-align: right;\">\n",
       "      <th></th>\n",
       "      <th>preverb</th>\n",
       "      <th>Class</th>\n",
       "      <th>Level</th>\n",
       "    </tr>\n",
       "  </thead>\n",
       "  <tbody>\n",
       "    <tr>\n",
       "      <th>0</th>\n",
       "      <td>PST</td>\n",
       "      <td>I</td>\n",
       "      <td>1</td>\n",
       "    </tr>\n",
       "    <tr>\n",
       "      <th>1</th>\n",
       "      <td>already</td>\n",
       "      <td>I</td>\n",
       "      <td>1</td>\n",
       "    </tr>\n",
       "    <tr>\n",
       "      <th>2</th>\n",
       "      <td>EMPH</td>\n",
       "      <td>I</td>\n",
       "      <td>1</td>\n",
       "    </tr>\n",
       "    <tr>\n",
       "      <th>3</th>\n",
       "      <td>PROG</td>\n",
       "      <td>I</td>\n",
       "      <td>1</td>\n",
       "    </tr>\n",
       "    <tr>\n",
       "      <th>4</th>\n",
       "      <td>then</td>\n",
       "      <td>I</td>\n",
       "      <td>1</td>\n",
       "    </tr>\n",
       "  </tbody>\n",
       "</table>\n",
       "</div>"
      ],
      "text/plain": [
       "   preverb Class  Level\n",
       "0      PST     I      1\n",
       "1  already     I      1\n",
       "2     EMPH     I      1\n",
       "3     PROG     I      1\n",
       "4     then     I      1"
      ]
     },
     "execution_count": 52,
     "metadata": {},
     "output_type": "execute_result"
    }
   ],
   "source": [
    "preverbhierarchy = pd.read_csv('../data/preverbhierarchy.tsv',sep='\\t')\n",
    "preverbhierarchy.head()"
   ]
  },
  {
   "cell_type": "code",
   "execution_count": 132,
   "id": "0da0cf51",
   "metadata": {},
   "outputs": [],
   "source": [
    "preverb2level = dict(zip(preverbhierarchy['preverb'],preverbhierarchy['Level']))\n",
    "preverb2class = dict(zip(preverbhierarchy['preverb'],preverbhierarchy['Class']))"
   ]
  },
  {
   "cell_type": "code",
   "execution_count": null,
   "id": "d93c99eb",
   "metadata": {},
   "outputs": [],
   "source": []
  },
  {
   "cell_type": "code",
   "execution_count": 39,
   "id": "470557ea",
   "metadata": {},
   "outputs": [],
   "source": [
    "def getPreverbs(dataset):\n",
    "    try:\n",
    "        #dPrev = {k:v['english_preverbs'] for k,v in dataset.items()}\n",
    "        #return pd.DataFrame.from_dict(dPrev,orient='index')\n",
    "        author_preverbs = [dataset[k]['english_preverbs'] for k in dataset.keys()]\n",
    "        #author_preverbs = sum(sum(author_preverbs,[]),[])\n",
    "        return author_preverbs\n",
    "    except:\n",
    "        return []"
   ]
  },
  {
   "cell_type": "code",
   "execution_count": 120,
   "id": "de8afda7",
   "metadata": {},
   "outputs": [],
   "source": [
    "checkpos = lambda x,y: x <= y\n",
    "### checkpos(1,2),checkpos(5,2) #test\n",
    "def checkSequenceClass(classseq):\n",
    "    if len(classseq) > 1:\n",
    "        res = all([checkpos(classseq[i-1],classseq[i]) for i in range(1,len(classseq))])\n",
    "    else:\n",
    "        res = None\n",
    "    return res\n"
   ]
  },
  {
   "cell_type": "code",
   "execution_count": 76,
   "id": "7056990a",
   "metadata": {},
   "outputs": [
    {
     "data": {
      "text/plain": [
       "dict_keys(['wiyot', 'english_original', 'english_clean', 'english_preverbs', 'wordPairs'])"
      ]
     },
     "execution_count": 76,
     "metadata": {},
     "output_type": "execute_result"
    }
   ],
   "source": [
    "reichard_processed['Sample Text'].keys()"
   ]
  },
  {
   "cell_type": "markdown",
   "id": "605499ec",
   "metadata": {},
   "source": [
    "### PoC for sample text"
   ]
  },
  {
   "cell_type": "code",
   "execution_count": 150,
   "id": "3b394376",
   "metadata": {},
   "outputs": [
    {
     "data": {
      "text/plain": [
       "dict_keys(['Sample Text', '1. Nettle Medicine', \"2. Wolf's Home\", '3. Spring Maiden', '4. Curlew', '5. North Wind', '6. Killer Whale', '7. Above-Old-Man', '8. Southwest-Young-Man Looks...', '9. Flute', '10. Owl and Coyote Smoke', '11. The Man Who Became a Woman', '12. Southwest-Young-Man Marries', '13. He-Who-Was-Dug-Up', '14. The Brother Who Became A...', '15. Slug', '16. Panther and Coyote', '17. Owl', '18. Aldebaran', '19. The Flood', \"20. Eagle's Children Turn to...\", '21. Coyote Gets Married', '22. Northwest-Young-Man', '23. Twine-Eater', '24. Frog and Sand Cricket', '25. The Sky Falls', '26. Coyote and Steelhead', '27. Morning Star', '28. Cormorant', '29. Wildcat Gets Caught', '30. Southeast-Old-Man', '31. Sleepy-Head', '32. Coyote and Panther (2)', '33. Coyote and the Bears', '34. Coyote and the Brodiaea...', '35. Sea Lion and Grizzly Bear', '36. Coyote Returns from the Sky', '37. Southwest-Young-Man Love...', \"38. Wood's Devil\", '39. Túthabił', '40. Big Lagoon', \"41. Children's Story\", '42. Woods Devil Laughs Him...', '43. Love Medicine', '44. The Siblings', '45. Informal Conversation 1', '46. Informal Conversation 2', '47. Informal Conversation 3', '48. Fox Text 1', '49. Fox Text 2'])"
      ]
     },
     "execution_count": 150,
     "metadata": {},
     "output_type": "execute_result"
    }
   ],
   "source": [
    "reichard_processed.keys()"
   ]
  },
  {
   "cell_type": "code",
   "execution_count": 184,
   "id": "3f946f79",
   "metadata": {},
   "outputs": [],
   "source": [
    "def checkPreverbHierachy(author_processed):\n",
    "    author = dict()\n",
    "    for story in author_processed.keys(): \n",
    "        storyXwiyotOriginal = author_processed[story]['wiyot']\n",
    "        storyXenglishOriginal = author_processed[story]['english_original']\n",
    "        storyXpreverb = author_processed[story]['english_preverbs']\n",
    "        results = []\n",
    "        for i in range(len(storyXpreverb)):\n",
    "            tmp = storyXpreverb[i]\n",
    "            tmp_sublevel = [preverb2level[_] for _ in tmp if preverb2level.get(_) is not None]\n",
    "            tmp_subclass = [preverb2class[_] if preverb2level.get(_) is not None else 0 for _ in tmp ]\n",
    "\n",
    "            hierearchyresults = checkSequenceClass(tmp_sublevel)\n",
    "            results.append([storyXwiyotOriginal[i],storyXenglishOriginal[i],hierearchyresults,tmp_subclass])\n",
    "        resultsDF = pd.DataFrame(results,columns=['Wiyot','English','Hierarchy','Levels'])\n",
    "\n",
    "        resultsDF['story'] = [story] * len(resultsDF)\n",
    "        author[story] = resultsDF\n",
    "    allstories = pd.concat(author.values())\n",
    "    return allstories"
   ]
  },
  {
   "cell_type": "code",
   "execution_count": 191,
   "id": "7ac05c86",
   "metadata": {},
   "outputs": [
    {
     "data": {
      "text/html": [
       "<div>\n",
       "<style scoped>\n",
       "    .dataframe tbody tr th:only-of-type {\n",
       "        vertical-align: middle;\n",
       "    }\n",
       "\n",
       "    .dataframe tbody tr th {\n",
       "        vertical-align: top;\n",
       "    }\n",
       "\n",
       "    .dataframe thead th {\n",
       "        text-align: right;\n",
       "    }\n",
       "</style>\n",
       "<table border=\"1\" class=\"dataframe\">\n",
       "  <thead>\n",
       "    <tr style=\"text-align: right;\">\n",
       "      <th></th>\n",
       "      <th>Hierarchy</th>\n",
       "      <th>n</th>\n",
       "    </tr>\n",
       "  </thead>\n",
       "  <tbody>\n",
       "    <tr>\n",
       "      <th>0</th>\n",
       "      <td>False</td>\n",
       "      <td>317</td>\n",
       "    </tr>\n",
       "    <tr>\n",
       "      <th>1</th>\n",
       "      <td>True</td>\n",
       "      <td>624</td>\n",
       "    </tr>\n",
       "  </tbody>\n",
       "</table>\n",
       "</div>"
      ],
      "text/plain": [
       "   Hierarchy    n\n",
       "0      False  317\n",
       "1       True  624"
      ]
     },
     "execution_count": 191,
     "metadata": {},
     "output_type": "execute_result"
    }
   ],
   "source": [
    "reichard_classseq = checkPreverbHierachy(reichard_processed)\n",
    "reichard_classseq.groupby('Hierarchy').size().reset_index().rename(columns={0:'n'})"
   ]
  },
  {
   "cell_type": "code",
   "execution_count": 189,
   "id": "174e35be",
   "metadata": {},
   "outputs": [
    {
     "data": {
      "text/html": [
       "<div>\n",
       "<style scoped>\n",
       "    .dataframe tbody tr th:only-of-type {\n",
       "        vertical-align: middle;\n",
       "    }\n",
       "\n",
       "    .dataframe tbody tr th {\n",
       "        vertical-align: top;\n",
       "    }\n",
       "\n",
       "    .dataframe thead th {\n",
       "        text-align: right;\n",
       "    }\n",
       "</style>\n",
       "<table border=\"1\" class=\"dataframe\">\n",
       "  <thead>\n",
       "    <tr style=\"text-align: right;\">\n",
       "      <th></th>\n",
       "      <th>Hierarchy</th>\n",
       "      <th>0</th>\n",
       "    </tr>\n",
       "  </thead>\n",
       "  <tbody>\n",
       "    <tr>\n",
       "      <th>0</th>\n",
       "      <td>False</td>\n",
       "      <td>375</td>\n",
       "    </tr>\n",
       "    <tr>\n",
       "      <th>1</th>\n",
       "      <td>True</td>\n",
       "      <td>708</td>\n",
       "    </tr>\n",
       "  </tbody>\n",
       "</table>\n",
       "</div>"
      ],
      "text/plain": [
       "   Hierarchy    0\n",
       "0      False  375\n",
       "1       True  708"
      ]
     },
     "execution_count": 189,
     "metadata": {},
     "output_type": "execute_result"
    }
   ],
   "source": [
    "teeter_classseq = checkPreverbHierachy(teeter_processed)\n",
    "teeter_classseq.groupby('Hierarchy').size().reset_index().rename(columns={0:'n'})"
   ]
  },
  {
   "cell_type": "code",
   "execution_count": 192,
   "id": "ce502617",
   "metadata": {
    "scrolled": true
   },
   "outputs": [
    {
     "data": {
      "text/html": [
       "<div>\n",
       "<style scoped>\n",
       "    .dataframe tbody tr th:only-of-type {\n",
       "        vertical-align: middle;\n",
       "    }\n",
       "\n",
       "    .dataframe tbody tr th {\n",
       "        vertical-align: top;\n",
       "    }\n",
       "\n",
       "    .dataframe thead th {\n",
       "        text-align: right;\n",
       "    }\n",
       "</style>\n",
       "<table border=\"1\" class=\"dataframe\">\n",
       "  <thead>\n",
       "    <tr style=\"text-align: right;\">\n",
       "      <th></th>\n",
       "      <th>Hierarchy</th>\n",
       "      <th>n</th>\n",
       "    </tr>\n",
       "  </thead>\n",
       "  <tbody>\n",
       "    <tr>\n",
       "      <th>0</th>\n",
       "      <td>False</td>\n",
       "      <td>5</td>\n",
       "    </tr>\n",
       "    <tr>\n",
       "      <th>1</th>\n",
       "      <td>True</td>\n",
       "      <td>17</td>\n",
       "    </tr>\n",
       "  </tbody>\n",
       "</table>\n",
       "</div>"
      ],
      "text/plain": [
       "   Hierarchy   n\n",
       "0      False   5\n",
       "1       True  17"
      ]
     },
     "execution_count": 192,
     "metadata": {},
     "output_type": "execute_result"
    }
   ],
   "source": [
    "kroeber_classseq = checkPreverbHierachy(kroeber_processed)\n",
    "kroeber_classseq.groupby('Hierarchy').size().reset_index().rename(columns={0:'n'})"
   ]
  },
  {
   "cell_type": "code",
   "execution_count": 196,
   "id": "85abc909",
   "metadata": {},
   "outputs": [],
   "source": [
    "reichard_classseq['author'] = 'reichard'\n",
    "kroeber_classseq['author'] = 'kroeber'\n",
    "teeter_classseq['author'] = 'teeter'"
   ]
  },
  {
   "cell_type": "code",
   "execution_count": 202,
   "id": "c1a6c1c5",
   "metadata": {},
   "outputs": [],
   "source": [
    "allauthors = pd.concat([reichard_classseq,kroeber_classseq,teeter_classseq])\n",
    "#allauthors.to_clipboard()"
   ]
  },
  {
   "cell_type": "code",
   "execution_count": 201,
   "id": "701c808f",
   "metadata": {},
   "outputs": [
    {
     "data": {
      "text/html": [
       "<div>\n",
       "<style scoped>\n",
       "    .dataframe tbody tr th:only-of-type {\n",
       "        vertical-align: middle;\n",
       "    }\n",
       "\n",
       "    .dataframe tbody tr th {\n",
       "        vertical-align: top;\n",
       "    }\n",
       "\n",
       "    .dataframe thead th {\n",
       "        text-align: right;\n",
       "    }\n",
       "</style>\n",
       "<table border=\"1\" class=\"dataframe\">\n",
       "  <thead>\n",
       "    <tr style=\"text-align: right;\">\n",
       "      <th></th>\n",
       "      <th>author</th>\n",
       "      <th>Hierarchy</th>\n",
       "      <th>n</th>\n",
       "    </tr>\n",
       "  </thead>\n",
       "  <tbody>\n",
       "    <tr>\n",
       "      <th>0</th>\n",
       "      <td>kroeber</td>\n",
       "      <td>False</td>\n",
       "      <td>5</td>\n",
       "    </tr>\n",
       "    <tr>\n",
       "      <th>1</th>\n",
       "      <td>kroeber</td>\n",
       "      <td>True</td>\n",
       "      <td>17</td>\n",
       "    </tr>\n",
       "    <tr>\n",
       "      <th>2</th>\n",
       "      <td>reichard</td>\n",
       "      <td>False</td>\n",
       "      <td>317</td>\n",
       "    </tr>\n",
       "    <tr>\n",
       "      <th>3</th>\n",
       "      <td>reichard</td>\n",
       "      <td>True</td>\n",
       "      <td>624</td>\n",
       "    </tr>\n",
       "    <tr>\n",
       "      <th>4</th>\n",
       "      <td>teeter</td>\n",
       "      <td>False</td>\n",
       "      <td>375</td>\n",
       "    </tr>\n",
       "    <tr>\n",
       "      <th>5</th>\n",
       "      <td>teeter</td>\n",
       "      <td>True</td>\n",
       "      <td>708</td>\n",
       "    </tr>\n",
       "  </tbody>\n",
       "</table>\n",
       "</div>"
      ],
      "text/plain": [
       "     author  Hierarchy    n\n",
       "0   kroeber      False    5\n",
       "1   kroeber       True   17\n",
       "2  reichard      False  317\n",
       "3  reichard       True  624\n",
       "4    teeter      False  375\n",
       "5    teeter       True  708"
      ]
     },
     "execution_count": 201,
     "metadata": {},
     "output_type": "execute_result"
    }
   ],
   "source": [
    "allauthors.groupby(['author','Hierarchy']).size().reset_index().rename(columns={0:'n'})"
   ]
  },
  {
   "cell_type": "code",
   "execution_count": 203,
   "id": "a1c5be66",
   "metadata": {},
   "outputs": [
    {
     "data": {
      "text/html": [
       "<div>\n",
       "<style scoped>\n",
       "    .dataframe tbody tr th:only-of-type {\n",
       "        vertical-align: middle;\n",
       "    }\n",
       "\n",
       "    .dataframe tbody tr th {\n",
       "        vertical-align: top;\n",
       "    }\n",
       "\n",
       "    .dataframe thead th {\n",
       "        text-align: right;\n",
       "    }\n",
       "</style>\n",
       "<table border=\"1\" class=\"dataframe\">\n",
       "  <thead>\n",
       "    <tr style=\"text-align: right;\">\n",
       "      <th></th>\n",
       "      <th>Hierarchy</th>\n",
       "      <th>n</th>\n",
       "    </tr>\n",
       "  </thead>\n",
       "  <tbody>\n",
       "    <tr>\n",
       "      <th>0</th>\n",
       "      <td>False</td>\n",
       "      <td>697</td>\n",
       "    </tr>\n",
       "    <tr>\n",
       "      <th>1</th>\n",
       "      <td>True</td>\n",
       "      <td>1349</td>\n",
       "    </tr>\n",
       "  </tbody>\n",
       "</table>\n",
       "</div>"
      ],
      "text/plain": [
       "   Hierarchy     n\n",
       "0      False   697\n",
       "1       True  1349"
      ]
     },
     "execution_count": 203,
     "metadata": {},
     "output_type": "execute_result"
    }
   ],
   "source": [
    "allauthors.groupby(['Hierarchy']).size().reset_index().rename(columns={0:'n'})"
   ]
  },
  {
   "cell_type": "code",
   "execution_count": 204,
   "id": "1501ba63",
   "metadata": {},
   "outputs": [
    {
     "data": {
      "text/plain": [
       "(1349, 2046)"
      ]
     },
     "execution_count": 204,
     "metadata": {},
     "output_type": "execute_result"
    }
   ],
   "source": [
    "1349, 1349+697"
   ]
  },
  {
   "cell_type": "code",
   "execution_count": null,
   "id": "7e887c3f",
   "metadata": {},
   "outputs": [],
   "source": []
  }
 ],
 "metadata": {
  "kernelspec": {
   "display_name": "Python 3 (ipykernel)",
   "language": "python",
   "name": "python3"
  },
  "language_info": {
   "codemirror_mode": {
    "name": "ipython",
    "version": 3
   },
   "file_extension": ".py",
   "mimetype": "text/x-python",
   "name": "python",
   "nbconvert_exporter": "python",
   "pygments_lexer": "ipython3",
   "version": "3.9.6"
  },
  "varInspector": {
   "cols": {
    "lenName": 16,
    "lenType": 16,
    "lenVar": 40
   },
   "kernels_config": {
    "python": {
     "delete_cmd_postfix": "",
     "delete_cmd_prefix": "del ",
     "library": "var_list.py",
     "varRefreshCmd": "print(var_dic_list())"
    },
    "r": {
     "delete_cmd_postfix": ") ",
     "delete_cmd_prefix": "rm(",
     "library": "var_list.r",
     "varRefreshCmd": "cat(var_dic_list()) "
    }
   },
   "types_to_exclude": [
    "module",
    "function",
    "builtin_function_or_method",
    "instance",
    "_Feature"
   ],
   "window_display": false
  }
 },
 "nbformat": 4,
 "nbformat_minor": 5
}
